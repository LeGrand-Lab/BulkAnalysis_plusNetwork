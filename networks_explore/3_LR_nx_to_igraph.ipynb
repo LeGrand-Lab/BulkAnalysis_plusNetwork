{
 "cells": [
  {
   "cell_type": "markdown",
   "metadata": {},
   "source": [
    "## Save interoperable igraph objects,\n",
    " Requires networkx objects dictionnary saved by `LR_networks_all.ipynb`"
   ]
  },
  {
   "cell_type": "code",
   "execution_count": 1,
   "metadata": {},
   "outputs": [],
   "source": [
    "import os\n",
    "import pickle\n",
    "import networkx as nx\n",
    "import igraph as ig"
   ]
  },
  {
   "cell_type": "code",
   "execution_count": 2,
   "metadata": {},
   "outputs": [],
   "source": [
    "outdir = \"graphobjs/\""
   ]
  },
  {
   "cell_type": "code",
   "execution_count": 3,
   "metadata": {},
   "outputs": [
    {
     "name": "stdout",
     "output_type": "stream",
     "text": [
      "/home/johanna/BulkAnalysis_plusNetwork/networks_explore\n"
     ]
    }
   ],
   "source": [
    "print(os.getcwd())"
   ]
  },
  {
   "cell_type": "code",
   "execution_count": 6,
   "metadata": {
    "scrolled": true
   },
   "outputs": [],
   "source": [
    "dx = pickle.load(open(f\"{outdir}dictio_dx_filtered.p\", \"rb\"))"
   ]
  },
  {
   "cell_type": "code",
   "execution_count": 7,
   "metadata": {},
   "outputs": [
    {
     "name": "stdout",
     "output_type": "stream",
     "text": [
      "<class 'networkx.classes.digraph.DiGraph'>\n"
     ]
    }
   ],
   "source": [
    "print(type(dx['Young']['D4']))"
   ]
  },
  {
   "cell_type": "code",
   "execution_count": 8,
   "metadata": {},
   "outputs": [],
   "source": [
    "test_y_d4 = ig.Graph.from_networkx(dx['Young']['D4'])"
   ]
  },
  {
   "cell_type": "code",
   "execution_count": 9,
   "metadata": {},
   "outputs": [
    {
     "name": "stdout",
     "output_type": "stream",
     "text": [
      "True\n"
     ]
    }
   ],
   "source": [
    "print(test_y_d4.is_directed())"
   ]
  },
  {
   "cell_type": "code",
   "execution_count": 10,
   "metadata": {
    "scrolled": true
   },
   "outputs": [
    {
     "name": "stdout",
     "output_type": "stream",
     "text": [
      "False\n"
     ]
    }
   ],
   "source": [
    "print(test_y_d4.is_connected(mode=\"weak\"))"
   ]
  },
  {
   "cell_type": "markdown",
   "metadata": {},
   "source": [
    "### Important to keep in mind ! :\n",
    "For some operations, networkx is more robust than igraph (for example, for transformating into undirected graph, or checking number of connected components for directed graph)"
   ]
  },
  {
   "cell_type": "code",
   "execution_count": 11,
   "metadata": {},
   "outputs": [],
   "source": [
    "test_ig_ud = test_y_d4.to_undirected(mode='collapse', combine_edges=max)"
   ]
  },
  {
   "cell_type": "code",
   "execution_count": 12,
   "metadata": {
    "scrolled": true
   },
   "outputs": [
    {
     "name": "stdout",
     "output_type": "stream",
     "text": [
      "<class 'NoneType'>\n"
     ]
    }
   ],
   "source": [
    "print(type(test_ig_ud))  # failed operation convert into undirected with igraph"
   ]
  },
  {
   "cell_type": "code",
   "execution_count": 13,
   "metadata": {},
   "outputs": [],
   "source": [
    "# testing conversion to undirected on networkx\n",
    "nx_undirected = dx['Young']['D4'].to_undirected()"
   ]
  },
  {
   "cell_type": "code",
   "execution_count": 14,
   "metadata": {},
   "outputs": [
    {
     "name": "stdout",
     "output_type": "stream",
     "text": [
      "<class 'networkx.classes.graph.Graph'>\n"
     ]
    }
   ],
   "source": [
    "print(type(nx_undirected)) # success convert into undirected with networkx"
   ]
  },
  {
   "cell_type": "code",
   "execution_count": 15,
   "metadata": {},
   "outputs": [
    {
     "name": "stdout",
     "output_type": "stream",
     "text": [
      "1973\n"
     ]
    }
   ],
   "source": [
    "print(nx.number_strongly_connected_components(dx['Young']['D4']))  # with networkx on directed graph"
   ]
  },
  {
   "cell_type": "markdown",
   "metadata": {},
   "source": [
    "<div class=\"alert alert-block alert-danger\">\n",
    "<b>CAUTION:</b> our \"graphs\" are unconnected, we expect for each \"graph\" object ~ 1000 connected components, most of them being of very small size (two is the minimum size, one L-R pair)\n",
    "</div> "
   ]
  },
  {
   "cell_type": "code",
   "execution_count": 16,
   "metadata": {},
   "outputs": [
    {
     "name": "stdout",
     "output_type": "stream",
     "text": [
      "you knew that this function was only possible on UNDIRECTED graph, documentation said\n"
     ]
    }
   ],
   "source": [
    "try:\n",
    "    gg = max(nx.connected_components(dx['Young']['D4']), key=len)\n",
    "except:\n",
    "    print(\"you knew that this function was only possible on UNDIRECTED graph, documentation said\")\n",
    "#https://stackoverflow.com/questions/26105764/how-do-i-get-the-giant-component-of-a-networkx-graph"
   ]
  },
  {
   "cell_type": "code",
   "execution_count": 17,
   "metadata": {},
   "outputs": [],
   "source": [
    "try:\n",
    "    gg = max(nx.connected_components(nx_undirected), key=len)\n",
    "except:\n",
    "    print(\"you knew that this function was only possible on directed graph, documentation said\")"
   ]
  },
  {
   "cell_type": "code",
   "execution_count": 18,
   "metadata": {},
   "outputs": [
    {
     "name": "stdout",
     "output_type": "stream",
     "text": [
      "here the first 5 nodes of the biggest connected component:  ['Spon1_FAPs', 'Epha3_FAPs', 'S100a8_Resolving-Mac', 'Siglec1_Inflammatory-Mac', 'Gm13306_MuSCs']\n",
      "and the TOTAL number of nodes of this biggest connected component : 1509\n"
     ]
    }
   ],
   "source": [
    "n = 5\n",
    "print(f'here the first {n} nodes of the biggest connected component:  {list(gg)[:n]}')\n",
    "print(f'and the TOTAL number of nodes of this biggest connected component : {len(gg)}')\n",
    "      "
   ]
  },
  {
   "cell_type": "markdown",
   "metadata": {},
   "source": [
    "### For shiny viz purposes, export igraph objects"
   ]
  },
  {
   "cell_type": "code",
   "execution_count": 19,
   "metadata": {},
   "outputs": [
    {
     "name": "stdout",
     "output_type": "stream",
     "text": [
      "Young\n",
      "Old\n"
     ]
    }
   ],
   "source": [
    "for age in dx.keys():\n",
    "    print(age)\n",
    "    for day in dx[age].keys():\n",
    "        tmp_igraph = ig.Graph.from_networkx(dx[age][day])\n",
    "        tmp_igraph.write_graphml(f'{outdir}{age}_{day}_igraph.ml')\n",
    "        "
   ]
  },
  {
   "cell_type": "code",
   "execution_count": null,
   "metadata": {},
   "outputs": [],
   "source": []
  },
  {
   "cell_type": "code",
   "execution_count": null,
   "metadata": {},
   "outputs": [],
   "source": []
  },
  {
   "cell_type": "code",
   "execution_count": null,
   "metadata": {},
   "outputs": [],
   "source": []
  }
 ],
 "metadata": {
  "kernelspec": {
   "display_name": "Python 3 (ipykernel)",
   "language": "python",
   "name": "python3"
  },
  "language_info": {
   "codemirror_mode": {
    "name": "ipython",
    "version": 3
   },
   "file_extension": ".py",
   "mimetype": "text/x-python",
   "name": "python",
   "nbconvert_exporter": "python",
   "pygments_lexer": "ipython3",
   "version": "3.9.12"
  }
 },
 "nbformat": 4,
 "nbformat_minor": 4
}
