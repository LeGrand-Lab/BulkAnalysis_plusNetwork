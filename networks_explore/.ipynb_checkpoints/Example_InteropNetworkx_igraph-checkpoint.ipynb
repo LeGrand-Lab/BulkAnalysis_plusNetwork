{
 "cells": [
  {
   "cell_type": "markdown",
   "metadata": {},
   "source": [
    "# This is a minimal example to export Networkx object into igraph\n",
    "## also tests for different filtering\n",
    "#### and saves interoperable graph object it into .ml file"
   ]
  },
  {
   "cell_type": "code",
   "execution_count": 2,
   "metadata": {},
   "outputs": [],
   "source": [
    "import os\n",
    "import numpy as np\n",
    "import matplotlib as mpl\n",
    "import matplotlib.pyplot as plt\n",
    "import networkx as nx\n",
    "import pandas as pd\n",
    "import matplotlib.patches as mpatches\n",
    "from scipy import stats\n",
    "import pylab as pyl"
   ]
  },
  {
   "cell_type": "code",
   "execution_count": 7,
   "metadata": {},
   "outputs": [
    {
     "name": "stdout",
     "output_type": "stream",
     "text": [
      "/home/johanna/BulkAnalysis_plusNetwork/networks_explore\n"
     ]
    },
    {
     "data": {
      "text/html": [
       "<div>\n",
       "<style scoped>\n",
       "    .dataframe tbody tr th:only-of-type {\n",
       "        vertical-align: middle;\n",
       "    }\n",
       "\n",
       "    .dataframe tbody tr th {\n",
       "        vertical-align: top;\n",
       "    }\n",
       "\n",
       "    .dataframe thead th {\n",
       "        text-align: right;\n",
       "    }\n",
       "</style>\n",
       "<table border=\"1\" class=\"dataframe\">\n",
       "  <thead>\n",
       "    <tr style=\"text-align: right;\">\n",
       "      <th></th>\n",
       "      <th>Sending cluster</th>\n",
       "      <th>Ligand symbol</th>\n",
       "      <th>Receptor symbol</th>\n",
       "      <th>Target cluster</th>\n",
       "      <th>Ligand detection rate</th>\n",
       "      <th>Ligand average expression value</th>\n",
       "      <th>Ligand derived specificity of average expression value</th>\n",
       "      <th>Receptor detection rate</th>\n",
       "      <th>Receptor average expression value</th>\n",
       "      <th>Receptor derived specificity of average expression value</th>\n",
       "      <th>Edge average expression weight</th>\n",
       "      <th>Edge average expression derived specificity</th>\n",
       "    </tr>\n",
       "  </thead>\n",
       "  <tbody>\n",
       "    <tr>\n",
       "      <th>0</th>\n",
       "      <td>ECs</td>\n",
       "      <td>Agt</td>\n",
       "      <td>Mas1</td>\n",
       "      <td>FAPs</td>\n",
       "      <td>1.0</td>\n",
       "      <td>0.257198</td>\n",
       "      <td>0.196986</td>\n",
       "      <td>1.0</td>\n",
       "      <td>0.441391</td>\n",
       "      <td>0.184090</td>\n",
       "      <td>0.113525</td>\n",
       "      <td>0.036263</td>\n",
       "    </tr>\n",
       "    <tr>\n",
       "      <th>1</th>\n",
       "      <td>ECs</td>\n",
       "      <td>Agt</td>\n",
       "      <td>Mas1</td>\n",
       "      <td>Neutro</td>\n",
       "      <td>1.0</td>\n",
       "      <td>0.257198</td>\n",
       "      <td>0.196986</td>\n",
       "      <td>1.0</td>\n",
       "      <td>0.643158</td>\n",
       "      <td>0.268240</td>\n",
       "      <td>0.165419</td>\n",
       "      <td>0.052840</td>\n",
       "    </tr>\n",
       "    <tr>\n",
       "      <th>2</th>\n",
       "      <td>ECs</td>\n",
       "      <td>Agt</td>\n",
       "      <td>Mas1</td>\n",
       "      <td>sCs</td>\n",
       "      <td>1.0</td>\n",
       "      <td>0.257198</td>\n",
       "      <td>0.196986</td>\n",
       "      <td>1.0</td>\n",
       "      <td>0.778765</td>\n",
       "      <td>0.324798</td>\n",
       "      <td>0.200297</td>\n",
       "      <td>0.063981</td>\n",
       "    </tr>\n",
       "    <tr>\n",
       "      <th>3</th>\n",
       "      <td>FAPs</td>\n",
       "      <td>Agt</td>\n",
       "      <td>Mas1</td>\n",
       "      <td>FAPs</td>\n",
       "      <td>1.0</td>\n",
       "      <td>0.807212</td>\n",
       "      <td>0.618239</td>\n",
       "      <td>1.0</td>\n",
       "      <td>0.441391</td>\n",
       "      <td>0.184090</td>\n",
       "      <td>0.356296</td>\n",
       "      <td>0.113811</td>\n",
       "    </tr>\n",
       "    <tr>\n",
       "      <th>4</th>\n",
       "      <td>FAPs</td>\n",
       "      <td>Agt</td>\n",
       "      <td>Mas1</td>\n",
       "      <td>Neutro</td>\n",
       "      <td>1.0</td>\n",
       "      <td>0.807212</td>\n",
       "      <td>0.618239</td>\n",
       "      <td>1.0</td>\n",
       "      <td>0.643158</td>\n",
       "      <td>0.268240</td>\n",
       "      <td>0.519164</td>\n",
       "      <td>0.165836</td>\n",
       "    </tr>\n",
       "  </tbody>\n",
       "</table>\n",
       "</div>"
      ],
      "text/plain": [
       "  Sending cluster Ligand symbol Receptor symbol Target cluster  \\\n",
       "0             ECs           Agt            Mas1           FAPs   \n",
       "1             ECs           Agt            Mas1         Neutro   \n",
       "2             ECs           Agt            Mas1            sCs   \n",
       "3            FAPs           Agt            Mas1           FAPs   \n",
       "4            FAPs           Agt            Mas1         Neutro   \n",
       "\n",
       "   Ligand detection rate  Ligand average expression value  \\\n",
       "0                    1.0                         0.257198   \n",
       "1                    1.0                         0.257198   \n",
       "2                    1.0                         0.257198   \n",
       "3                    1.0                         0.807212   \n",
       "4                    1.0                         0.807212   \n",
       "\n",
       "   Ligand derived specificity of average expression value  \\\n",
       "0                                           0.196986        \n",
       "1                                           0.196986        \n",
       "2                                           0.196986        \n",
       "3                                           0.618239        \n",
       "4                                           0.618239        \n",
       "\n",
       "   Receptor detection rate  Receptor average expression value  \\\n",
       "0                      1.0                           0.441391   \n",
       "1                      1.0                           0.643158   \n",
       "2                      1.0                           0.778765   \n",
       "3                      1.0                           0.441391   \n",
       "4                      1.0                           0.643158   \n",
       "\n",
       "   Receptor derived specificity of average expression value  \\\n",
       "0                                           0.184090          \n",
       "1                                           0.268240          \n",
       "2                                           0.324798          \n",
       "3                                           0.184090          \n",
       "4                                           0.268240          \n",
       "\n",
       "   Edge average expression weight  Edge average expression derived specificity  \n",
       "0                        0.113525                                     0.036263  \n",
       "1                        0.165419                                     0.052840  \n",
       "2                        0.200297                                     0.063981  \n",
       "3                        0.356296                                     0.113811  \n",
       "4                        0.519164                                     0.165836  "
      ]
     },
     "execution_count": 7,
     "metadata": {},
     "output_type": "execute_result"
    }
   ],
   "source": [
    "myroot = \"~/BulkAnalysis_plusNetwork/natmiOut/\"\n",
    "\n",
    "print(os.getcwd())\n",
    "natmiVizOut = \"OldD2/Network_exp_0_spe_0_det_0.6_top_0_signal_lrc2p_weight_mean/\"\n",
    "tb = pd.read_csv(f'{myroot}{natmiVizOut}Edges.csv',sep=\",\", header=0)\n",
    "tb.head()"
   ]
  },
  {
   "cell_type": "code",
   "execution_count": 8,
   "metadata": {},
   "outputs": [],
   "source": [
    "# make UNIQUE the ligand and receptor names by combining celltype alongside\n",
    "tb['uniq_Ligand_symbol'] = tb['Ligand symbol'] + '_' + tb['Sending cluster']\n",
    "tb['uniq_Receptor_symbol'] = tb['Receptor symbol'] + '_' + tb['Target cluster']"
   ]
  },
  {
   "cell_type": "code",
   "execution_count": 9,
   "metadata": {},
   "outputs": [
    {
     "data": {
      "text/plain": [
       "(4466.833414666667, 2986.508748333333)"
      ]
     },
     "execution_count": 9,
     "metadata": {},
     "output_type": "execute_result"
    }
   ],
   "source": [
    "( max(tb['Ligand average expression value']), max(tb['Receptor average expression value']) )"
   ]
  },
  {
   "cell_type": "code",
   "execution_count": 10,
   "metadata": {},
   "outputs": [
    {
     "data": {
      "text/plain": [
       "-7.615993833841557"
      ]
     },
     "execution_count": 10,
     "metadata": {},
     "output_type": "execute_result"
    }
   ],
   "source": [
    "np.log10(min(tb['Edge average expression derived specificity']))"
   ]
  },
  {
   "cell_type": "code",
   "execution_count": 65,
   "metadata": {
    "scrolled": true
   },
   "outputs": [
    {
     "data": {
      "text/plain": [
       "Text(0.5, 1.0, 'EDGES SPECIFICITIES')"
      ]
     },
     "execution_count": 65,
     "metadata": {},
     "output_type": "execute_result"
    },
    {
     "data": {
      "image/png": "[encoded data removed]",
      "text/plain": [
       "<Figure size 432x288 with 1 Axes>"
      ]
     },
     "metadata": {
      "needs_background": "light"
     },
     "output_type": "display_data"
    }
   ],
   "source": [
    "# visualize 'Ligand derived specificity of average expression value'\n",
    "# and set cutoff\n",
    "\n",
    "plt.hist(np.log10(np.array(tb['Edge average expression derived specificity'])+1e-15), bins= 30, color=\"cadetblue\")\n",
    "plt.xlabel(\"log10 values+1e-15\")\n",
    "plt.ylabel(\"n\")\n",
    "plt.title(\"EDGES SPECIFICITIES\")"
   ]
  },
  {
   "cell_type": "code",
   "execution_count": 66,
   "metadata": {},
   "outputs": [
    {
     "data": {
      "text/plain": [
       "Text(0.5, 1.0, 'LIGAND SPECIFICITIES')"
      ]
     },
     "execution_count": 66,
     "metadata": {},
     "output_type": "execute_result"
    },
    {
     "data": {
      "image/png": "[encoded data removed]",
      "text/plain": [
       "<Figure size 432x288 with 1 Axes>"
      ]
     },
     "metadata": {
      "needs_background": "light"
     },
     "output_type": "display_data"
    }
   ],
   "source": [
    "plt.hist(tb['Ligand derived specificity of average expression value'], bins=30, color='purple')\n",
    "plt.xlabel(\"values\")\n",
    "plt.ylabel(\"n\")\n",
    "plt.title(\"LIGAND SPECIFICITIES\")\n"
   ]
  },
  {
   "cell_type": "code",
   "execution_count": 67,
   "metadata": {},
   "outputs": [
    {
     "data": {
      "text/plain": [
       "Text(0.5, 1.0, 'RECEPTOR SPECIFICITIES')"
      ]
     },
     "execution_count": 67,
     "metadata": {},
     "output_type": "execute_result"
    },
    {
     "data": {
      "image/png": "[encoded data removed]",
      "text/plain": [
       "<Figure size 432x288 with 1 Axes>"
      ]
     },
     "metadata": {
      "needs_background": "light"
     },
     "output_type": "display_data"
    }
   ],
   "source": [
    "plt.hist(tb['Receptor derived specificity of average expression value'], bins=30, color='green')\n",
    "plt.xlabel(\"values\")\n",
    "plt.ylabel(\"n\")\n",
    "plt.title(\"RECEPTOR SPECIFICITIES\")"
   ]
  },
  {
   "cell_type": "code",
   "execution_count": null,
   "metadata": {},
   "outputs": [],
   "source": []
  },
  {
   "cell_type": "markdown",
   "metadata": {},
   "source": [
    "### Testing filtering parameters"
   ]
  },
  {
   "cell_type": "markdown",
   "metadata": {},
   "source": [
    "<div class=\"alert alert-block alert-warning\">\n",
    "<b>Note:</b> testing cutoff on different criteria\n",
    "</div>"
   ]
  },
  {
   "cell_type": "code",
   "execution_count": 68,
   "metadata": {},
   "outputs": [],
   "source": [
    "tb_fi = tb[tb['Ligand derived specificity of average expression value'] >= 0.3] \n"
   ]
  },
  {
   "cell_type": "code",
   "execution_count": 69,
   "metadata": {},
   "outputs": [
    {
     "data": {
      "text/plain": [
       "(6993, 15)"
      ]
     },
     "execution_count": 69,
     "metadata": {},
     "output_type": "execute_result"
    }
   ],
   "source": [
    "tb_fi.shape"
   ]
  },
  {
   "cell_type": "code",
   "execution_count": 70,
   "metadata": {},
   "outputs": [],
   "source": [
    "tb_fi2 = tb[tb['Receptor derived specificity of average expression value'] >= 0.3] "
   ]
  },
  {
   "cell_type": "code",
   "execution_count": 71,
   "metadata": {},
   "outputs": [
    {
     "data": {
      "text/plain": [
       "(6672, 15)"
      ]
     },
     "execution_count": 71,
     "metadata": {},
     "output_type": "execute_result"
    }
   ],
   "source": [
    "tb_fi2.shape"
   ]
  },
  {
   "cell_type": "code",
   "execution_count": 76,
   "metadata": {},
   "outputs": [],
   "source": [
    "# retain edges only having log10'Edge average expression derived specificity' superior to cutoff\n",
    "log10cutoff = -1"
   ]
  },
  {
   "cell_type": "code",
   "execution_count": 77,
   "metadata": {},
   "outputs": [],
   "source": [
    "tb['log10edge_derived_specif'] = np.log10(tb['Edge average expression derived specificity']+1e-15)"
   ]
  },
  {
   "cell_type": "code",
   "execution_count": 78,
   "metadata": {},
   "outputs": [],
   "source": [
    "tb_fi3 = tb[tb[\"log10edge_derived_specif\"] >= log10cutoff ]"
   ]
  },
  {
   "cell_type": "code",
   "execution_count": 79,
   "metadata": {},
   "outputs": [
    {
     "data": {
      "text/plain": [
       "(3577, 15)"
      ]
     },
     "execution_count": 79,
     "metadata": {},
     "output_type": "execute_result"
    }
   ],
   "source": [
    "tb_fi3.shape"
   ]
  },
  {
   "cell_type": "markdown",
   "metadata": {},
   "source": [
    "### checking resulting edges specificities after filtering"
   ]
  },
  {
   "cell_type": "code",
   "execution_count": 82,
   "metadata": {},
   "outputs": [
    {
     "data": {
      "text/plain": [
       "Text(0.5, 0.98, 'EDGE specificities kept after three types of filtering')"
      ]
     },
     "execution_count": 82,
     "metadata": {},
     "output_type": "execute_result"
    },
    {
     "data": {
      "image/png": "[encoded data removed]",
      "text/plain": [
       "<Figure size 864x288 with 3 Axes>"
      ]
     },
     "metadata": {
      "needs_background": "light"
     },
     "output_type": "display_data"
    }
   ],
   "source": [
    "fig, axs = plt.subplots(1, 3, figsize=(12,4))\n",
    "axs[0].hist(np.log10(np.array(tb_fi['Edge average expression derived specificity'])), bins= 30, color=\"gray\")\n",
    "axs[0].set_title(\"On ligands spec >= 0.3\")\n",
    "axs[1].hist(np.log10(np.array(tb_fi2['Edge average expression derived specificity'])), bins= 30, color=\"gray\")\n",
    "axs[1].set_title(\"On receptors spec >= 0.3\")\n",
    "axs[2].hist(np.log10(np.array(tb_fi3['Edge average expression derived specificity'])), bins= 30, color=\"gray\")\n",
    "axs[2].set_title(\"On edges spec (log10(value+1e-15) > -1)\")\n",
    "\n",
    "for ax in axs.flat:\n",
    "    ax.set(xlabel='log10 values', ylabel='n')\n",
    "\n",
    "# Hide x labels and tick labels for top plots and y ticks for right plots.\n",
    "for ax in axs.flat:\n",
    "    ax.label_outer()\n",
    "fig.suptitle(f'EDGE specificities kept after three types of filtering', fontsize=16)"
   ]
  },
  {
   "cell_type": "markdown",
   "metadata": {},
   "source": [
    "for visual representation purposes, it is likely to be better to use the last filtering method, as it keeps the most interesting edges, which reflect L and R expressions AND specificities with the same metric, and preserved values spanning reasonable deviations."
   ]
  },
  {
   "cell_type": "code",
   "execution_count": 64,
   "metadata": {},
   "outputs": [],
   "source": [
    "#celltycolors = {'FAPs':'#5F9EA0' , 'sCs': '#DFC27D' , 'M1': '#13306db2', \n",
    "  #                 'M2': '#E66101', 'Neutro': '#73D055FF', 'ECs': '#b8627db2'}"
   ]
  },
  {
   "cell_type": "code",
   "execution_count": null,
   "metadata": {},
   "outputs": [],
   "source": [
    "celltycolors = {\n",
    "  \"ECs\" : \"#0072B2\",\n",
    "  \"FAPs\" : \"#F0E442\",\n",
    "  \"M1\" : \"#D55E00\",\n",
    "  \"M2\" :  \"#CC79A7\",\n",
    "  \"Neutro\" : \"#009E73\",\n",
    "  \"sCs\" : \"#56B4E9\"\n",
    "}\n"
   ]
  },
  {
   "cell_type": "code",
   "execution_count": 20,
   "metadata": {},
   "outputs": [],
   "source": [
    "# make graph: \n",
    "Go2 = nx.DiGraph()\n",
    "for index,row in tb_fi3.iterrows():\n",
    "    nodefrom = row['uniq_Ligand_symbol']\n",
    "    nodeto = row['uniq_Receptor_symbol']\n",
    "    celltypefrom = row['Sending cluster']\n",
    "    celltypeto = row['Target cluster']\n",
    "    Go2.add_node(nodefrom,\n",
    "                nodetype = 'sender',\n",
    "                celltype = celltypefrom,\n",
    "                genesym = row['Ligand symbol'],\n",
    "                color = celltycolors[celltypefrom],\n",
    "                averagexp = row['Ligand average expression value'])\n",
    "    Go2.add_node(nodeto,\n",
    "                nodetype = 'receiver',\n",
    "                celltype = celltypeto, \n",
    "                genesym = row['Receptor symbol'],\n",
    "                color = celltycolors[celltypeto],\n",
    "                averagexp = row['Receptor average expression value'])\n",
    "    Go2.add_edge(nodefrom,nodeto, origtype = nodefrom,\n",
    "                ecolor = celltycolors[celltypefrom],\n",
    "                weight = row['Edge average expression derived specificity'])  ## NEW !!\n",
    "    ### pay attention: weight has been changed to specificity !!!!"
   ]
  },
  {
   "cell_type": "code",
   "execution_count": 21,
   "metadata": {},
   "outputs": [],
   "source": [
    "nodes = Go2.nodes()"
   ]
  },
  {
   "cell_type": "code",
   "execution_count": 22,
   "metadata": {},
   "outputs": [
    {
     "data": {
      "text/plain": [
       "988"
      ]
     },
     "execution_count": 22,
     "metadata": {},
     "output_type": "execute_result"
    }
   ],
   "source": [
    "len(nodes)"
   ]
  },
  {
   "cell_type": "code",
   "execution_count": 23,
   "metadata": {},
   "outputs": [
    {
     "data": {
      "text/plain": [
       "1786"
      ]
     },
     "execution_count": 23,
     "metadata": {},
     "output_type": "execute_result"
    }
   ],
   "source": [
    "edges = Go2.edges()\n",
    "len(edges)"
   ]
  },
  {
   "cell_type": "code",
   "execution_count": 24,
   "metadata": {},
   "outputs": [],
   "source": [
    "# transform into undirected graph to extract connected components \n",
    "uG = nx.Graph(Go2)"
   ]
  },
  {
   "cell_type": "code",
   "execution_count": 25,
   "metadata": {},
   "outputs": [],
   "source": [
    "maxconncomp = sorted(nx.connected_components(uG), key=len, reverse=True)"
   ]
  },
  {
   "cell_type": "code",
   "execution_count": 26,
   "metadata": {},
   "outputs": [
    {
     "name": "stdout",
     "output_type": "stream",
     "text": [
      "710\n",
      "19\n",
      "10\n",
      "9\n",
      "8\n",
      "7\n",
      "6\n",
      "6\n",
      "6\n",
      "6\n"
     ]
    }
   ],
   "source": [
    "for i in range(10):\n",
    "    print(len(maxconncomp[i]))"
   ]
  },
  {
   "cell_type": "code",
   "execution_count": 27,
   "metadata": {},
   "outputs": [
    {
     "name": "stdout",
     "output_type": "stream",
     "text": [
      "<class 'set'>\n"
     ]
    }
   ],
   "source": [
    "print(type(maxconncomp[4]))\n",
    "    \n",
    "    "
   ]
  },
  {
   "cell_type": "markdown",
   "metadata": {},
   "source": [
    "## take minimal graph example to transfer into igraph object"
   ]
  },
  {
   "cell_type": "code",
   "execution_count": 28,
   "metadata": {},
   "outputs": [],
   "source": [
    "minigraph = Go2.subgraph(maxconncomp[2])  # taking the third one, is small only 10 vertices"
   ]
  },
  {
   "cell_type": "code",
   "execution_count": 29,
   "metadata": {},
   "outputs": [
    {
     "data": {
      "text/plain": [
       "OutEdgeView([('Myl9_sCs', 'Cd69_M1'), ('Myl9_sCs', 'Cd69_M2'), ('Ptprc_M1', 'Cd22_M1'), ('Ptprc_M1', 'Cd22_M2'), ('Ptprc_M1', 'Mrc1_M1'), ('Ptprc_M1', 'Mrc1_M2'), ('Lgals1_FAPs', 'Ptprc_M1'), ('Lgals1_FAPs', 'Ptprc_M2'), ('Lgals1_FAPs', 'Cd69_M1'), ('Lgals1_FAPs', 'Cd69_M2'), ('Cd22_M1', 'Ptprc_M1'), ('Cd22_M1', 'Ptprc_M2'), ('Ptprc_M2', 'Cd22_M1'), ('Ptprc_M2', 'Cd22_M2'), ('Ptprc_M2', 'Mrc1_M1'), ('Ptprc_M2', 'Mrc1_M2'), ('Mrc1_M2', 'Ptprc_M1'), ('Mrc1_M2', 'Ptprc_M2'), ('Mrc1_M1', 'Ptprc_M1'), ('Mrc1_M1', 'Ptprc_M2'), ('Cd22_M2', 'Ptprc_M1'), ('Cd22_M2', 'Ptprc_M2')])"
      ]
     },
     "execution_count": 29,
     "metadata": {},
     "output_type": "execute_result"
    }
   ],
   "source": [
    "minigraph.edges()"
   ]
  },
  {
   "cell_type": "code",
   "execution_count": 30,
   "metadata": {},
   "outputs": [],
   "source": [
    "import igraph as ig"
   ]
  },
  {
   "cell_type": "code",
   "execution_count": 31,
   "metadata": {},
   "outputs": [],
   "source": [
    "mini_igr = ig.Graph.from_networkx(minigraph)"
   ]
  },
  {
   "cell_type": "code",
   "execution_count": 32,
   "metadata": {},
   "outputs": [
    {
     "data": {
      "text/plain": [
       "<igraph.Graph at 0x7f0f76925400>"
      ]
     },
     "execution_count": 32,
     "metadata": {},
     "output_type": "execute_result"
    }
   ],
   "source": [
    "mini_igr"
   ]
  },
  {
   "cell_type": "code",
   "execution_count": 33,
   "metadata": {},
   "outputs": [
    {
     "name": "stdout",
     "output_type": "stream",
     "text": [
      "igraph.Vertex(<igraph.Graph object at 0x7f0f76925400>, 0, {'_nx_name': 'Myl9_sCs', 'nodetype': 'sender', 'celltype': 'sCs', 'genesym': 'Myl9', 'color': '#DFC27D', 'averagexp': 58.74972150000001})\n",
      "igraph.Vertex(<igraph.Graph object at 0x7f0f76925400>, 1, {'_nx_name': 'Ptprc_M1', 'nodetype': 'receiver', 'celltype': 'M1', 'genesym': 'Ptprc', 'color': '#13306db2', 'averagexp': 236.563113})\n",
      "igraph.Vertex(<igraph.Graph object at 0x7f0f76925400>, 2, {'_nx_name': 'Lgals1_FAPs', 'nodetype': 'sender', 'celltype': 'FAPs', 'genesym': 'Lgals1', 'color': '#5F9EA0', 'averagexp': 258.83589166666667})\n",
      "igraph.Vertex(<igraph.Graph object at 0x7f0f76925400>, 3, {'_nx_name': 'Cd22_M1', 'nodetype': 'sender', 'celltype': 'M1', 'genesym': 'Cd22', 'color': '#13306db2', 'averagexp': 6.090704})\n",
      "igraph.Vertex(<igraph.Graph object at 0x7f0f76925400>, 4, {'_nx_name': 'Ptprc_M2', 'nodetype': 'receiver', 'celltype': 'M2', 'genesym': 'Ptprc', 'color': '#E66101', 'averagexp': 335.36508166666664})\n",
      "igraph.Vertex(<igraph.Graph object at 0x7f0f76925400>, 5, {'_nx_name': 'Mrc1_M2', 'nodetype': 'sender', 'celltype': 'M2', 'genesym': 'Mrc1', 'color': '#E66101', 'averagexp': 159.48296366666668})\n",
      "igraph.Vertex(<igraph.Graph object at 0x7f0f76925400>, 6, {'_nx_name': 'Mrc1_M1', 'nodetype': 'sender', 'celltype': 'M1', 'genesym': 'Mrc1', 'color': '#13306db2', 'averagexp': 174.56698633333332})\n",
      "igraph.Vertex(<igraph.Graph object at 0x7f0f76925400>, 7, {'_nx_name': 'Cd69_M1', 'nodetype': 'receiver', 'celltype': 'M1', 'genesym': 'Cd69', 'color': '#13306db2', 'averagexp': 10.87028266666667})\n",
      "igraph.Vertex(<igraph.Graph object at 0x7f0f76925400>, 8, {'_nx_name': 'Cd69_M2', 'nodetype': 'receiver', 'celltype': 'M2', 'genesym': 'Cd69', 'color': '#E66101', 'averagexp': 18.75506266666667})\n",
      "igraph.Vertex(<igraph.Graph object at 0x7f0f76925400>, 9, {'_nx_name': 'Cd22_M2', 'nodetype': 'sender', 'celltype': 'M2', 'genesym': 'Cd22', 'color': '#E66101', 'averagexp': 9.579525333333336})\n"
     ]
    }
   ],
   "source": [
    "for ele in mini_igr.vs:\n",
    "    print(ele)\n",
    "# igraph.Vertex(<igraph.Graph object at 0x7f917883b5e0>, 0, \n",
    "# {'_nx_name': 'Cd22_M2', 'nodetype': 'sender', 'celltype': 'M2',\n",
    "#'genesym': 'Cd22', 'color': '#E66101', 'averagexp': 8.91760664792547})"
   ]
  },
  {
   "cell_type": "code",
   "execution_count": 34,
   "metadata": {
    "scrolled": true
   },
   "outputs": [
    {
     "name": "stdout",
     "output_type": "stream",
     "text": [
      "igraph.Edge(<igraph.Graph object at 0x7f0f76925400>, 0, {'origtype': 'Myl9_sCs', 'ecolor': '#DFC27D', 'weight': 0.2865552879637657})\n",
      "igraph.Edge(<igraph.Graph object at 0x7f0f76925400>, 1, {'origtype': 'Myl9_sCs', 'ecolor': '#DFC27D', 'weight': 0.4944087056452935})\n",
      "igraph.Edge(<igraph.Graph object at 0x7f0f76925400>, 2, {'origtype': 'Ptprc_M1', 'ecolor': '#13306db2', 'weight': 0.1593938855116515})\n",
      "igraph.Edge(<igraph.Graph object at 0x7f0f76925400>, 3, {'origtype': 'Ptprc_M1', 'ecolor': '#13306db2', 'weight': 0.2506964325039107})\n",
      "igraph.Edge(<igraph.Graph object at 0x7f0f76925400>, 4, {'origtype': 'Ptprc_M1', 'ecolor': '#13306db2', 'weight': 0.2140773959844077})\n",
      "igraph.Edge(<igraph.Graph object at 0x7f0f76925400>, 5, {'origtype': 'Ptprc_M1', 'ecolor': '#13306db2', 'weight': 0.1955793491241396})\n",
      "igraph.Edge(<igraph.Graph object at 0x7f0f76925400>, 6, {'origtype': 'Lgals1_FAPs', 'ecolor': '#5F9EA0', 'weight': 0.1295447663939726})\n",
      "igraph.Edge(<igraph.Graph object at 0x7f0f76925400>, 7, {'origtype': 'Lgals1_FAPs', 'ecolor': '#5F9EA0', 'weight': 0.1836498962592019})\n",
      "igraph.Edge(<igraph.Graph object at 0x7f0f76925400>, 8, {'origtype': 'Lgals1_FAPs', 'ecolor': '#5F9EA0', 'weight': 0.1143575180621176})\n",
      "igraph.Edge(<igraph.Graph object at 0x7f0f76925400>, 9, {'origtype': 'Lgals1_FAPs', 'ecolor': '#5F9EA0', 'weight': 0.1973069591130669})\n",
      "igraph.Edge(<igraph.Graph object at 0x7f0f76925400>, 10, {'origtype': 'Cd22_M1', 'ecolor': '#13306db2', 'weight': 0.1593938855116515})\n",
      "igraph.Edge(<igraph.Graph object at 0x7f0f76925400>, 11, {'origtype': 'Cd22_M1', 'ecolor': '#13306db2', 'weight': 0.22596567467296697})\n",
      "igraph.Edge(<igraph.Graph object at 0x7f0f76925400>, 12, {'origtype': 'Ptprc_M2', 'ecolor': '#E66101', 'weight': 0.22596567467296697})\n",
      "igraph.Edge(<igraph.Graph object at 0x7f0f76925400>, 13, {'origtype': 'Ptprc_M2', 'ecolor': '#E66101', 'weight': 0.3554012647788246})\n",
      "igraph.Edge(<igraph.Graph object at 0x7f0f76925400>, 14, {'origtype': 'Ptprc_M2', 'ecolor': '#E66101', 'weight': 0.3034880733383747})\n",
      "igraph.Edge(<igraph.Graph object at 0x7f0f76925400>, 15, {'origtype': 'Ptprc_M2', 'ecolor': '#E66101', 'weight': 0.2772642089442346})\n",
      "igraph.Edge(<igraph.Graph object at 0x7f0f76925400>, 16, {'origtype': 'Mrc1_M2', 'ecolor': '#E66101', 'weight': 0.1955793491241396})\n",
      "igraph.Edge(<igraph.Graph object at 0x7f0f76925400>, 17, {'origtype': 'Mrc1_M2', 'ecolor': '#E66101', 'weight': 0.2772642089442346})\n",
      "igraph.Edge(<igraph.Graph object at 0x7f0f76925400>, 18, {'origtype': 'Mrc1_M1', 'ecolor': '#13306db2', 'weight': 0.2140773959844077})\n",
      "igraph.Edge(<igraph.Graph object at 0x7f0f76925400>, 19, {'origtype': 'Mrc1_M1', 'ecolor': '#13306db2', 'weight': 0.3034880733383747})\n",
      "igraph.Edge(<igraph.Graph object at 0x7f0f76925400>, 20, {'origtype': 'Cd22_M2', 'ecolor': '#E66101', 'weight': 0.2506964325039107})\n",
      "igraph.Edge(<igraph.Graph object at 0x7f0f76925400>, 21, {'origtype': 'Cd22_M2', 'ecolor': '#E66101', 'weight': 0.3554012647788246})\n"
     ]
    }
   ],
   "source": [
    "for edge in mini_igr.es:\n",
    "    print(edge)"
   ]
  },
  {
   "cell_type": "code",
   "execution_count": 41,
   "metadata": {},
   "outputs": [
    {
     "name": "stdout",
     "output_type": "stream",
     "text": [
      "/home/johanna/BulkAnalysis_plusNetwork/networks_explore\n"
     ]
    }
   ],
   "source": [
    "#layout = mini_igr.layout()\n",
    "#ig.plot(mini_igr, layout=layout)  ## error: plotting not available"
   ]
  },
  {
   "cell_type": "code",
   "execution_count": 48,
   "metadata": {},
   "outputs": [],
   "source": [
    "# target directory, to save file\n",
    "outdir =  \"graphobjs/\""
   ]
  },
  {
   "cell_type": "code",
   "execution_count": 49,
   "metadata": {},
   "outputs": [],
   "source": [
    "#save to file\n",
    "mini_igr.write_graphml(f\"{outdir}myminigraph.ml\")"
   ]
  },
  {
   "cell_type": "code",
   "execution_count": 37,
   "metadata": {},
   "outputs": [],
   "source": [
    "# now try Shiny R app with that object !!!"
   ]
  }
 ],
 "metadata": {
  "kernelspec": {
   "display_name": ".venv",
   "language": "python",
   "name": ".venv"
  },
  "language_info": {
   "codemirror_mode": {
    "name": "ipython",
    "version": 3
   },
   "file_extension": ".py",
   "mimetype": "text/x-python",
   "name": "python",
   "nbconvert_exporter": "python",
   "pygments_lexer": "ipython3",
   "version": "3.8.6"
  }
 },
 "nbformat": 4,
 "nbformat_minor": 4
}
