{
 "cells": [
  {
   "cell_type": "markdown",
   "metadata": {},
   "source": [
    "## LR (ligand and Receptor) networks\n",
    "This notebook analyzes all L-R dataframes obtained from NATMI. \n",
    "Checks edges' weight distribution, tests different thresholds for filtering and saves filtered and unfiltered LR dataframes (as a dictionary of `LRinfos` objects). It also generates and saves filtered and unfiltered networkx objects dictionaries. \n",
    "-------\n",
    "Author : johaGL"
   ]
  },
  {
   "cell_type": "code",
   "execution_count": 51,
   "metadata": {},
   "outputs": [],
   "source": [
    "import os\n",
    "import numpy as np\n",
    "import matplotlib as mpl\n",
    "import matplotlib.pyplot as plt\n",
    "#import holoviews\n",
    "import pygraphviz\n",
    "import networkx as nx\n",
    "import pandas as pd\n",
    "import matplotlib.patches as mpatches\n",
    "from scipy import stats\n",
    "import pickle\n",
    "import igraph as ig"
   ]
  },
  {
   "cell_type": "code",
   "execution_count": 2,
   "metadata": {},
   "outputs": [],
   "source": [
    "import pylab as pyl"
   ]
  },
  {
   "cell_type": "code",
   "execution_count": 3,
   "metadata": {},
   "outputs": [],
   "source": [
    "class LRinfos:  \n",
    "    \"\"\"\n",
    "    class to handle  Natmi dataframe results\n",
    "    one object by result ! \n",
    "    to create object, predf is needed (the Edges opened with pandas csv)\n",
    "    use 'frame' attribute to get dataframe suitable for graph conversion\n",
    "    \"\"\"\n",
    "    def __init__(self, age, day, predf):\n",
    "        self.age = age\n",
    "        self.day = day\n",
    "        self.predf  = predf\n",
    "        self.makeunique_symbo_cellty()\n",
    "        self.about = f\"object age {age}, day {day}, use 'frame' attribute for more!\"\n",
    "        \n",
    "    def makeunique_symbo_cellty(self):\n",
    "        otab = self.predf\n",
    "        otab['uniq_Ligand_symbol'] = otab['Ligand symbol'] + '_' + otab['Sending cluster']\n",
    "        otab['uniq_Receptor_symbol'] = otab['Receptor symbol'] + '_' + otab['Target cluster']\n",
    "        self.frame = otab  # this adds attribute 'frame'     \n",
    "        \n",
    "    def filterZero(self):  \n",
    "        tmp = self.frame.loc[self.frame['Edge average expression derived specificity'] > 0]\n",
    "        self.frame = tmp  # yield only non zero edges dataframe\n",
    "    \n",
    "    def filterOnEdgeslog10(self, cutoff):\n",
    "        if min(self.frame['Edge average expression derived specificity']) < 0:\n",
    "            self.filterZero()\n",
    "        self.frame['log10_edge_sp'] = np.log10(np.array(self.frame['Edge average expression derived specificity']))\n",
    "        tf = self.frame.loc[ self.frame['log10_edge_sp'] >= cutoff ]\n",
    "        self.filtered = tf\n",
    "        \n",
    "           "
   ]
  },
  {
   "cell_type": "code",
   "execution_count": 4,
   "metadata": {},
   "outputs": [],
   "source": [
    "ages = [ 'Young', 'Old']\n",
    "days = ['D0', 'D2', 'D4', 'D7']     "
   ]
  },
  {
   "cell_type": "markdown",
   "metadata": {},
   "source": [
    "<div class=\"alert alert-info\">\n",
    "  <strong>Network files : </strong>\n",
    "     These tab delimited dataframe files are named identically, \n",
    "     So, what distinguishes Networks is folder location, folder location has age and day\n",
    "    see variable: \n",
    "      <p style=\"font-family:'Lucida Console', monospace\">deffilename</p>\n",
    "</div> "
   ]
  },
  {
   "cell_type": "markdown",
   "metadata": {},
   "source": [
    "`deffilename`"
   ]
  },
  {
   "cell_type": "code",
   "execution_count": 5,
   "metadata": {},
   "outputs": [
    {
     "name": "stdout",
     "output_type": "stream",
     "text": [
      "/home/bioinfo/BulkAnalysis_plusNetwork/networks_explore\n"
     ]
    },
    {
     "data": {
      "text/html": [
       "<div>\n",
       "<style scoped>\n",
       "    .dataframe tbody tr th:only-of-type {\n",
       "        vertical-align: middle;\n",
       "    }\n",
       "\n",
       "    .dataframe tbody tr th {\n",
       "        vertical-align: top;\n",
       "    }\n",
       "\n",
       "    .dataframe thead th {\n",
       "        text-align: right;\n",
       "    }\n",
       "</style>\n",
       "<table border=\"1\" class=\"dataframe\">\n",
       "  <thead>\n",
       "    <tr style=\"text-align: right;\">\n",
       "      <th></th>\n",
       "      <th>Sending cluster</th>\n",
       "      <th>Ligand symbol</th>\n",
       "      <th>Receptor symbol</th>\n",
       "      <th>Target cluster</th>\n",
       "      <th>Ligand detection rate</th>\n",
       "      <th>Ligand average expression value</th>\n",
       "      <th>Ligand derived specificity of average expression value</th>\n",
       "      <th>Receptor detection rate</th>\n",
       "      <th>Receptor average expression value</th>\n",
       "      <th>Receptor derived specificity of average expression value</th>\n",
       "      <th>Edge average expression weight</th>\n",
       "      <th>Edge average expression derived specificity</th>\n",
       "    </tr>\n",
       "  </thead>\n",
       "  <tbody>\n",
       "    <tr>\n",
       "      <th>0</th>\n",
       "      <td>FAPs</td>\n",
       "      <td>Agt</td>\n",
       "      <td>Mas1</td>\n",
       "      <td>ECs</td>\n",
       "      <td>1.0</td>\n",
       "      <td>1.761114</td>\n",
       "      <td>0.927754</td>\n",
       "      <td>1.0</td>\n",
       "      <td>0.793632</td>\n",
       "      <td>0.17806</td>\n",
       "      <td>1.397677</td>\n",
       "      <td>0.165196</td>\n",
       "    </tr>\n",
       "  </tbody>\n",
       "</table>\n",
       "</div>"
      ],
      "text/plain": [
       "  Sending cluster Ligand symbol Receptor symbol Target cluster  \\\n",
       "0            FAPs           Agt            Mas1            ECs   \n",
       "\n",
       "   Ligand detection rate  Ligand average expression value  \\\n",
       "0                    1.0                         1.761114   \n",
       "\n",
       "   Ligand derived specificity of average expression value  \\\n",
       "0                                           0.927754        \n",
       "\n",
       "   Receptor detection rate  Receptor average expression value  \\\n",
       "0                      1.0                           0.793632   \n",
       "\n",
       "   Receptor derived specificity of average expression value  \\\n",
       "0                                            0.17806          \n",
       "\n",
       "   Edge average expression weight  Edge average expression derived specificity  \n",
       "0                        1.397677                                     0.165196  "
      ]
     },
     "execution_count": 5,
     "metadata": {},
     "output_type": "execute_result"
    }
   ],
   "source": [
    "\"\"\"\n",
    "Network files are named identically (deffilename) , BUT : \n",
    "what distinguishes Networks is folder location, folder location has age and day !!!\n",
    "\"\"\"\n",
    "indatadir = \"~/BulkAnalysis_plusNetwork/natmiOut/\"\n",
    "print(os.getcwd())\n",
    "deffilename = 'Network_exp_0_spe_0_det_0.6_top_0_signal_lrc2p_weight_mean/'\n",
    "\n",
    "# example opening a file: \n",
    "old_D7 = pd.read_csv(f'{indatadir}OldD7/{deffilename}Edges.csv',sep=\",\", header=0) \n",
    "old_D7.head(1)"
   ]
  },
  {
   "cell_type": "code",
   "execution_count": 6,
   "metadata": {},
   "outputs": [],
   "source": [
    "\"\"\"\n",
    "all LRinfos objects are stocked in dictionary\n",
    "\"\"\"\n",
    "lr = {}      \n",
    "for i in ages:\n",
    "    lr[i] = {}\n",
    "    for j in days:   \n",
    "        predf = pd.read_csv(f'{indatadir}{i}{j}/{deffilename}Edges.csv',sep=\",\", header=0)  \n",
    "        myob = LRinfos(i, j, predf)\n",
    "        lr[i][j] = myob      "
   ]
  },
  {
   "cell_type": "code",
   "execution_count": 7,
   "metadata": {},
   "outputs": [
    {
     "name": "stdout",
     "output_type": "stream",
     "text": [
      "object age Young, day D2, use 'frame' attribute for more!\n"
     ]
    }
   ],
   "source": [
    "print(lr['Young']['D2'].about)"
   ]
  },
  {
   "cell_type": "code",
   "execution_count": 8,
   "metadata": {
    "scrolled": true
   },
   "outputs": [
    {
     "data": {
      "text/html": [
       "<div>\n",
       "<style scoped>\n",
       "    .dataframe tbody tr th:only-of-type {\n",
       "        vertical-align: middle;\n",
       "    }\n",
       "\n",
       "    .dataframe tbody tr th {\n",
       "        vertical-align: top;\n",
       "    }\n",
       "\n",
       "    .dataframe thead th {\n",
       "        text-align: right;\n",
       "    }\n",
       "</style>\n",
       "<table border=\"1\" class=\"dataframe\">\n",
       "  <thead>\n",
       "    <tr style=\"text-align: right;\">\n",
       "      <th></th>\n",
       "      <th>Sending cluster</th>\n",
       "      <th>Ligand symbol</th>\n",
       "      <th>Receptor symbol</th>\n",
       "      <th>Target cluster</th>\n",
       "      <th>Ligand detection rate</th>\n",
       "      <th>Ligand average expression value</th>\n",
       "      <th>Ligand derived specificity of average expression value</th>\n",
       "      <th>Receptor detection rate</th>\n",
       "      <th>Receptor average expression value</th>\n",
       "      <th>Receptor derived specificity of average expression value</th>\n",
       "      <th>Edge average expression weight</th>\n",
       "      <th>Edge average expression derived specificity</th>\n",
       "      <th>uniq_Ligand_symbol</th>\n",
       "      <th>uniq_Receptor_symbol</th>\n",
       "    </tr>\n",
       "  </thead>\n",
       "  <tbody>\n",
       "    <tr>\n",
       "      <th>0</th>\n",
       "      <td>sCs</td>\n",
       "      <td>Agt</td>\n",
       "      <td>Mas1</td>\n",
       "      <td>ECs</td>\n",
       "      <td>1.0</td>\n",
       "      <td>0.544434</td>\n",
       "      <td>0.757238</td>\n",
       "      <td>1.0</td>\n",
       "      <td>0.595223</td>\n",
       "      <td>0.32514</td>\n",
       "      <td>0.32406</td>\n",
       "      <td>0.246209</td>\n",
       "      <td>Agt_sCs</td>\n",
       "      <td>Mas1_ECs</td>\n",
       "    </tr>\n",
       "  </tbody>\n",
       "</table>\n",
       "</div>"
      ],
      "text/plain": [
       "  Sending cluster Ligand symbol Receptor symbol Target cluster  \\\n",
       "0             sCs           Agt            Mas1            ECs   \n",
       "\n",
       "   Ligand detection rate  Ligand average expression value  \\\n",
       "0                    1.0                         0.544434   \n",
       "\n",
       "   Ligand derived specificity of average expression value  \\\n",
       "0                                           0.757238        \n",
       "\n",
       "   Receptor detection rate  Receptor average expression value  \\\n",
       "0                      1.0                           0.595223   \n",
       "\n",
       "   Receptor derived specificity of average expression value  \\\n",
       "0                                            0.32514          \n",
       "\n",
       "   Edge average expression weight  \\\n",
       "0                         0.32406   \n",
       "\n",
       "   Edge average expression derived specificity uniq_Ligand_symbol  \\\n",
       "0                                     0.246209            Agt_sCs   \n",
       "\n",
       "  uniq_Receptor_symbol  \n",
       "0             Mas1_ECs  "
      ]
     },
     "execution_count": 8,
     "metadata": {},
     "output_type": "execute_result"
    }
   ],
   "source": [
    "lr['Young']['D2'].frame.head(1)"
   ]
  },
  {
   "cell_type": "code",
   "execution_count": 9,
   "metadata": {
    "scrolled": true
   },
   "outputs": [
    {
     "data": {
      "text/plain": [
       "1.0"
      ]
     },
     "execution_count": 9,
     "metadata": {},
     "output_type": "execute_result"
    }
   ],
   "source": [
    "max(lr['Old']['D0'].frame['Edge average expression derived specificity'])"
   ]
  },
  {
   "cell_type": "code",
   "execution_count": 10,
   "metadata": {},
   "outputs": [
    {
     "name": "stdout",
     "output_type": "stream",
     "text": [
      "Young+D0 specificities edges are all over zero\n",
      "Young+D2 specificities edges are all over zero\n",
      "Young+D4 specificities edges are all over zero\n",
      "Young+D7 specificities edges are all over zero\n",
      "Old+D0 specificities edges are all over zero\n",
      "Old+D2 specificities edges are all over zero\n",
      "Old+D4 specificities edges are all over zero\n",
      "Old+D7 specificities edges are all over zero\n"
     ]
    }
   ],
   "source": [
    "# by default , Natmi yields edges exhibiting specificities > 0\n",
    "# verify : \n",
    "for age in ages:\n",
    "    for day in days:\n",
    "        if (min(lr[age][day].frame['Edge average expression derived specificity']) > 0):\n",
    "            print(f'{age}+{day} specificities edges are all over zero')\n",
    "        else : \n",
    "            print(f'{age}+{day} HAS A MIN VALUE EQUAL TO ZERO, FILTER OUT using obj.filterZero()')        "
   ]
  },
  {
   "cell_type": "code",
   "execution_count": 11,
   "metadata": {},
   "outputs": [
    {
     "data": {
      "text/plain": [
       "Text(0.5, 0.98, 'Edge specificities, given values')"
      ]
     },
     "execution_count": 11,
     "metadata": {},
     "output_type": "execute_result"
    },
    {
     "data": {
      "image/png": "[encoded data removed]",
      "text/plain": [
       "<Figure size 648x288 with 8 Axes>"
      ]
     },
     "metadata": {
      "needs_background": "light"
     },
     "output_type": "display_data"
    }
   ],
   "source": [
    "\"\"\" plotting edge specificities \"\"\"\n",
    "histocols = ['orange', 'dimgray']\n",
    "fig, axs = plt.subplots(2, 4, figsize=(9,4))\n",
    "for rawi in range(2):\n",
    "    AGE = ages[rawi]\n",
    "    for coli in range(4):\n",
    "        DAY = days[coli]\n",
    "        tmpvec = lr[AGE][DAY].frame['Edge average expression derived specificity']        \n",
    "        axs[rawi, coli].hist(tmpvec,\n",
    "                            color=histocols[rawi], bins=40)\n",
    "        axs[rawi, coli].set_title(f'{ages[rawi]} {days[coli]}')\n",
    "        \n",
    "\n",
    "for ax in axs.flat:\n",
    "    ax.set(xlabel='values', ylabel='n')\n",
    "\n",
    "# Hide x labels and tick labels for top plots and y ticks for right plots.\n",
    "for ax in axs.flat:\n",
    "    ax.label_outer()\n",
    "\n",
    "fig.suptitle(f'Edge specificities, given values', fontsize=16)"
   ]
  },
  {
   "cell_type": "markdown",
   "metadata": {},
   "source": [
    "**This is very similar to TAu indexes, being 1 most specific, and 0 housekeeping !**  . Most have weak specificities, do preservative approach, by using log10 to filter. First we must explore log transformed values"
   ]
  },
  {
   "cell_type": "code",
   "execution_count": 12,
   "metadata": {},
   "outputs": [
    {
     "data": {
      "text/plain": [
       "Text(0.5, 0.98, 'Edge specificities, log10 (x)')"
      ]
     },
     "execution_count": 12,
     "metadata": {},
     "output_type": "execute_result"
    },
    {
     "data": {
      "image/png": "[encoded data removed]",
      "text/plain": [
       "<Figure size 720x288 with 8 Axes>"
      ]
     },
     "metadata": {
      "needs_background": "light"
     },
     "output_type": "display_data"
    }
   ],
   "source": [
    "\"\"\" plotting edge specificities, log \"\"\"\n",
    "\n",
    "histocols = ['orange', 'dimgray']\n",
    "fig, axs = plt.subplots(2, 4, figsize=(10,4))\n",
    "for rawi in range(2):\n",
    "    AGE = ages[rawi]\n",
    "    for coli in range(4):\n",
    "        DAY = days[coli]\n",
    "        tmpvec = lr[AGE][DAY].frame['Edge average expression derived specificity']        \n",
    "        axs[rawi, coli].hist(np.log10(np.array(tmpvec)),\n",
    "                            color=histocols[rawi], bins=40)\n",
    "        axs[rawi, coli].set_title(f'{ages[rawi]} {days[coli]}')        \n",
    "\n",
    "for ax in axs.flat:\n",
    "    ax.set(xlabel='log10 values', ylabel='n')\n",
    "\n",
    "# Hide x labels and tick labels for top plots and y ticks for right plots.\n",
    "for ax in axs.flat:\n",
    "    ax.label_outer()\n",
    "\n",
    "fig.suptitle(f'Edge specificities, log10 (x)', fontsize=16)"
   ]
  },
  {
   "cell_type": "markdown",
   "metadata": {},
   "source": [
    "The closer to 1 (0 in log10 value) the more the edge is predicted to be 'specific'\n",
    "We see that most of edges specificities are concentrated between 0.1 and 0.001 (-1 and -3 in log10 value). \n",
    "These plots allowed us to know about data distribution, but we need\n",
    "to scale them to  values suitable for making graph style visualizations."
   ]
  },
  {
   "cell_type": "markdown",
   "metadata": {},
   "source": [
    "### filter , using function from my 'LRinfos' class : \n",
    "\n",
    "The function 'filterOnEdgeslog10' is defined inside the class (above), cutoff is customizable"
   ]
  },
  {
   "cell_type": "code",
   "execution_count": 13,
   "metadata": {},
   "outputs": [],
   "source": [
    "## filter and check edges\n",
    "for age in ages:\n",
    "    for day in days:\n",
    "        lr[age][day].filterOnEdgeslog10(-0.5)   # using -0.5 as log10 cutoff"
   ]
  },
  {
   "cell_type": "code",
   "execution_count": 14,
   "metadata": {},
   "outputs": [
    {
     "data": {
      "text/plain": [
       "1       -0.226905\n",
       "4       -0.209117\n",
       "6       -0.096283\n",
       "9       -0.047613\n",
       "20      -0.451170\n",
       "           ...   \n",
       "18233   -0.443808\n",
       "18248   -0.302185\n",
       "18251   -0.482674\n",
       "18277   -0.417991\n",
       "18487   -0.333992\n",
       "Name: log10_edge_sp, Length: 770, dtype: float64"
      ]
     },
     "execution_count": 14,
     "metadata": {},
     "output_type": "execute_result"
    }
   ],
   "source": [
    "lr['Young']['D4'].filtered['log10_edge_sp']"
   ]
  },
  {
   "cell_type": "code",
   "execution_count": 15,
   "metadata": {},
   "outputs": [
    {
     "data": {
      "text/plain": [
       "Text(0.5, 0.98, 'Edge specificities, POST filter ')"
      ]
     },
     "execution_count": 15,
     "metadata": {},
     "output_type": "execute_result"
    },
    {
     "data": {
      "image/png": "[encoded data removed]",
      "text/plain": [
       "<Figure size 864x360 with 8 Axes>"
      ]
     },
     "metadata": {
      "needs_background": "light"
     },
     "output_type": "display_data"
    }
   ],
   "source": [
    "## plotting POST filter\n",
    "\"\"\" plotting POST filter edge specificities \"\"\"\n",
    "histocols = ['orange', 'dimgray']\n",
    "fig, axs = plt.subplots(2, 4, figsize=(12,5))\n",
    "for rawi in range(2):\n",
    "    AGE = ages[rawi]\n",
    "    for coli in range(4):\n",
    "        DAY = days[coli]\n",
    "        tmpvec = lr[AGE][DAY].filtered['Edge average expression derived specificity']     \n",
    "        #tmpvec = lr[AGE][DAY].filtered['log10_edge_sp']\n",
    "        axs[rawi, coli].hist(np.array(tmpvec),\n",
    "                            color=histocols[rawi], bins=40)\n",
    "        axs[rawi, coli].set_title(f'{ages[rawi]} {days[coli]}')\n",
    "        \n",
    "\n",
    "for ax in axs.flat:\n",
    "    ax.set(xlabel='values', ylabel='n')\n",
    "\n",
    "# Hide x labels and tick labels for top plots and y ticks for right plots.\n",
    "for ax in axs.flat:\n",
    "    ax.label_outer()\n",
    "\n",
    "fig.suptitle(f'Edge specificities, POST filter ', fontsize=16)"
   ]
  },
  {
   "cell_type": "code",
   "execution_count": 16,
   "metadata": {},
   "outputs": [
    {
     "name": "stdout",
     "output_type": "stream",
     "text": [
      "('Young', 'D0')\n",
      "(1082, 15)\n",
      "('Young', 'D2')\n",
      "(686, 15)\n",
      "('Young', 'D4')\n",
      "(770, 15)\n",
      "('Young', 'D7')\n",
      "(904, 15)\n",
      "('Old', 'D0')\n",
      "(1225, 15)\n",
      "('Old', 'D2')\n",
      "(448, 15)\n",
      "('Old', 'D4')\n",
      "(706, 15)\n",
      "('Old', 'D7')\n",
      "(1070, 15)\n"
     ]
    }
   ],
   "source": [
    "for age in ages:\n",
    "    for day in days:\n",
    "        print((age,day))\n",
    "        print(lr[age][day].filtered.shape)"
   ]
  },
  {
   "cell_type": "markdown",
   "metadata": {},
   "source": [
    "That was very stringent (-0.5), let's set another cutoff"
   ]
  },
  {
   "cell_type": "code",
   "execution_count": 17,
   "metadata": {},
   "outputs": [],
   "source": [
    "for age in ages:\n",
    "    for day in days:\n",
    "        lr[age][day].filterOnEdgeslog10(-1) "
   ]
  },
  {
   "cell_type": "markdown",
   "metadata": {},
   "source": [
    "### Compare filtered and unfiltered number of edges:\n",
    "Making a simple table"
   ]
  },
  {
   "cell_type": "code",
   "execution_count": 18,
   "metadata": {},
   "outputs": [],
   "source": [
    "tabularmanual = {'notfiltered' : [], 'filtered' : []}\n",
    "manualindexes = []\n",
    "for i in ages:\n",
    "    for j in days:\n",
    "        tabularmanual['notfiltered'].append(lr[i][j].frame.shape[0])\n",
    "        tabularmanual['filtered'].append(lr[i][j].filtered.shape[0])\n",
    "        manualindexes.append(f'{i}_{j}')\n",
    "#    = {'notfiltered' : [1,2,3], 'filtered' : [4,5,6]}"
   ]
  },
  {
   "cell_type": "code",
   "execution_count": 19,
   "metadata": {
    "scrolled": true
   },
   "outputs": [
    {
     "data": {
      "text/plain": [
       "3220"
      ]
     },
     "execution_count": 19,
     "metadata": {},
     "output_type": "execute_result"
    }
   ],
   "source": [
    "lr['Old']['D0'].filtered.shape[0]"
   ]
  },
  {
   "cell_type": "code",
   "execution_count": 49,
   "metadata": {},
   "outputs": [
    {
     "name": "stdout",
     "output_type": "stream",
     "text": [
      "compare unfiltered vs filtered NUMBER OF EDGES, as filter done on edges specs\n"
     ]
    },
    {
     "data": {
      "text/html": [
       "<div>\n",
       "<style scoped>\n",
       "    .dataframe tbody tr th:only-of-type {\n",
       "        vertical-align: middle;\n",
       "    }\n",
       "\n",
       "    .dataframe tbody tr th {\n",
       "        vertical-align: top;\n",
       "    }\n",
       "\n",
       "    .dataframe thead th {\n",
       "        text-align: right;\n",
       "    }\n",
       "</style>\n",
       "<table border=\"1\" class=\"dataframe\">\n",
       "  <thead>\n",
       "    <tr style=\"text-align: right;\">\n",
       "      <th></th>\n",
       "      <th>notfiltered</th>\n",
       "      <th>filtered</th>\n",
       "    </tr>\n",
       "  </thead>\n",
       "  <tbody>\n",
       "    <tr>\n",
       "      <th>Young_D0</th>\n",
       "      <td>7735</td>\n",
       "      <td>3152</td>\n",
       "    </tr>\n",
       "    <tr>\n",
       "      <th>Young_D2</th>\n",
       "      <td>26045</td>\n",
       "      <td>3677</td>\n",
       "    </tr>\n",
       "    <tr>\n",
       "      <th>Young_D4</th>\n",
       "      <td>18490</td>\n",
       "      <td>3642</td>\n",
       "    </tr>\n",
       "    <tr>\n",
       "      <th>Young_D7</th>\n",
       "      <td>12725</td>\n",
       "      <td>3642</td>\n",
       "    </tr>\n",
       "    <tr>\n",
       "      <th>Old_D0</th>\n",
       "      <td>8038</td>\n",
       "      <td>3220</td>\n",
       "    </tr>\n",
       "    <tr>\n",
       "      <th>Old_D2</th>\n",
       "      <td>26725</td>\n",
       "      <td>3577</td>\n",
       "    </tr>\n",
       "    <tr>\n",
       "      <th>Old_D4</th>\n",
       "      <td>18547</td>\n",
       "      <td>3729</td>\n",
       "    </tr>\n",
       "    <tr>\n",
       "      <th>Old_D7</th>\n",
       "      <td>13354</td>\n",
       "      <td>3557</td>\n",
       "    </tr>\n",
       "  </tbody>\n",
       "</table>\n",
       "</div>"
      ],
      "text/plain": [
       "          notfiltered  filtered\n",
       "Young_D0         7735      3152\n",
       "Young_D2        26045      3677\n",
       "Young_D4        18490      3642\n",
       "Young_D7        12725      3642\n",
       "Old_D0           8038      3220\n",
       "Old_D2          26725      3577\n",
       "Old_D4          18547      3729\n",
       "Old_D7          13354      3557"
      ]
     },
     "execution_count": 49,
     "metadata": {},
     "output_type": "execute_result"
    }
   ],
   "source": [
    "print(\"compare unfiltered vs filtered NUMBER OF EDGES, as filter done on edges specs\")\n",
    "pd.DataFrame(tabularmanual, index = manualindexes)"
   ]
  },
  {
   "cell_type": "code",
   "execution_count": 21,
   "metadata": {},
   "outputs": [
    {
     "data": {
      "text/plain": [
       "Text(0.5, 0.98, 'Edge specificities, POST filter ')"
      ]
     },
     "execution_count": 21,
     "metadata": {},
     "output_type": "execute_result"
    },
    {
     "data": {
      "image/png": "[encoded data removed]",
      "text/plain": [
       "<Figure size 720x360 with 8 Axes>"
      ]
     },
     "metadata": {
      "needs_background": "light"
     },
     "output_type": "display_data"
    }
   ],
   "source": [
    "\"\"\" plotting POST filter edge specificities \"\"\"\n",
    "histocols = ['orange', 'dimgray']\n",
    "fig, axs = plt.subplots(2, 4, figsize=(10,5))\n",
    "for rawi in range(2):\n",
    "    AGE = ages[rawi]\n",
    "    for coli in range(4):\n",
    "        DAY = days[coli]\n",
    "        tmpvec = lr[AGE][DAY].filtered['Edge average expression derived specificity']     \n",
    "        #tmpvec = lr[AGE][DAY].filtered['log10_edge_sp']\n",
    "        axs[rawi, coli].hist(np.array(tmpvec),\n",
    "                            color=histocols[rawi], bins=40)\n",
    "        axs[rawi, coli].set_title(f'{ages[rawi]} {days[coli]}')\n",
    "        \n",
    "\n",
    "for ax in axs.flat:\n",
    "    ax.set(xlabel=' values', ylabel='n')\n",
    "\n",
    "# Hide x labels and tick labels for top plots and y ticks for right plots.\n",
    "for ax in axs.flat:\n",
    "    ax.label_outer()\n",
    "\n",
    "fig.suptitle(f'Edge specificities, POST filter ', fontsize=16)"
   ]
  },
  {
   "cell_type": "raw",
   "metadata": {},
   "source": []
  },
  {
   "cell_type": "markdown",
   "metadata": {},
   "source": [
    "## New function to get Networkx object from dataframe\n",
    "#### and give it colors as universally defined, from specialized color-blindness friendly palette (defined from R scripts)"
   ]
  },
  {
   "cell_type": "code",
   "execution_count": 25,
   "metadata": {},
   "outputs": [],
   "source": [
    "def getCustomGraph(adf, celltycolors):\n",
    "    \"\"\"Inputs :  adf (a dataframe) , and\n",
    "                 colors in the form of a dictionary.\n",
    "    Output:  Networkx object\"\"\"\n",
    "    G = nx.DiGraph()\n",
    "    for index,row in adf.iterrows():\n",
    "        nodefrom = row['uniq_Ligand_symbol']\n",
    "        nodeto = row['uniq_Receptor_symbol']\n",
    "        celltypefrom = row['Sending cluster']\n",
    "        celltypeto = row['Target cluster']\n",
    "        G.add_node(nodefrom,\n",
    "                    nodetype = 'sender',\n",
    "                    celltype = celltypefrom,\n",
    "                    genesym = row['Ligand symbol'],\n",
    "                    color = celltycolors[celltypefrom],\n",
    "                    specificity = row['Ligand derived specificity of average expression value'])\n",
    "        G.add_node(nodeto,\n",
    "                    nodetype = 'receiver',\n",
    "                    celltype = celltypeto, \n",
    "                    genesym = row['Receptor symbol'],\n",
    "                    color = celltycolors[celltypeto],\n",
    "                    specificity = row['Receptor derived specificity of average expression value'])\n",
    "        G.add_edge(nodefrom,nodeto, origtype = nodefrom,\n",
    "                    ecolor = celltycolors[celltypefrom],\n",
    "                    weight = row['Edge average expression derived specificity']) \n",
    "    return G"
   ]
  },
  {
   "cell_type": "code",
   "execution_count": 26,
   "metadata": {},
   "outputs": [],
   "source": [
    "celltycolors = {\n",
    "  \"ECs\" : \"#0072B2\",\n",
    "  \"FAPs\" : \"#F0E442\",\n",
    "  \"M1\" : \"#D55E00\",\n",
    "  \"M2\" :  \"#CC79A7\",\n",
    "  \"Neutro\" : \"#009E73\",\n",
    "  \"sCs\" : \"#56B4E9\"\n",
    "}"
   ]
  },
  {
   "cell_type": "code",
   "execution_count": 27,
   "metadata": {},
   "outputs": [],
   "source": [
    "## creating new dictionary to stock Networkx objects\n",
    "dxfiltered = {}\n",
    "dxunfiltered = {}"
   ]
  },
  {
   "cell_type": "code",
   "execution_count": 28,
   "metadata": {},
   "outputs": [],
   "source": [
    "## calling function iteratively while populating dictionary\n",
    "for age in ages:\n",
    "    dxfiltered[age] = {}\n",
    "    dxunfiltered[age] = {}\n",
    "    for day in days:\n",
    "        tmpGfi = getCustomGraph(lr[age][day].filtered, celltycolors)\n",
    "        tmpGuf = getCustomGraph(lr[age][day].frame, celltycolors)\n",
    "        dxfiltered[age][day] = tmpGfi\n",
    "        dxunfiltered[age][day] = tmpGuf\n",
    "        "
   ]
  },
  {
   "cell_type": "code",
   "execution_count": 34,
   "metadata": {},
   "outputs": [
    {
     "data": {
      "text/plain": [
       "1737"
      ]
     },
     "execution_count": 34,
     "metadata": {},
     "output_type": "execute_result"
    }
   ],
   "source": [
    "len(dxfiltered['Old']['D4'].nodes())"
   ]
  },
  {
   "cell_type": "code",
   "execution_count": 35,
   "metadata": {},
   "outputs": [
    {
     "data": {
      "text/plain": [
       "3148"
      ]
     },
     "execution_count": 35,
     "metadata": {},
     "output_type": "execute_result"
    }
   ],
   "source": [
    "len(dxunfiltered['Old']['D4'].nodes())"
   ]
  },
  {
   "cell_type": "markdown",
   "metadata": {},
   "source": [
    "## Saving pdf figures and  dictionaries (lr, dxfiltered and dxunfiltered):\n",
    "\n",
    " * Saving pdf figures whole networks"
   ]
  },
  {
   "cell_type": "code",
   "execution_count": 44,
   "metadata": {},
   "outputs": [
    {
     "name": "stdout",
     "output_type": "stream",
     "text": [
      "\n"
     ]
    }
   ],
   "source": [
    "for age in ages:\n",
    "    for day in days:        \n",
    "        G = dxfiltered[age][day]\n",
    "        ccc = [ i for i in nx.get_node_attributes(G, 'color').values()]\n",
    "        eee = [ i for i in nx.get_edge_attributes(G, 'ecolor').values()]## do plot\n",
    "        pos = nx.spring_layout(G)\n",
    "\n",
    "        fig = plt.figure(figsize=(30,25),dpi=150)\n",
    "        color_patches = []\n",
    "        for key, value in celltycolors.items():\n",
    "            tmppatch = mpatches.Patch(color=value, label=key)\n",
    "            color_patches.append(tmppatch)\n",
    "\n",
    "        nodes = nx.draw_networkx_nodes(G,\n",
    "                                      pos,\n",
    "                                      node_color = ccc, edgecolors = 'lightgray', \n",
    "                                      alpha=0.7)\n",
    "        edges = nx.draw_networkx_edges(G,\n",
    "                                      pos,\n",
    "                                      edge_color = eee, alpha=0.7)\n",
    "        ax = plt.gca()\n",
    "        ax.set_axis_off()\n",
    "        fig.tight_layout()\n",
    "        plt.legend(handles=color_patches, prop={'size': 20})\n",
    "\n",
    "        fig.suptitle(f'{age}, {day}. n edges:{len(G.edges())}', fontsize=22)\n",
    "        fig.savefig(f'postFilterNet_{age}{day}.pdf', dpi=150)"
   ]
  },
  {
   "cell_type": "markdown",
   "metadata": {},
   "source": [
    "* obtaining huge size legend for graphical editing purposes"
   ]
  },
  {
   "cell_type": "code",
   "execution_count": 42,
   "metadata": {},
   "outputs": [
    {
     "data": {
      "image/png": "[encoded data removed]",
      "text/plain": [
       "<Figure size 432x288 with 1 Axes>"
      ]
     },
     "metadata": {
      "needs_background": "light"
     },
     "output_type": "display_data"
    }
   ],
   "source": [
    "color_patches = []\n",
    "for key, value in celltycolors.items():\n",
    "    tmppatch = mpatches.Patch(color=value, label=key)\n",
    "    color_patches.append(tmppatch)\n",
    "    \n",
    "onlylegend = plt.figure()\n",
    "plt.legend(handles=color_patches, prop={'size': 20})\n",
    "onlylegend.suptitle('Only Legend for plotting purposes whenever needed')\n",
    "onlylegend.savefig('onlyLegend.pdf')"
   ]
  },
  {
   "cell_type": "markdown",
   "metadata": {},
   "source": [
    " * Saving files\n",
    "    - lr : contains objects of the class 'LRinfos' which I created to stock dataframes\n",
    "            - `.frame` attribute contains unfiltered dataframe\n",
    "            - `.filtered` attribute contains filtered dataframe\n",
    "    - dxfiltered and dxunfiltered : contain networkx objects\n",
    "\n",
    "    saving  dictionaries (lr  and filtered and unfiltered graphs dictionaries) into different files"
   ]
  },
  {
   "cell_type": "code",
   "execution_count": 196,
   "metadata": {},
   "outputs": [],
   "source": [
    "pickle.dump(lr, open( \"graphobjs/dictio_lr.p\", \"wb\" ))"
   ]
  },
  {
   "cell_type": "code",
   "execution_count": 46,
   "metadata": {
    "scrolled": true
   },
   "outputs": [],
   "source": [
    "pickle.dump(dxfiltered, open( \"graphobjs/dictio_dx_filtered.p\", \"wb\" ))"
   ]
  },
  {
   "cell_type": "code",
   "execution_count": 47,
   "metadata": {},
   "outputs": [],
   "source": [
    "pickle.dump(dxunfiltered, open( \"graphobjs/dictio_dx_unfi.p\", \"wb\" ))"
   ]
  },
  {
   "cell_type": "code",
   "execution_count": null,
   "metadata": {},
   "outputs": [],
   "source": [
    "# to open just: lr = pickle.load( open( \"graphobjs/dictio_lr.p\", \"rb\" ) )"
   ]
  },
  {
   "cell_type": "code",
   "execution_count": 48,
   "metadata": {},
   "outputs": [],
   "source": [
    "plt.close('all')"
   ]
  },
  {
   "cell_type": "markdown",
   "metadata": {},
   "source": [
    "## Save interoperable igraph objects"
   ]
  },
  {
   "cell_type": "markdown",
   "metadata": {},
   "source": [
    "For some operations, networkx is more robust than igraph (for example, for transformating into undirected graph, or checking number of connected components for directed graph). However, as we are going to use output to import in a Shiny application, I have decided to use igraph objects for interoperability purposes."
   ]
  },
  {
   "cell_type": "code",
   "execution_count": 55,
   "metadata": {},
   "outputs": [],
   "source": [
    "dxfiltered = pickle.load( open('graphobjs/dictio_dx_filtered.p', 'rb') )\n",
    "dxunfiltered = pickle.load( open('graphobjs/dictio_dx_filtered.p', 'rb') )"
   ]
  },
  {
   "cell_type": "code",
   "execution_count": 57,
   "metadata": {},
   "outputs": [
    {
     "name": "stdout",
     "output_type": "stream",
     "text": [
      "Young\n",
      "Old\n"
     ]
    }
   ],
   "source": [
    "ages = [\"Young\", \"Old\"]\n",
    "days = [\"D0\", \"D2\", \"D4\", \"D7\"]\n",
    "for age in ages:\n",
    "    print(age)\n",
    "    for day in days:\n",
    "        tmp_igraph_filt = ig.Graph.from_networkx(dxfiltered[age][day])\n",
    "        tmp_igraph_unfi = ig.Graph.from_networkx(dxunfiltered[age][day])\n",
    "        tmp_igraph_filt.write_graphml(f'graphobjs/{age}_{day}_igraph_filt.ml')\n",
    "        tmp_igraph_unfi.write_graphml(f'graphobjs/{age}_{day}_igraph_unfi.ml')"
   ]
  },
  {
   "cell_type": "code",
   "execution_count": null,
   "metadata": {},
   "outputs": [],
   "source": []
  }
 ],
 "metadata": {
  "kernelspec": {
   "display_name": "Python 3",
   "language": "python",
   "name": "python3"
  },
  "language_info": {
   "codemirror_mode": {
    "name": "ipython",
    "version": 3
   },
   "file_extension": ".py",
   "mimetype": "text/x-python",
   "name": "python",
   "nbconvert_exporter": "python",
   "pygments_lexer": "ipython3",
   "version": "3.8.1"
  }
 },
 "nbformat": 4,
 "nbformat_minor": 4
}
