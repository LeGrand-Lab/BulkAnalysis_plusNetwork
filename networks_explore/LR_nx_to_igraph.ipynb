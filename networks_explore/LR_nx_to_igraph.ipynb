{
 "cells": [
  {
   "cell_type": "markdown",
   "metadata": {},
   "source": [
    "## Save interoperable igraph objects,\n",
    " Requires networkx objects dictionnary saved by `LR_networks_all.ipynb`"
   ]
  },
  {
   "cell_type": "code",
<<<<<<< HEAD
   "execution_count": 20,
=======
   "execution_count": null,
>>>>>>> f8052c63143e8d6abf54325f61cf5382a3804a4c
   "metadata": {},
   "outputs": [],
   "source": [
    "import os\n",
    "import pickle\n",
    "import networkx as nx\n",
    "import igraph as ig"
   ]
  },
  {
   "cell_type": "code",
<<<<<<< HEAD
   "execution_count": 21,
=======
   "execution_count": null,
>>>>>>> f8052c63143e8d6abf54325f61cf5382a3804a4c
   "metadata": {},
   "outputs": [],
   "source": [
    "outdir = \"graphobjs/\""
   ]
  },
  {
   "cell_type": "code",
<<<<<<< HEAD
   "execution_count": 22,
=======
   "execution_count": null,
>>>>>>> f8052c63143e8d6abf54325f61cf5382a3804a4c
   "metadata": {},
   "outputs": [],
   "source": [
    "print(os.getcwd())"
   ]
  },
  {
   "cell_type": "code",
<<<<<<< HEAD
   "execution_count": 23,
   "metadata": {
    "scrolled": true
   },
=======
   "execution_count": null,
   "metadata": {},
>>>>>>> f8052c63143e8d6abf54325f61cf5382a3804a4c
   "outputs": [],
   "source": [
    "dx = pickle.load(open(f\"{outdir}dictio_dx_filtered.p\", \"rb\"))"
   ]
  },
  {
   "cell_type": "code",
<<<<<<< HEAD
   "execution_count": 24,
=======
   "execution_count": null,
>>>>>>> f8052c63143e8d6abf54325f61cf5382a3804a4c
   "metadata": {},
   "outputs": [],
   "source": [
    "print(type(dx['Young']['D4']))"
   ]
  },
  {
   "cell_type": "code",
<<<<<<< HEAD
   "execution_count": 25,
=======
   "execution_count": null,
>>>>>>> f8052c63143e8d6abf54325f61cf5382a3804a4c
   "metadata": {},
   "outputs": [],
   "source": [
    "test_y_d4 = ig.Graph.from_networkx(dx['Young']['D4'])"
   ]
  },
  {
   "cell_type": "code",
<<<<<<< HEAD
   "execution_count": 26,
=======
   "execution_count": null,
>>>>>>> f8052c63143e8d6abf54325f61cf5382a3804a4c
   "metadata": {},
   "outputs": [],
   "source": [
    "print(test_y_d4.is_directed())"
   ]
  },
  {
   "cell_type": "code",
<<<<<<< HEAD
   "execution_count": 27,
=======
   "execution_count": null,
>>>>>>> f8052c63143e8d6abf54325f61cf5382a3804a4c
   "metadata": {
    "scrolled": true
   },
   "outputs": [],
   "source": [
    "print(test_y_d4.is_connected(mode=\"weak\"))"
   ]
  },
  {
   "cell_type": "markdown",
   "metadata": {},
   "source": [
    "### Important to keep in mind ! :\n",
    "For some operations, networkx is more robust than igraph (for example, for transformating into undirected graph, or checking number of connected components for directed graph)"
   ]
  },
  {
   "cell_type": "code",
<<<<<<< HEAD
   "execution_count": 28,
=======
   "execution_count": null,
>>>>>>> f8052c63143e8d6abf54325f61cf5382a3804a4c
   "metadata": {},
   "outputs": [],
   "source": [
    "test_ig_ud = test_y_d4.to_undirected(mode='collapse', combine_edges=max)"
   ]
  },
  {
   "cell_type": "code",
<<<<<<< HEAD
   "execution_count": 29,
=======
   "execution_count": null,
>>>>>>> f8052c63143e8d6abf54325f61cf5382a3804a4c
   "metadata": {
    "scrolled": true
   },
   "outputs": [],
   "source": [
    "print(type(test_ig_ud))  # failed operation convert into undirected with igraph"
   ]
  },
  {
   "cell_type": "code",
<<<<<<< HEAD
   "execution_count": 30,
=======
   "execution_count": null,
>>>>>>> f8052c63143e8d6abf54325f61cf5382a3804a4c
   "metadata": {},
   "outputs": [],
   "source": [
    "# testing conversion to undirected on networkx\n",
    "nx_undirected = dx['Young']['D4'].to_undirected()"
   ]
  },
  {
   "cell_type": "code",
<<<<<<< HEAD
   "execution_count": 31,
=======
   "execution_count": null,
>>>>>>> f8052c63143e8d6abf54325f61cf5382a3804a4c
   "metadata": {},
   "outputs": [],
   "source": [
    "print(type(nx_undirected)) # success convert into undirected with networkx"
   ]
  },
  {
   "cell_type": "code",
<<<<<<< HEAD
   "execution_count": 32,
=======
   "execution_count": null,
>>>>>>> f8052c63143e8d6abf54325f61cf5382a3804a4c
   "metadata": {},
   "outputs": [],
   "source": [
    "print(nx.number_strongly_connected_components(dx['Young']['D4']))  # with networkx on directed graph"
   ]
  },
  {
   "cell_type": "markdown",
   "metadata": {},
   "source": [
    "<div class=\"alert alert-block alert-danger\">\n",
    "<b>CAUTION:</b> our \"graphs\" are unconnected, we expect for each \"graph\" object ~ 1000 connected components, most of them being of very small size (two is the minimum size, one L-R pair)\n",
    "</div> "
   ]
  },
  {
   "cell_type": "code",
<<<<<<< HEAD
   "execution_count": 33,
=======
   "execution_count": null,
>>>>>>> f8052c63143e8d6abf54325f61cf5382a3804a4c
   "metadata": {},
   "outputs": [],
   "source": [
    "try:\n",
    "    gg = max(nx.connected_components(dx['Young']['D4']), key=len)\n",
    "except:\n",
    "    print(\"you knew that this function was only possible on UNDIRECTED graph, documentation said\")\n",
    "#https://stackoverflow.com/questions/26105764/how-do-i-get-the-giant-component-of-a-networkx-graph"
   ]
  },
  {
   "cell_type": "code",
<<<<<<< HEAD
   "execution_count": 34,
=======
   "execution_count": null,
>>>>>>> f8052c63143e8d6abf54325f61cf5382a3804a4c
   "metadata": {},
   "outputs": [],
   "source": [
    "try:\n",
    "    gg = max(nx.connected_components(nx_undirected), key=len)\n",
    "except:\n",
    "    print(\"you knew that this function was only possible on directed graph, documentation said\")"
   ]
  },
  {
   "cell_type": "code",
<<<<<<< HEAD
   "execution_count": 35,
=======
   "execution_count": null,
>>>>>>> f8052c63143e8d6abf54325f61cf5382a3804a4c
   "metadata": {},
   "outputs": [],
   "source": [
    "n = 5\n",
    "print(f'here the first {n} nodes of the biggest connected component:  {list(gg)[:n]}')\n",
    "print(f'and the TOTAL number of nodes of this biggest connected component : {len(gg)}')\n",
    "      "
   ]
  },
  {
   "cell_type": "markdown",
   "metadata": {},
   "source": [
    "### For shiny viz purposes, export igraph objects"
   ]
  },
  {
   "cell_type": "code",
<<<<<<< HEAD
   "execution_count": 36,
=======
   "execution_count": null,
>>>>>>> f8052c63143e8d6abf54325f61cf5382a3804a4c
   "metadata": {},
   "outputs": [],
   "source": [
    "for age in dx.keys():\n",
    "    print(age)\n",
    "    for day in dx[age].keys():\n",
    "        tmp_igraph = ig.Graph.from_networkx(dx[age][day])\n",
    "        tmp_igraph.write_graphml(f'{outdir}{age}_{day}_igraph.ml')\n",
    "        "
   ]
  },
  {
   "cell_type": "code",
   "execution_count": null,
   "metadata": {},
   "outputs": [],
   "source": []
  },
  {
   "cell_type": "code",
   "execution_count": null,
   "metadata": {},
   "outputs": [],
   "source": []
  },
  {
   "cell_type": "code",
   "execution_count": null,
   "metadata": {},
   "outputs": [],
   "source": []
  }
 ],
 "metadata": {
  "kernelspec": {
   "display_name": "Python 3 (ipykernel)",
   "language": "python",
   "name": "python3"
  },
  "language_info": {
   "codemirror_mode": {
    "name": "ipython",
    "version": 3
   },
   "file_extension": ".py",
   "mimetype": "text/x-python",
   "name": "python",
   "nbconvert_exporter": "python",
   "pygments_lexer": "ipython3",
<<<<<<< HEAD
   "version": "3.9.12"
=======
   "version": "3.7.9"
>>>>>>> f8052c63143e8d6abf54325f61cf5382a3804a4c
  }
 },
 "nbformat": 4,
 "nbformat_minor": 4
}
