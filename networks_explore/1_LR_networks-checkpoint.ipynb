{
 "cells": [
  {
   "cell_type": "markdown",
   "metadata": {},
   "source": [
    "## LR (ligand and Receptor) networks\n",
    "This notebook analyzes all L-R dataframes obtained from NATMI. \n",
    "Checks edges' weight distribution, tests different thresholds for filtering and saves filtered and unfiltered LR dataframes (as a dictionary of `LRinfos` objects). It also generates and saves filtered and unfiltered networkx objects dictionaries. \n",
    "-------\n",
    "Author : johaGL"
   ]
  },
  {
   "cell_type": "code",
   "execution_count": 1,
   "metadata": {},
   "outputs": [],
   "source": [
    "import os\n",
    "import numpy as np\n",
    "import matplotlib as mpl\n",
    "import matplotlib.pyplot as plt\n",
    "#import holoviews\n",
    "import pygraphviz\n",
    "import networkx as nx\n",
    "import pandas as pd\n",
    "import matplotlib.patches as mpatches\n",
    "from scipy import stats\n",
    "import pickle\n",
    "import igraph as ig"
   ]
  },
  {
   "cell_type": "code",
   "execution_count": 2,
   "metadata": {},
   "outputs": [],
   "source": [
    "import pylab as pyl"
   ]
  },
  {
   "cell_type": "code",
   "execution_count": 3,
   "metadata": {},
   "outputs": [],
   "source": [
    "class LRinfos:  \n",
    "    \"\"\"\n",
    "    class to handle  Natmi dataframe results\n",
    "    one object by result ! \n",
    "    to create object, predf is needed (the Edges opened with pandas csv)\n",
    "    use 'frame' attribute to get dataframe suitable for graph conversion\n",
    "    \"\"\"\n",
    "    def __init__(self, age, day, predf):\n",
    "        self.age = age\n",
    "        self.day = day\n",
    "        self.predf  = predf\n",
    "        self.makeunique_symbo_cellty()\n",
    "        self.about = f\"object age {age}, day {day}, use 'frame' attribute for more!\"\n",
    "        \n",
    "    def makeunique_symbo_cellty(self):\n",
    "        otab = self.predf\n",
    "        otab['uniq_Ligand_symbol'] = otab['Ligand symbol'] + '_' + otab['Sending cluster']\n",
    "        otab['uniq_Receptor_symbol'] = otab['Receptor symbol'] + '_' + otab['Target cluster']\n",
    "        self.frame = otab  # this adds attribute 'frame'     \n",
    "        \n",
    "    def filterZero(self):  \n",
    "        tmp = self.frame.loc[self.frame['Edge average expression derived specificity'] > 0]\n",
    "        self.frame = tmp  # yield only non zero edges dataframe\n",
    "    \n",
    "    def filterOnEdgeslog10(self, cutoff):\n",
    "        if min(self.frame['Edge average expression derived specificity']) < 0:\n",
    "            self.filterZero()\n",
    "        self.frame['log10_edge_sp'] = np.log10(np.array(self.frame['Edge average expression derived specificity']))\n",
    "        tf = self.frame.loc[ self.frame['log10_edge_sp'] >= cutoff ]\n",
    "        self.filtered = tf\n",
    "        \n",
    "           "
   ]
  },
  {
   "cell_type": "code",
   "execution_count": 4,
   "metadata": {},
   "outputs": [],
   "source": [
    "ages = [ 'Young', 'Old']\n",
    "days = ['D0', 'D2', 'D4', 'D7']     "
   ]
  },
  {
   "cell_type": "markdown",
   "metadata": {},
   "source": [
    "<div class=\"alert alert-info\">\n",
    "  <strong>Network files : </strong>\n",
    "     These tab delimited dataframe files are named identically, \n",
    "     So, what distinguishes Networks is folder location, folder location has age and day\n",
    "    see variable: \n",
    "      <p style=\"font-family:'Lucida Console', monospace\">deffilename</p>\n",
    "</div> "
   ]
  },
  {
   "cell_type": "markdown",
   "metadata": {},
   "source": [
    "`deffilename`"
   ]
  },
  {
   "cell_type": "code",
   "execution_count": 13,
   "metadata": {
    "scrolled": true
   },
   "outputs": [
    {
     "name": "stdout",
     "output_type": "stream",
     "text": [
      "/home/johanna/BulkAnalysis_plusNetwork/networks_explore\n"
     ]
    },
    {
     "data": {
      "text/html": [
       "<div>\n",
       "<style scoped>\n",
       "    .dataframe tbody tr th:only-of-type {\n",
       "        vertical-align: middle;\n",
       "    }\n",
       "\n",
       "    .dataframe tbody tr th {\n",
       "        vertical-align: top;\n",
       "    }\n",
       "\n",
       "    .dataframe thead th {\n",
       "        text-align: right;\n",
       "    }\n",
       "</style>\n",
       "<table border=\"1\" class=\"dataframe\">\n",
       "  <thead>\n",
       "    <tr style=\"text-align: right;\">\n",
       "      <th></th>\n",
       "      <th>Sending cluster</th>\n",
       "      <th>Ligand symbol</th>\n",
       "      <th>Receptor symbol</th>\n",
       "      <th>Target cluster</th>\n",
       "      <th>Ligand-expressing cells</th>\n",
       "      <th>Ligand detection rate</th>\n",
       "      <th>Ligand average expression value</th>\n",
       "      <th>Ligand total expression value</th>\n",
       "      <th>Ligand derived specificity of average expression value</th>\n",
       "      <th>Ligand derived specificity of total expression value</th>\n",
       "      <th>Receptor-expressing cells</th>\n",
       "      <th>Receptor detection rate</th>\n",
       "      <th>Receptor average expression value</th>\n",
       "      <th>Receptor total expression value</th>\n",
       "      <th>Receptor derived specificity of average expression value</th>\n",
       "      <th>Receptor derived specificity of total expression value</th>\n",
       "      <th>Edge average expression weight</th>\n",
       "      <th>Edge average expression derived specificity</th>\n",
       "      <th>Edge total expression weight</th>\n",
       "      <th>Edge total expression derived specificity</th>\n",
       "    </tr>\n",
       "  </thead>\n",
       "  <tbody>\n",
       "    <tr>\n",
       "      <th>0</th>\n",
       "      <td>ECs</td>\n",
       "      <td>Agt</td>\n",
       "      <td>Mas1</td>\n",
       "      <td>ECs</td>\n",
       "      <td>1</td>\n",
       "      <td>0.333333</td>\n",
       "      <td>0.058046</td>\n",
       "      <td>0.174139</td>\n",
       "      <td>0.027605</td>\n",
       "      <td>0.027605</td>\n",
       "      <td>3</td>\n",
       "      <td>1.0</td>\n",
       "      <td>1.038072</td>\n",
       "      <td>3.114217</td>\n",
       "      <td>0.212692</td>\n",
       "      <td>0.212692</td>\n",
       "      <td>0.060256</td>\n",
       "      <td>0.005871</td>\n",
       "      <td>0.542307</td>\n",
       "      <td>0.005871</td>\n",
       "    </tr>\n",
       "  </tbody>\n",
       "</table>\n",
       "</div>"
      ],
      "text/plain": [
       "  Sending cluster Ligand symbol Receptor symbol Target cluster  \\\n",
       "0             ECs           Agt            Mas1            ECs   \n",
       "\n",
       "   Ligand-expressing cells  Ligand detection rate  \\\n",
       "0                        1               0.333333   \n",
       "\n",
       "   Ligand average expression value  Ligand total expression value  \\\n",
       "0                         0.058046                       0.174139   \n",
       "\n",
       "   Ligand derived specificity of average expression value  \\\n",
       "0                                           0.027605        \n",
       "\n",
       "   Ligand derived specificity of total expression value  \\\n",
       "0                                           0.027605      \n",
       "\n",
       "   Receptor-expressing cells  Receptor detection rate  \\\n",
       "0                          3                      1.0   \n",
       "\n",
       "   Receptor average expression value  Receptor total expression value  \\\n",
       "0                           1.038072                         3.114217   \n",
       "\n",
       "   Receptor derived specificity of average expression value  \\\n",
       "0                                           0.212692          \n",
       "\n",
       "   Receptor derived specificity of total expression value  \\\n",
       "0                                           0.212692        \n",
       "\n",
       "   Edge average expression weight  \\\n",
       "0                        0.060256   \n",
       "\n",
       "   Edge average expression derived specificity  Edge total expression weight  \\\n",
       "0                                     0.005871                      0.542307   \n",
       "\n",
       "   Edge total expression derived specificity  \n",
       "0                                   0.005871  "
      ]
     },
     "execution_count": 13,
     "metadata": {},
     "output_type": "execute_result"
    }
   ],
   "source": [
    "\"\"\"\n",
    "Network files are named identically (deffilename) , BUT : \n",
    "what distinguishes Networks is folder location, folder location has age and day !!!\n",
    "\"\"\"\n",
    "indatadir = \"~/BulkAnalysis_plusNetwork/natmiCorrectedOut/\"\n",
    "print(os.getcwd())\n",
    "#deffilename = 'Network_exp_0_spe_0_det_0.6_top_0_signal_lrc2p_weight_mean/'\n",
    "deffilename = \"\"\n",
    "# example opening a file: \n",
    "old_D7 = pd.read_csv(f'{indatadir}OldD7/Edges_lrc2p.csv',sep=\",\", header=0) \n",
    "old_D7.head(1)"
   ]
  },
  {
   "cell_type": "code",
   "execution_count": 16,
   "metadata": {},
   "outputs": [],
   "source": [
    "\"\"\"\n",
    "all LRinfos objects are stocked in dictionary\n",
    "\"\"\"\n",
    "lr = {}      \n",
    "for i in ages:\n",
    "    lr[i] = {}\n",
    "    for j in days:   \n",
    "        predf = pd.read_csv(f'{indatadir}{i}{j}/Edges_lrc2p.csv',sep=\",\", header=0)  \n",
    "        myob = LRinfos(i, j, predf)\n",
    "        lr[i][j] = myob      "
   ]
  },
  {
   "cell_type": "code",
   "execution_count": 17,
   "metadata": {},
   "outputs": [
    {
     "name": "stdout",
     "output_type": "stream",
     "text": [
      "object age Young, day D2, use 'frame' attribute for more!\n"
     ]
    }
   ],
   "source": [
    "print(lr['Young']['D2'].about)"
   ]
  },
  {
   "cell_type": "code",
   "execution_count": 18,
   "metadata": {
    "scrolled": true
   },
   "outputs": [
    {
     "data": {
      "text/html": [
       "<div>\n",
       "<style scoped>\n",
       "    .dataframe tbody tr th:only-of-type {\n",
       "        vertical-align: middle;\n",
       "    }\n",
       "\n",
       "    .dataframe tbody tr th {\n",
       "        vertical-align: top;\n",
       "    }\n",
       "\n",
       "    .dataframe thead th {\n",
       "        text-align: right;\n",
       "    }\n",
       "</style>\n",
       "<table border=\"1\" class=\"dataframe\">\n",
       "  <thead>\n",
       "    <tr style=\"text-align: right;\">\n",
       "      <th></th>\n",
       "      <th>Sending cluster</th>\n",
       "      <th>Ligand symbol</th>\n",
       "      <th>Receptor symbol</th>\n",
       "      <th>Target cluster</th>\n",
       "      <th>Ligand-expressing cells</th>\n",
       "      <th>Ligand detection rate</th>\n",
       "      <th>Ligand average expression value</th>\n",
       "      <th>Ligand total expression value</th>\n",
       "      <th>Ligand derived specificity of average expression value</th>\n",
       "      <th>Ligand derived specificity of total expression value</th>\n",
       "      <th>...</th>\n",
       "      <th>Receptor average expression value</th>\n",
       "      <th>Receptor total expression value</th>\n",
       "      <th>Receptor derived specificity of average expression value</th>\n",
       "      <th>Receptor derived specificity of total expression value</th>\n",
       "      <th>Edge average expression weight</th>\n",
       "      <th>Edge average expression derived specificity</th>\n",
       "      <th>Edge total expression weight</th>\n",
       "      <th>Edge total expression derived specificity</th>\n",
       "      <th>uniq_Ligand_symbol</th>\n",
       "      <th>uniq_Receptor_symbol</th>\n",
       "    </tr>\n",
       "  </thead>\n",
       "  <tbody>\n",
       "    <tr>\n",
       "      <th>0</th>\n",
       "      <td>ECs</td>\n",
       "      <td>Agt</td>\n",
       "      <td>Mas1</td>\n",
       "      <td>ECs</td>\n",
       "      <td>2</td>\n",
       "      <td>0.666667</td>\n",
       "      <td>0.121402</td>\n",
       "      <td>0.364207</td>\n",
       "      <td>0.285618</td>\n",
       "      <td>0.285618</td>\n",
       "      <td>...</td>\n",
       "      <td>0.388631</td>\n",
       "      <td>1.165893</td>\n",
       "      <td>0.39784</td>\n",
       "      <td>0.39784</td>\n",
       "      <td>0.047181</td>\n",
       "      <td>0.11363</td>\n",
       "      <td>0.424626</td>\n",
       "      <td>0.11363</td>\n",
       "      <td>Agt_ECs</td>\n",
       "      <td>Mas1_ECs</td>\n",
       "    </tr>\n",
       "  </tbody>\n",
       "</table>\n",
       "<p>1 rows × 22 columns</p>\n",
       "</div>"
      ],
      "text/plain": [
       "  Sending cluster Ligand symbol Receptor symbol Target cluster  \\\n",
       "0             ECs           Agt            Mas1            ECs   \n",
       "\n",
       "   Ligand-expressing cells  Ligand detection rate  \\\n",
       "0                        2               0.666667   \n",
       "\n",
       "   Ligand average expression value  Ligand total expression value  \\\n",
       "0                         0.121402                       0.364207   \n",
       "\n",
       "   Ligand derived specificity of average expression value  \\\n",
       "0                                           0.285618        \n",
       "\n",
       "   Ligand derived specificity of total expression value  ...  \\\n",
       "0                                           0.285618     ...   \n",
       "\n",
       "   Receptor average expression value  Receptor total expression value  \\\n",
       "0                           0.388631                         1.165893   \n",
       "\n",
       "   Receptor derived specificity of average expression value  \\\n",
       "0                                            0.39784          \n",
       "\n",
       "   Receptor derived specificity of total expression value  \\\n",
       "0                                            0.39784        \n",
       "\n",
       "   Edge average expression weight  \\\n",
       "0                        0.047181   \n",
       "\n",
       "   Edge average expression derived specificity  Edge total expression weight  \\\n",
       "0                                      0.11363                      0.424626   \n",
       "\n",
       "   Edge total expression derived specificity  uniq_Ligand_symbol  \\\n",
       "0                                    0.11363             Agt_ECs   \n",
       "\n",
       "   uniq_Receptor_symbol  \n",
       "0              Mas1_ECs  \n",
       "\n",
       "[1 rows x 22 columns]"
      ]
     },
     "execution_count": 18,
     "metadata": {},
     "output_type": "execute_result"
    }
   ],
   "source": [
    "lr['Young']['D2'].frame.head(1)"
   ]
  },
  {
   "cell_type": "code",
   "execution_count": 19,
   "metadata": {
    "scrolled": true
   },
   "outputs": [
    {
     "data": {
      "text/plain": [
       "1.0"
      ]
     },
     "execution_count": 19,
     "metadata": {},
     "output_type": "execute_result"
    }
   ],
   "source": [
    "max(lr['Old']['D0'].frame['Edge average expression derived specificity'])"
   ]
  },
  {
   "cell_type": "code",
   "execution_count": 20,
   "metadata": {},
   "outputs": [
    {
     "name": "stdout",
     "output_type": "stream",
     "text": [
      "Young+D0 specificities edges are all over zero\n",
      "Young+D2 specificities edges are all over zero\n",
      "Young+D4 specificities edges are all over zero\n",
      "Young+D7 specificities edges are all over zero\n",
      "Old+D0 specificities edges are all over zero\n",
      "Old+D2 specificities edges are all over zero\n",
      "Old+D4 specificities edges are all over zero\n",
      "Old+D7 specificities edges are all over zero\n"
     ]
    }
   ],
   "source": [
    "# by default , Natmi yields edges exhibiting specificities > 0\n",
    "# verify : \n",
    "for age in ages:\n",
    "    for day in days:\n",
    "        if (min(lr[age][day].frame['Edge average expression derived specificity']) > 0):\n",
    "            print(f'{age}+{day} specificities edges are all over zero')\n",
    "        else : \n",
    "            print(f'{age}+{day} HAS A MIN VALUE EQUAL TO ZERO, FILTER OUT using obj.filterZero()')        "
   ]
  },
  {
   "cell_type": "code",
   "execution_count": 21,
   "metadata": {},
   "outputs": [
    {
     "data": {
      "text/plain": [
       "Text(0.5, 0.98, 'Edge specificities, given values')"
      ]
     },
     "execution_count": 21,
     "metadata": {},
     "output_type": "execute_result"
    },
    {
     "data": {
      "image/png": "[encoded data removed]",
      "text/plain": [
       "<Figure size 900x400 with 8 Axes>"
      ]
     },
     "metadata": {},
     "output_type": "display_data"
    }
   ],
   "source": [
    "\"\"\" plotting edge specificities \"\"\"\n",
    "histocols = ['orange', 'dimgray']\n",
    "fig, axs = plt.subplots(2, 4, figsize=(9,4))\n",
    "for rawi in range(2):\n",
    "    AGE = ages[rawi]\n",
    "    for coli in range(4):\n",
    "        DAY = days[coli]\n",
    "        tmpvec = lr[AGE][DAY].frame['Edge average expression derived specificity']        \n",
    "        axs[rawi, coli].hist(tmpvec,\n",
    "                            color=histocols[rawi], bins=40)\n",
    "        axs[rawi, coli].set_title(f'{ages[rawi]} {days[coli]}')\n",
    "        \n",
    "\n",
    "for ax in axs.flat:\n",
    "    ax.set(xlabel='values', ylabel='n')\n",
    "\n",
    "# Hide x labels and tick labels for top plots and y ticks for right plots.\n",
    "for ax in axs.flat:\n",
    "    ax.label_outer()\n",
    "\n",
    "fig.suptitle(f'Edge specificities, given values', fontsize=16)"
   ]
  },
  {
   "cell_type": "markdown",
   "metadata": {},
   "source": [
    "**This is very similar to TAu indexes, being 1 most specific, and 0 housekeeping !**  . Most have weak specificities, do preservative approach, by using log10 to filter. First we must explore log transformed values"
   ]
  },
  {
   "cell_type": "code",
   "execution_count": 22,
   "metadata": {},
   "outputs": [
    {
     "data": {
      "text/plain": [
       "Text(0.5, 0.98, 'Edge specificities, log10 (x)')"
      ]
     },
     "execution_count": 22,
     "metadata": {},
     "output_type": "execute_result"
    },
    {
     "data": {
      "image/png": "[encoded data removed]",
      "text/plain": [
       "<Figure size 1000x400 with 8 Axes>"
      ]
     },
     "metadata": {},
     "output_type": "display_data"
    }
   ],
   "source": [
    "\"\"\" plotting edge specificities, log \"\"\"\n",
    "\n",
    "histocols = ['orange', 'dimgray']\n",
    "fig, axs = plt.subplots(2, 4, figsize=(10,4))\n",
    "for rawi in range(2):\n",
    "    AGE = ages[rawi]\n",
    "    for coli in range(4):\n",
    "        DAY = days[coli]\n",
    "        tmpvec = lr[AGE][DAY].frame['Edge average expression derived specificity']        \n",
    "        axs[rawi, coli].hist(np.log10(np.array(tmpvec)),\n",
    "                            color=histocols[rawi], bins=40)\n",
    "        axs[rawi, coli].set_title(f'{ages[rawi]} {days[coli]}')        \n",
    "\n",
    "for ax in axs.flat:\n",
    "    ax.set(xlabel='log10 values', ylabel='n')\n",
    "\n",
    "# Hide x labels and tick labels for top plots and y ticks for right plots.\n",
    "for ax in axs.flat:\n",
    "    ax.label_outer()\n",
    "\n",
    "fig.suptitle(f'Edge specificities, log10 (x)', fontsize=16)"
   ]
  },
  {
   "cell_type": "markdown",
   "metadata": {},
   "source": [
    "The closer to 1 (0 in log10 value) the more the edge is predicted to be 'specific'\n",
    "We see that most of edges specificities are concentrated between 0.1 and 0.001 (-1 and -3 in log10 value). \n",
    "These plots allowed us to know about data distribution, but we need\n",
    "to scale them to  values suitable for making graph style visualizations."
   ]
  },
  {
   "cell_type": "markdown",
   "metadata": {},
   "source": [
    "### filter , using function from my 'LRinfos' class : \n",
    "\n",
    "The function 'filterOnEdgeslog10' is defined inside the class (above), cutoff is customizable"
   ]
  },
  {
   "cell_type": "code",
   "execution_count": 23,
   "metadata": {},
   "outputs": [],
   "source": [
    "## filter and check edges\n",
    "for age in ages:\n",
    "    for day in days:\n",
    "        lr[age][day].filterOnEdgeslog10(-0.5)   # using -0.5 as log10 cutoff"
   ]
  },
  {
   "cell_type": "code",
   "execution_count": 24,
   "metadata": {},
   "outputs": [
    {
     "data": {
      "text/plain": [
       "6       -0.251691\n",
       "19      -0.136827\n",
       "26      -0.163615\n",
       "31      -0.017328\n",
       "35      -0.040090\n",
       "           ...   \n",
       "25492   -0.222967\n",
       "25502   -0.220699\n",
       "25527   -0.325724\n",
       "25602   -0.375000\n",
       "25606   -0.429450\n",
       "Name: log10_edge_sp, Length: 1053, dtype: float64"
      ]
     },
     "execution_count": 24,
     "metadata": {},
     "output_type": "execute_result"
    }
   ],
   "source": [
    "lr['Young']['D4'].filtered['log10_edge_sp']"
   ]
  },
  {
   "cell_type": "code",
   "execution_count": 25,
   "metadata": {},
   "outputs": [
    {
     "data": {
      "text/plain": [
       "Text(0.5, 0.98, 'Edge specificities, POST filter ')"
      ]
     },
     "execution_count": 25,
     "metadata": {},
     "output_type": "execute_result"
    },
    {
     "data": {
      "image/png": "[encoded data removed]",
      "text/plain": [
       "<Figure size 1200x500 with 8 Axes>"
      ]
     },
     "metadata": {},
     "output_type": "display_data"
    }
   ],
   "source": [
    "## plotting POST filter\n",
    "\"\"\" plotting POST filter edge specificities \"\"\"\n",
    "histocols = ['orange', 'dimgray']\n",
    "fig, axs = plt.subplots(2, 4, figsize=(12,5))\n",
    "for rawi in range(2):\n",
    "    AGE = ages[rawi]\n",
    "    for coli in range(4):\n",
    "        DAY = days[coli]\n",
    "        tmpvec = lr[AGE][DAY].filtered['Edge average expression derived specificity']     \n",
    "        #tmpvec = lr[AGE][DAY].filtered['log10_edge_sp']\n",
    "        axs[rawi, coli].hist(np.array(tmpvec),\n",
    "                            color=histocols[rawi], bins=40)\n",
    "        axs[rawi, coli].set_title(f'{ages[rawi]} {days[coli]}')\n",
    "        \n",
    "\n",
    "for ax in axs.flat:\n",
    "    ax.set(xlabel='values', ylabel='n')\n",
    "\n",
    "# Hide x labels and tick labels for top plots and y ticks for right plots.\n",
    "for ax in axs.flat:\n",
    "    ax.label_outer()\n",
    "\n",
    "fig.suptitle(f'Edge specificities, POST filter ', fontsize=16)"
   ]
  },
  {
   "cell_type": "code",
   "execution_count": 26,
   "metadata": {},
   "outputs": [
    {
     "name": "stdout",
     "output_type": "stream",
     "text": [
      "('Young', 'D0')\n",
      "(1505, 23)\n",
      "('Young', 'D2')\n",
      "(882, 23)\n",
      "('Young', 'D4')\n",
      "(1053, 23)\n",
      "('Young', 'D7')\n",
      "(1285, 23)\n",
      "('Old', 'D0')\n",
      "(1453, 23)\n",
      "('Old', 'D2')\n",
      "(891, 23)\n",
      "('Old', 'D4')\n",
      "(985, 23)\n",
      "('Old', 'D7')\n",
      "(1286, 23)\n"
     ]
    }
   ],
   "source": [
    "for age in ages:\n",
    "    for day in days:\n",
    "        print((age,day))\n",
    "        print(lr[age][day].filtered.shape)"
   ]
  },
  {
   "cell_type": "markdown",
   "metadata": {},
   "source": [
    "That was very stringent (-0.5), let's set another cutoff"
   ]
  },
  {
   "cell_type": "code",
   "execution_count": 27,
   "metadata": {},
   "outputs": [],
   "source": [
    "for age in ages:\n",
    "    for day in days:\n",
    "        lr[age][day].filterOnEdgeslog10(-1) "
   ]
  },
  {
   "cell_type": "markdown",
   "metadata": {},
   "source": [
    "### Compare filtered and unfiltered number of edges:\n",
    "Making a simple table"
   ]
  },
  {
   "cell_type": "code",
   "execution_count": 28,
   "metadata": {},
   "outputs": [],
   "source": [
    "tabularmanual = {'notfiltered' : [], 'filtered' : []}\n",
    "manualindexes = []\n",
    "for i in ages:\n",
    "    for j in days:\n",
    "        tabularmanual['notfiltered'].append(lr[i][j].frame.shape[0])\n",
    "        tabularmanual['filtered'].append(lr[i][j].filtered.shape[0])\n",
    "        manualindexes.append(f'{i}_{j}')\n",
    "#    = {'notfiltered' : [1,2,3], 'filtered' : [4,5,6]}"
   ]
  },
  {
   "cell_type": "code",
   "execution_count": 29,
   "metadata": {
    "scrolled": true
   },
   "outputs": [
    {
     "data": {
      "text/plain": [
       "3682"
      ]
     },
     "execution_count": 29,
     "metadata": {},
     "output_type": "execute_result"
    }
   ],
   "source": [
    "lr['Old']['D0'].filtered.shape[0]"
   ]
  },
  {
   "cell_type": "code",
   "execution_count": 30,
   "metadata": {},
   "outputs": [
    {
     "name": "stdout",
     "output_type": "stream",
     "text": [
      "compare unfiltered vs filtered NUMBER OF EDGES, as filter done on edges specs\n"
     ]
    },
    {
     "data": {
      "text/html": [
       "<div>\n",
       "<style scoped>\n",
       "    .dataframe tbody tr th:only-of-type {\n",
       "        vertical-align: middle;\n",
       "    }\n",
       "\n",
       "    .dataframe tbody tr th {\n",
       "        vertical-align: top;\n",
       "    }\n",
       "\n",
       "    .dataframe thead th {\n",
       "        text-align: right;\n",
       "    }\n",
       "</style>\n",
       "<table border=\"1\" class=\"dataframe\">\n",
       "  <thead>\n",
       "    <tr style=\"text-align: right;\">\n",
       "      <th></th>\n",
       "      <th>notfiltered</th>\n",
       "      <th>filtered</th>\n",
       "    </tr>\n",
       "  </thead>\n",
       "  <tbody>\n",
       "    <tr>\n",
       "      <th>Young_D0</th>\n",
       "      <td>9547</td>\n",
       "      <td>3827</td>\n",
       "    </tr>\n",
       "    <tr>\n",
       "      <th>Young_D2</th>\n",
       "      <td>33746</td>\n",
       "      <td>4100</td>\n",
       "    </tr>\n",
       "    <tr>\n",
       "      <th>Young_D4</th>\n",
       "      <td>25758</td>\n",
       "      <td>4437</td>\n",
       "    </tr>\n",
       "    <tr>\n",
       "      <th>Young_D7</th>\n",
       "      <td>16876</td>\n",
       "      <td>4405</td>\n",
       "    </tr>\n",
       "    <tr>\n",
       "      <th>Old_D0</th>\n",
       "      <td>9467</td>\n",
       "      <td>3682</td>\n",
       "    </tr>\n",
       "    <tr>\n",
       "      <th>Old_D2</th>\n",
       "      <td>33051</td>\n",
       "      <td>4245</td>\n",
       "    </tr>\n",
       "    <tr>\n",
       "      <th>Old_D4</th>\n",
       "      <td>24504</td>\n",
       "      <td>4531</td>\n",
       "    </tr>\n",
       "    <tr>\n",
       "      <th>Old_D7</th>\n",
       "      <td>17390</td>\n",
       "      <td>4406</td>\n",
       "    </tr>\n",
       "  </tbody>\n",
       "</table>\n",
       "</div>"
      ],
      "text/plain": [
       "          notfiltered  filtered\n",
       "Young_D0         9547      3827\n",
       "Young_D2        33746      4100\n",
       "Young_D4        25758      4437\n",
       "Young_D7        16876      4405\n",
       "Old_D0           9467      3682\n",
       "Old_D2          33051      4245\n",
       "Old_D4          24504      4531\n",
       "Old_D7          17390      4406"
      ]
     },
     "execution_count": 30,
     "metadata": {},
     "output_type": "execute_result"
    }
   ],
   "source": [
    "print(\"compare unfiltered vs filtered NUMBER OF EDGES, as filter done on edges specs\")\n",
    "pd.DataFrame(tabularmanual, index = manualindexes)"
   ]
  },
  {
   "cell_type": "code",
   "execution_count": 31,
   "metadata": {},
   "outputs": [
    {
     "data": {
      "text/plain": [
       "Text(0.5, 0.98, 'Edge specificities, POST filter ')"
      ]
     },
     "execution_count": 31,
     "metadata": {},
     "output_type": "execute_result"
    },
    {
     "data": {
      "image/png": "[encoded data removed]",
      "text/plain": [
       "<Figure size 1000x500 with 8 Axes>"
      ]
     },
     "metadata": {},
     "output_type": "display_data"
    }
   ],
   "source": [
    "\"\"\" plotting POST filter edge specificities \"\"\"\n",
    "histocols = ['orange', 'dimgray']\n",
    "fig, axs = plt.subplots(2, 4, figsize=(10,5))\n",
    "for rawi in range(2):\n",
    "    AGE = ages[rawi]\n",
    "    for coli in range(4):\n",
    "        DAY = days[coli]\n",
    "        tmpvec = lr[AGE][DAY].filtered['Edge average expression derived specificity']     \n",
    "        #tmpvec = lr[AGE][DAY].filtered['log10_edge_sp']\n",
    "        axs[rawi, coli].hist(np.array(tmpvec),\n",
    "                            color=histocols[rawi], bins=40)\n",
    "        axs[rawi, coli].set_title(f'{ages[rawi]} {days[coli]}')\n",
    "        \n",
    "\n",
    "for ax in axs.flat:\n",
    "    ax.set(xlabel=' values', ylabel='n')\n",
    "\n",
    "# Hide x labels and tick labels for top plots and y ticks for right plots.\n",
    "for ax in axs.flat:\n",
    "    ax.label_outer()\n",
    "\n",
    "fig.suptitle(f'Edge specificities, POST filter ', fontsize=16)"
   ]
  },
  {
   "cell_type": "raw",
   "metadata": {},
   "source": []
  },
  {
   "cell_type": "markdown",
   "metadata": {},
   "source": [
    "## New function to get Networkx object from dataframe\n",
    "#### and give it colors as universally defined, from specialized color-blindness friendly palette (defined from R scripts)"
   ]
  },
  {
   "cell_type": "code",
   "execution_count": 32,
   "metadata": {},
   "outputs": [],
   "source": [
    "def getCustomGraph(adf, celltycolors):\n",
    "    \"\"\"Inputs :  adf (a dataframe) , and\n",
    "                 colors in the form of a dictionary.\n",
    "    Output:  Networkx object\"\"\"\n",
    "    G = nx.DiGraph()\n",
    "    for index,row in adf.iterrows():\n",
    "        nodefrom = row['uniq_Ligand_symbol']\n",
    "        nodeto = row['uniq_Receptor_symbol']\n",
    "        celltypefrom = row['Sending cluster']\n",
    "        celltypeto = row['Target cluster']\n",
    "        G.add_node(nodefrom,\n",
    "                    nodetype = 'sender',\n",
    "                    celltype = celltypefrom,\n",
    "                    genesym = row['Ligand symbol'],\n",
    "                    color = celltycolors[celltypefrom],\n",
    "                    specificity = row['Ligand derived specificity of average expression value'])\n",
    "        G.add_node(nodeto,\n",
    "                    nodetype = 'receiver',\n",
    "                    celltype = celltypeto, \n",
    "                    genesym = row['Receptor symbol'],\n",
    "                    color = celltycolors[celltypeto],\n",
    "                    specificity = row['Receptor derived specificity of average expression value'])\n",
    "        G.add_edge(nodefrom,nodeto, origtype = nodefrom,\n",
    "                    ecolor = celltycolors[celltypefrom],\n",
    "                    weight = row['Edge average expression derived specificity']) \n",
    "    return G"
   ]
  },
  {
   "cell_type": "code",
   "execution_count": 37,
   "metadata": {},
   "outputs": [],
   "source": [
    "celltycolors = {\n",
    "  \"ECs\" : \"#0072B2\",\n",
    "  \"FAPs\" : \"#F0E442\",\n",
    "  \"Inflammatory-Mac\" : \"#D55E00\",\n",
    "  \"Resolving-Mac\" :  \"#CC79A7\",\n",
    "  \"Neutrophils\" : \"#009E73\",\n",
    "  \"MuSCs\" : \"#56B4E9\"\n",
    "}"
   ]
  },
  {
   "cell_type": "code",
   "execution_count": 38,
   "metadata": {},
   "outputs": [],
   "source": [
    "## creating new dictionary to stock Networkx objects\n",
    "dxfiltered = {}\n",
    "dxunfiltered = {}"
   ]
  },
  {
   "cell_type": "code",
   "execution_count": 39,
   "metadata": {},
   "outputs": [],
   "source": [
    "## calling function iteratively while populating dictionary\n",
    "for age in ages:\n",
    "    dxfiltered[age] = {}\n",
    "    dxunfiltered[age] = {}\n",
    "    for day in days:\n",
    "        tmpGfi = getCustomGraph(lr[age][day].filtered, celltycolors)\n",
    "        tmpGuf = getCustomGraph(lr[age][day].frame, celltycolors)\n",
    "        dxfiltered[age][day] = tmpGfi\n",
    "        dxunfiltered[age][day] = tmpGuf\n",
    "        "
   ]
  },
  {
   "cell_type": "code",
   "execution_count": 40,
   "metadata": {},
   "outputs": [
    {
     "data": {
      "text/plain": [
       "2004"
      ]
     },
     "execution_count": 40,
     "metadata": {},
     "output_type": "execute_result"
    }
   ],
   "source": [
    "len(dxfiltered['Old']['D4'].nodes())"
   ]
  },
  {
   "cell_type": "code",
   "execution_count": 43,
   "metadata": {},
   "outputs": [
    {
     "data": {
      "text/plain": [
       "3831"
      ]
     },
     "execution_count": 43,
     "metadata": {},
     "output_type": "execute_result"
    }
   ],
   "source": [
    "len(dxunfiltered['Old']['D4'].nodes())"
   ]
  },
  {
   "cell_type": "markdown",
   "metadata": {},
   "source": [
    "##  Saving files\n",
    "    - lr : contains objects of the class 'LRinfos' which I created to stock dataframes\n",
    "            - `.frame` attribute contains unfiltered dataframe\n",
    "            - `.filtered` attribute contains filtered dataframe\n",
    "    - dxfiltered and dxunfiltered : contain networkx objects\n",
    "\n",
    "    saving  dictionaries (lr  and filtered and unfiltered graphs dictionaries) into different files"
   ]
  },
  {
   "cell_type": "code",
   "execution_count": 45,
   "metadata": {},
   "outputs": [],
   "source": [
    "pickle.dump(lr, open( \"graphobjs/dictio_lr.p\", \"wb\" ))"
   ]
  },
  {
   "cell_type": "code",
   "execution_count": 46,
   "metadata": {
    "scrolled": true
   },
   "outputs": [],
   "source": [
    "pickle.dump(dxfiltered, open( \"graphobjs/dictio_dx_filtered.p\", \"wb\" ))"
   ]
  },
  {
   "cell_type": "code",
   "execution_count": 47,
   "metadata": {},
   "outputs": [],
   "source": [
    "pickle.dump(dxunfiltered, open( \"graphobjs/dictio_dx_unfi.p\", \"wb\" ))"
   ]
  },
  {
   "cell_type": "code",
   "execution_count": 48,
   "metadata": {},
   "outputs": [],
   "source": [
    "# to open just: lr = pickle.load( open( \"graphobjs/dictio_lr.p\", \"rb\" ) )"
   ]
  },
  {
   "cell_type": "code",
   "execution_count": 49,
   "metadata": {},
   "outputs": [],
   "source": [
    "plt.close('all')"
   ]
  },
  {
   "cell_type": "markdown",
   "metadata": {},
   "source": [
    "## Save interoperable igraph objects"
   ]
  },
  {
   "cell_type": "markdown",
   "metadata": {},
   "source": [
    "For some operations, networkx is more robust than igraph (for example, for transformating into undirected graph, or checking number of connected components for directed graph). However, as we are going to use output to import in a Shiny application, I have decided to use igraph objects for interoperability purposes."
   ]
  },
  {
   "cell_type": "code",
   "execution_count": 50,
   "metadata": {},
   "outputs": [],
   "source": [
    "dxfiltered = pickle.load( open('graphobjs/dictio_dx_filtered.p', 'rb') )\n",
    "dxunfiltered = pickle.load( open('graphobjs/dictio_dx_unfi.p', 'rb') )"
   ]
  },
  {
   "cell_type": "code",
   "execution_count": 51,
   "metadata": {},
   "outputs": [
    {
     "name": "stdout",
     "output_type": "stream",
     "text": [
      "Young\n",
      "Old\n"
     ]
    }
   ],
   "source": [
    "ages = [\"Young\", \"Old\"]\n",
    "days = [\"D0\", \"D2\", \"D4\", \"D7\"]\n",
    "for age in ages:\n",
    "    print(age)\n",
    "    for day in days:\n",
    "        tmp_igraph_filt = ig.Graph.from_networkx(dxfiltered[age][day])\n",
    "        tmp_igraph_unfi = ig.Graph.from_networkx(dxunfiltered[age][day])\n",
    "        tmp_igraph_filt.write_graphml(f'graphobjs/{age}_{day}_igraph_filt.ml')\n",
    "        tmp_igraph_unfi.write_graphml(f'graphobjs/{age}_{day}_igraph_unfi.ml')"
   ]
  },
  {
   "cell_type": "code",
   "execution_count": null,
   "metadata": {},
   "outputs": [],
   "source": []
  },
  {
   "cell_type": "code",
   "execution_count": null,
   "metadata": {},
   "outputs": [],
   "source": []
  },
  {
   "cell_type": "markdown",
   "metadata": {},
   "source": [
    "##### Saving pdf figures and  dictionaries (lr, dxfiltered and dxunfiltered):\n",
    "\n",
    " * No longer Saving pdf figures whole networks. Just go directly to "
   ]
  },
  {
   "cell_type": "raw",
   "metadata": {},
   "source": [
    "for age in ages:\n",
    "    for day in days:        \n",
    "        G = dxfiltered[age][day]\n",
    "        ccc = [ i for i in nx.get_node_attributes(G, 'color').values()]\n",
    "        eee = [ i for i in nx.get_edge_attributes(G, 'ecolor').values()]## do plot\n",
    "        pos = nx.spring_layout(G)\n",
    "\n",
    "        fig = plt.figure(figsize=(30,25),dpi=150)\n",
    "        color_patches = []\n",
    "        for key, value in celltycolors.items():\n",
    "            tmppatch = mpatches.Patch(color=value, label=key)\n",
    "            color_patches.append(tmppatch)\n",
    "\n",
    "        nodes = nx.draw_networkx_nodes(G,\n",
    "                                      pos,\n",
    "                                      node_color = ccc, edgecolors = 'lightgray', \n",
    "                                      alpha=0.7)\n",
    "        edges = nx.draw_networkx_edges(G,\n",
    "                                      pos,\n",
    "                                      edge_color = eee, alpha=0.7)\n",
    "        ax = plt.gca()\n",
    "        ax.set_axis_off()\n",
    "        fig.tight_layout()\n",
    "        plt.legend(handles=color_patches, prop={'size': 20})\n",
    "\n",
    "        fig.suptitle(f'{age}, {day}. n edges:{len(G.edges())}', fontsize=22)\n",
    "        fig.savefig(f'postFilterNet_{age}{day}.pdf', dpi=150)"
   ]
  },
  {
   "cell_type": "markdown",
   "metadata": {},
   "source": [
    "* obtaining huge size legend for graphical editing purposes"
   ]
  },
  {
   "cell_type": "code",
   "execution_count": 44,
   "metadata": {},
   "outputs": [
    {
     "data": {
      "image/png": "[encoded data removed]",
      "text/plain": [
       "<Figure size 640x480 with 1 Axes>"
      ]
     },
     "metadata": {},
     "output_type": "display_data"
    }
   ],
   "source": [
    "color_patches = []\n",
    "for key, value in celltycolors.items():\n",
    "    tmppatch = mpatches.Patch(color=value, label=key)\n",
    "    color_patches.append(tmppatch)\n",
    "    \n",
    "onlylegend = plt.figure()\n",
    "plt.legend(handles=color_patches, prop={'size': 20})\n",
    "onlylegend.suptitle('Only Legend for plotting purposes whenever needed')\n",
    "onlylegend.savefig('onlyLegend.pdf')"
   ]
  },
  {
   "cell_type": "code",
   "execution_count": null,
   "metadata": {},
   "outputs": [],
   "source": []
  }
 ],
 "metadata": {
  "kernelspec": {
   "display_name": "Python 3 (ipykernel)",
   "language": "python",
   "name": "python3"
  },
  "language_info": {
   "codemirror_mode": {
    "name": "ipython",
    "version": 3
   },
   "file_extension": ".py",
   "mimetype": "text/x-python",
   "name": "python",
   "nbconvert_exporter": "python",
   "pygments_lexer": "ipython3",
   "version": "3.9.12"
  }
 },
 "nbformat": 4,
 "nbformat_minor": 4
}
