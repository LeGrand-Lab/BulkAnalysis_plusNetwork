{
 "cells": [
  {
   "cell_type": "code",
   "execution_count": 1,
   "metadata": {},
   "outputs": [],
   "source": [
    "import os\n",
    "import numpy as np\n",
    "import matplotlib as mpl\n",
    "import matplotlib.pyplot as plt\n",
    "import networkx as nx\n",
    "import pandas as pd\n",
    "import matplotlib.patches as mpatches\n",
    "from scipy import stats\n",
    "import pylab as pyl"
   ]
  },
  {
   "cell_type": "code",
   "execution_count": 52,
   "metadata": {},
   "outputs": [
    {
     "name": "stdout",
     "output_type": "stream",
     "text": [
      "/home/johanna/BulkAnalysis_plusNetwork/graphmodeling\n"
     ]
    },
    {
     "data": {
      "text/html": [
       "<div>\n",
       "<style scoped>\n",
       "    .dataframe tbody tr th:only-of-type {\n",
       "        vertical-align: middle;\n",
       "    }\n",
       "\n",
       "    .dataframe tbody tr th {\n",
       "        vertical-align: top;\n",
       "    }\n",
       "\n",
       "    .dataframe thead th {\n",
       "        text-align: right;\n",
       "    }\n",
       "</style>\n",
       "<table border=\"1\" class=\"dataframe\">\n",
       "  <thead>\n",
       "    <tr style=\"text-align: right;\">\n",
       "      <th></th>\n",
       "      <th>Sending cluster</th>\n",
       "      <th>Ligand symbol</th>\n",
       "      <th>Receptor symbol</th>\n",
       "      <th>Target cluster</th>\n",
       "      <th>Ligand detection rate</th>\n",
       "      <th>Ligand average expression value</th>\n",
       "      <th>Ligand derived specificity of average expression value</th>\n",
       "      <th>Receptor detection rate</th>\n",
       "      <th>Receptor average expression value</th>\n",
       "      <th>Receptor derived specificity of average expression value</th>\n",
       "      <th>Edge average expression weight</th>\n",
       "      <th>Edge average expression derived specificity</th>\n",
       "    </tr>\n",
       "  </thead>\n",
       "  <tbody>\n",
       "    <tr>\n",
       "      <th>0</th>\n",
       "      <td>ECs</td>\n",
       "      <td>Agt</td>\n",
       "      <td>Mas1</td>\n",
       "      <td>FAPs</td>\n",
       "      <td>1</td>\n",
       "      <td>0.234929</td>\n",
       "      <td>0.205696</td>\n",
       "      <td>1</td>\n",
       "      <td>0.426681</td>\n",
       "      <td>0.251149</td>\n",
       "      <td>0.100240</td>\n",
       "      <td>0.051660</td>\n",
       "    </tr>\n",
       "    <tr>\n",
       "      <th>1</th>\n",
       "      <td>ECs</td>\n",
       "      <td>Agt</td>\n",
       "      <td>Mas1</td>\n",
       "      <td>Neutro</td>\n",
       "      <td>1</td>\n",
       "      <td>0.234929</td>\n",
       "      <td>0.205696</td>\n",
       "      <td>1</td>\n",
       "      <td>0.517923</td>\n",
       "      <td>0.304855</td>\n",
       "      <td>0.121675</td>\n",
       "      <td>0.062708</td>\n",
       "    </tr>\n",
       "    <tr>\n",
       "      <th>2</th>\n",
       "      <td>ECs</td>\n",
       "      <td>Agt</td>\n",
       "      <td>Mas1</td>\n",
       "      <td>sCs</td>\n",
       "      <td>1</td>\n",
       "      <td>0.234929</td>\n",
       "      <td>0.205696</td>\n",
       "      <td>1</td>\n",
       "      <td>0.754310</td>\n",
       "      <td>0.443995</td>\n",
       "      <td>0.177209</td>\n",
       "      <td>0.091328</td>\n",
       "    </tr>\n",
       "    <tr>\n",
       "      <th>3</th>\n",
       "      <td>FAPs</td>\n",
       "      <td>Agt</td>\n",
       "      <td>Mas1</td>\n",
       "      <td>FAPs</td>\n",
       "      <td>1</td>\n",
       "      <td>0.784411</td>\n",
       "      <td>0.686805</td>\n",
       "      <td>1</td>\n",
       "      <td>0.426681</td>\n",
       "      <td>0.251149</td>\n",
       "      <td>0.334693</td>\n",
       "      <td>0.172491</td>\n",
       "    </tr>\n",
       "    <tr>\n",
       "      <th>4</th>\n",
       "      <td>FAPs</td>\n",
       "      <td>Agt</td>\n",
       "      <td>Mas1</td>\n",
       "      <td>Neutro</td>\n",
       "      <td>1</td>\n",
       "      <td>0.784411</td>\n",
       "      <td>0.686805</td>\n",
       "      <td>1</td>\n",
       "      <td>0.517923</td>\n",
       "      <td>0.304855</td>\n",
       "      <td>0.406264</td>\n",
       "      <td>0.209376</td>\n",
       "    </tr>\n",
       "  </tbody>\n",
       "</table>\n",
       "</div>"
      ],
      "text/plain": [
       "  Sending cluster Ligand symbol Receptor symbol Target cluster  \\\n",
       "0             ECs           Agt            Mas1           FAPs   \n",
       "1             ECs           Agt            Mas1         Neutro   \n",
       "2             ECs           Agt            Mas1            sCs   \n",
       "3            FAPs           Agt            Mas1           FAPs   \n",
       "4            FAPs           Agt            Mas1         Neutro   \n",
       "\n",
       "   Ligand detection rate  Ligand average expression value  \\\n",
       "0                      1                         0.234929   \n",
       "1                      1                         0.234929   \n",
       "2                      1                         0.234929   \n",
       "3                      1                         0.784411   \n",
       "4                      1                         0.784411   \n",
       "\n",
       "   Ligand derived specificity of average expression value  \\\n",
       "0                                           0.205696        \n",
       "1                                           0.205696        \n",
       "2                                           0.205696        \n",
       "3                                           0.686805        \n",
       "4                                           0.686805        \n",
       "\n",
       "   Receptor detection rate  Receptor average expression value  \\\n",
       "0                        1                           0.426681   \n",
       "1                        1                           0.517923   \n",
       "2                        1                           0.754310   \n",
       "3                        1                           0.426681   \n",
       "4                        1                           0.517923   \n",
       "\n",
       "   Receptor derived specificity of average expression value  \\\n",
       "0                                           0.251149          \n",
       "1                                           0.304855          \n",
       "2                                           0.443995          \n",
       "3                                           0.251149          \n",
       "4                                           0.304855          \n",
       "\n",
       "   Edge average expression weight  Edge average expression derived specificity  \n",
       "0                        0.100240                                     0.051660  \n",
       "1                        0.121675                                     0.062708  \n",
       "2                        0.177209                                     0.091328  \n",
       "3                        0.334693                                     0.172491  \n",
       "4                        0.406264                                     0.209376  "
      ]
     },
     "execution_count": 52,
     "metadata": {},
     "output_type": "execute_result"
    }
   ],
   "source": [
    "myroot = \"~/BulkAnalysis_plusNetwork/\"\n",
    "print(os.getcwd())\n",
    "natmiVizOut = \"natmiOut/OldD2/Network_exp_0_spe_0_det_0.2_top_0_signal_lrc2p_weight_mean/\"\n",
    "tb = pd.read_csv(f'{myroot}{natmiVizOut}Edges.csv',sep=\",\", header=0)\n",
    "tb.head()"
   ]
  },
  {
   "cell_type": "code",
   "execution_count": 53,
   "metadata": {},
   "outputs": [],
   "source": [
    "# make UNIQUE the ligand and receptor names by combining celltype alongside\n",
    "tb['uniq_Ligand_symbol'] = tb['Ligand symbol'] + '_' + tb['Sending cluster']\n",
    "tb['uniq_Receptor_symbol'] = tb['Receptor symbol'] + '_' + tb['Target cluster']"
   ]
  },
  {
   "cell_type": "code",
   "execution_count": 54,
   "metadata": {},
   "outputs": [
    {
     "data": {
      "text/plain": [
       "(4448.94697422364, 2709.37697963119)"
      ]
     },
     "execution_count": 54,
     "metadata": {},
     "output_type": "execute_result"
    }
   ],
   "source": [
    "( max(tb['Ligand average expression value']), max(tb['Receptor average expression value']) )"
   ]
  },
  {
   "cell_type": "code",
   "execution_count": 55,
   "metadata": {},
   "outputs": [
    {
     "data": {
      "text/plain": [
       "-6.630198486582669"
      ]
     },
     "execution_count": 55,
     "metadata": {},
     "output_type": "execute_result"
    }
   ],
   "source": [
    "np.log10(min(tb['Edge average expression derived specificity']))"
   ]
  },
  {
   "cell_type": "code",
   "execution_count": 56,
   "metadata": {
    "scrolled": true
   },
   "outputs": [
    {
     "data": {
      "text/plain": [
       "(array([   4.,    3.,    8.,   10.,   16.,   27.,   47.,   47.,   82.,\n",
       "         120.,  171.,  244.,  314.,  429.,  556.,  633.,  792.,  968.,\n",
       "        1217., 1486., 1753., 2066., 2300., 2391., 2210., 1833., 1352.,\n",
       "         775.,  292.,  104.]),\n",
       " array([-6.63019849, -6.40919187, -6.18818525, -5.96717864, -5.74617202,\n",
       "        -5.52516541, -5.30415879, -5.08315217, -4.86214556, -4.64113894,\n",
       "        -4.42013232, -4.19912571, -3.97811909, -3.75711248, -3.53610586,\n",
       "        -3.31509924, -3.09409263, -2.87308601, -2.65207939, -2.43107278,\n",
       "        -2.21006616, -1.98905955, -1.76805293, -1.54704631, -1.3260397 ,\n",
       "        -1.10503308, -0.88402646, -0.66301985, -0.44201323, -0.22100662,\n",
       "         0.        ]),\n",
       " <BarContainer object of 30 artists>)"
      ]
     },
     "execution_count": 56,
     "metadata": {},
     "output_type": "execute_result"
    },
    {
     "data": {
      "image/png": "[encoded data removed]",
      "text/plain": [
       "<Figure size 432x288 with 1 Axes>"
      ]
     },
     "metadata": {
      "needs_background": "light"
     },
     "output_type": "display_data"
    }
   ],
   "source": [
    "# visualize 'Ligand derived specificity of average expression value'\n",
    "# and set cutoff\n",
    "\n",
    "plt.hist(np.log10(np.array(tb['Edge average expression derived specificity'])), bins= 30, color=\"cadetblue\")"
   ]
  },
  {
   "cell_type": "code",
   "execution_count": null,
   "metadata": {},
   "outputs": [],
   "source": []
  },
  {
   "cell_type": "markdown",
   "metadata": {},
   "source": [
    "### Testing filtering parameters"
   ]
  },
  {
   "cell_type": "code",
   "execution_count": 57,
   "metadata": {},
   "outputs": [
    {
     "data": {
      "text/plain": [
       "(array([3873., 2299., 2406., 1660., 1192., 1567., 1112., 1062.,  775.,\n",
       "         571.,  655.,  512.,  455.,  518.,  335.,  368.,  387.,  325.,\n",
       "         401.,   69.,  136.,  119.,  125.,   92.,  194.,   41.,   93.,\n",
       "          79.,  126.,  703.]),\n",
       " array([1.82749678e-04, 3.35099914e-02, 6.68372330e-02, 1.00164475e-01,\n",
       "        1.33491716e-01, 1.66818958e-01, 2.00146200e-01, 2.33473441e-01,\n",
       "        2.66800683e-01, 3.00127925e-01, 3.33455166e-01, 3.66782408e-01,\n",
       "        4.00109650e-01, 4.33436891e-01, 4.66764133e-01, 5.00091375e-01,\n",
       "        5.33418617e-01, 5.66745858e-01, 6.00073100e-01, 6.33400342e-01,\n",
       "        6.66727583e-01, 7.00054825e-01, 7.33382067e-01, 7.66709308e-01,\n",
       "        8.00036550e-01, 8.33363792e-01, 8.66691033e-01, 9.00018275e-01,\n",
       "        9.33345517e-01, 9.66672758e-01, 1.00000000e+00]),\n",
       " <BarContainer object of 30 artists>)"
      ]
     },
     "execution_count": 57,
     "metadata": {},
     "output_type": "execute_result"
    },
    {
     "data": {
      "image/png": "[encoded data removed]",
      "text/plain": [
       "<Figure size 432x288 with 1 Axes>"
      ]
     },
     "metadata": {
      "needs_background": "light"
     },
     "output_type": "display_data"
    }
   ],
   "source": [
    "plt.hist(tb['Ligand derived specificity of average expression value'], bins=30, color='purple')"
   ]
  },
  {
   "cell_type": "code",
   "execution_count": 68,
   "metadata": {},
   "outputs": [],
   "source": [
    "tb_fi = tb[tb['Ligand derived specificity of average expression value'] >= 0.3] "
   ]
  },
  {
   "cell_type": "code",
   "execution_count": 70,
   "metadata": {},
   "outputs": [
    {
     "data": {
      "text/plain": [
       "(6304, 14)"
      ]
     },
     "execution_count": 70,
     "metadata": {},
     "output_type": "execute_result"
    }
   ],
   "source": [
    "tb_fi.shape"
   ]
  },
  {
   "cell_type": "code",
   "execution_count": 71,
   "metadata": {},
   "outputs": [],
   "source": [
    "tb_fi = tb_fi[tb_fi['Receptor derived specificity of average expression value'] >= 0.3] "
   ]
  },
  {
   "cell_type": "code",
   "execution_count": 72,
   "metadata": {},
   "outputs": [
    {
     "data": {
      "text/plain": [
       "(1684, 14)"
      ]
     },
     "execution_count": 72,
     "metadata": {},
     "output_type": "execute_result"
    }
   ],
   "source": [
    "tb_fi.shape"
   ]
  },
  {
   "cell_type": "code",
   "execution_count": 73,
   "metadata": {},
   "outputs": [],
   "source": [
    "log10cutoff = -1"
   ]
  },
  {
   "cell_type": "code",
   "execution_count": 74,
   "metadata": {},
   "outputs": [],
   "source": [
    "# retain edges only having log10'Edge average expression derived specificity' superior to cutoff"
   ]
  },
  {
   "cell_type": "code",
   "execution_count": 75,
   "metadata": {},
   "outputs": [],
   "source": [
    "tb_fi['log10edge_derived_specif'] = np.log10(tb_fi['Edge average expression derived specificity'])"
   ]
  },
  {
   "cell_type": "code",
   "execution_count": 76,
   "metadata": {},
   "outputs": [],
   "source": [
    "tb_fi = tb_fi[tb_fi[\"log10edge_derived_specif\"] >= log10cutoff ]"
   ]
  },
  {
   "cell_type": "code",
   "execution_count": 77,
   "metadata": {},
   "outputs": [
    {
     "data": {
      "text/plain": [
       "(1674, 15)"
      ]
     },
     "execution_count": 77,
     "metadata": {},
     "output_type": "execute_result"
    }
   ],
   "source": [
    "tb_fi.shape"
   ]
  },
  {
   "cell_type": "markdown",
   "metadata": {},
   "source": [
    "<div class=\"alert alert-block alert-warning\">\n",
    "<b>Note:</b>  cutoff on edges did not filter anything, filter on specificity on nodes was enough\n",
    "</div>"
   ]
  },
  {
   "cell_type": "code",
   "execution_count": 92,
   "metadata": {},
   "outputs": [
    {
     "data": {
      "text/plain": [
       "(array([ 21.,  44.,  47.,  60.,  62.,  79.,  86.,  97., 100.,  95., 100.,\n",
       "        103.,  85.,  73.,  97.,  82.,  67.,  72.,  41.,  42.,  47.,  37.,\n",
       "         27.,  21.,  26.,  14.,  12.,  13.,   4.,  20.]),\n",
       " array([-0.99702566, -0.96379147, -0.93055728, -0.89732309, -0.8640889 ,\n",
       "        -0.83085471, -0.79762053, -0.76438634, -0.73115215, -0.69791796,\n",
       "        -0.66468377, -0.63144958, -0.59821539, -0.56498121, -0.53174702,\n",
       "        -0.49851283, -0.46527864, -0.43204445, -0.39881026, -0.36557607,\n",
       "        -0.33234189, -0.2991077 , -0.26587351, -0.23263932, -0.19940513,\n",
       "        -0.16617094, -0.13293675, -0.09970257, -0.06646838, -0.03323419,\n",
       "         0.        ]),\n",
       " <BarContainer object of 30 artists>)"
      ]
     },
     "execution_count": 92,
     "metadata": {},
     "output_type": "execute_result"
    },
    {
     "data": {
      "image/png": "[encoded data removed]",
      "text/plain": [
       "<Figure size 432x288 with 1 Axes>"
      ]
     },
     "metadata": {
      "needs_background": "light"
     },
     "output_type": "display_data"
    }
   ],
   "source": [
    "plt.hist(np.log10(np.array(tb_fi['Edge average expression derived specificity'])), bins= 30, color=\"orange\")"
   ]
  },
  {
   "cell_type": "code",
   "execution_count": 93,
   "metadata": {},
   "outputs": [],
   "source": [
    "celltycolors = {'FAPs':'#5F9EA0' , 'sCs': '#DFC27D' , 'M1': '#13306db2', \n",
    "                   'M2': '#E66101', 'Neutro': '#73D055FF', 'ECs': '#b8627db2'}"
   ]
  },
  {
   "cell_type": "code",
   "execution_count": 129,
   "metadata": {},
   "outputs": [],
   "source": [
    "# make graph: \n",
    "Go2 = nx.DiGraph()\n",
    "for index,row in tb_fi.iterrows():\n",
    "    nodefrom = row['uniq_Ligand_symbol']\n",
    "    nodeto = row['uniq_Receptor_symbol']\n",
    "    celltypefrom = row['Sending cluster']\n",
    "    celltypeto = row['Target cluster']\n",
    "    Go2.add_node(nodefrom,\n",
    "                nodetype = 'sender',\n",
    "                celltype = celltypefrom,\n",
    "                genesym = row['Ligand symbol'],\n",
    "                color = celltycolors[celltypefrom],\n",
    "                averagexp = row['Ligand average expression value'])\n",
    "    Go2.add_node(nodeto,\n",
    "                nodetype = 'receiver',\n",
    "                celltype = celltypeto, \n",
    "                genesym = row['Receptor symbol'],\n",
    "                color = celltycolors[celltypeto],\n",
    "                averagexp = row['Receptor average expression value'])\n",
    "    Go2.add_edge(nodefrom,nodeto, origtype = nodefrom,\n",
    "                ecolor = celltycolors[celltypefrom],\n",
    "                weight = row['Edge average expression derived specificity'])  ## NEW !!\n",
    "    ### pay attention: weight has been changed to specificity !!!!"
   ]
  },
  {
   "cell_type": "code",
   "execution_count": 130,
   "metadata": {},
   "outputs": [],
   "source": [
    "nodes = Go2.nodes()"
   ]
  },
  {
   "cell_type": "code",
   "execution_count": 131,
   "metadata": {},
   "outputs": [
    {
     "data": {
      "text/plain": [
       "952"
      ]
     },
     "execution_count": 131,
     "metadata": {},
     "output_type": "execute_result"
    }
   ],
   "source": [
    "len(nodes)"
   ]
  },
  {
   "cell_type": "code",
   "execution_count": 132,
   "metadata": {},
   "outputs": [
    {
     "data": {
      "text/plain": [
       "1674"
      ]
     },
     "execution_count": 132,
     "metadata": {},
     "output_type": "execute_result"
    }
   ],
   "source": [
    "edges = Go2.edges()\n",
    "len(edges)"
   ]
  },
  {
   "cell_type": "code",
   "execution_count": 133,
   "metadata": {},
   "outputs": [],
   "source": [
    "# transform into undirected graph to extract connected components \n",
    "uG = nx.Graph(Go2)"
   ]
  },
  {
   "cell_type": "code",
   "execution_count": 134,
   "metadata": {},
   "outputs": [],
   "source": [
    "maxconncomp = sorted(nx.connected_components(uG), key=len, reverse=True)"
   ]
  },
  {
   "cell_type": "code",
   "execution_count": 135,
   "metadata": {},
   "outputs": [
    {
     "name": "stdout",
     "output_type": "stream",
     "text": [
      "661\n",
      "19\n",
      "10\n",
      "9\n",
      "9\n",
      "8\n",
      "7\n",
      "7\n",
      "7\n",
      "6\n"
     ]
    }
   ],
   "source": [
    "for i in range(10):\n",
    "    print(len(maxconncomp[i]))"
   ]
  },
  {
   "cell_type": "code",
   "execution_count": 136,
   "metadata": {},
   "outputs": [
    {
     "name": "stdout",
     "output_type": "stream",
     "text": [
      "<class 'set'>\n"
     ]
    }
   ],
   "source": [
    "print(type(maxconncomp[4]))\n",
    "    \n",
    "    "
   ]
  },
  {
   "cell_type": "markdown",
   "metadata": {},
   "source": [
    "## take minimal graph example to transfer into igraph object"
   ]
  },
  {
   "cell_type": "code",
   "execution_count": 137,
   "metadata": {},
   "outputs": [],
   "source": [
    "minigraph = Go2.subgraph(maxconncomp[2])  # taking the third one, is small only 10 vertices"
   ]
  },
  {
   "cell_type": "code",
   "execution_count": 138,
   "metadata": {},
   "outputs": [
    {
     "data": {
      "text/plain": [
       "OutEdgeView([('Cd22_M2', 'Ptprc_M1'), ('Cd22_M2', 'Ptprc_M2'), ('Mrc1_M1', 'Ptprc_M1'), ('Mrc1_M1', 'Ptprc_M2'), ('Ptprc_M1', 'Cd22_M1'), ('Ptprc_M1', 'Cd22_M2'), ('Ptprc_M1', 'Mrc1_M1'), ('Ptprc_M1', 'Mrc1_M2'), ('Lgals1_FAPs', 'Ptprc_M1'), ('Lgals1_FAPs', 'Ptprc_M2'), ('Lgals1_FAPs', 'Cd69_M1'), ('Lgals1_FAPs', 'Cd69_M2'), ('Myl9_sCs', 'Cd69_M1'), ('Myl9_sCs', 'Cd69_M2'), ('Cd22_M1', 'Ptprc_M1'), ('Cd22_M1', 'Ptprc_M2'), ('Mrc1_M2', 'Ptprc_M1'), ('Mrc1_M2', 'Ptprc_M2'), ('Ptprc_M2', 'Cd22_M1'), ('Ptprc_M2', 'Cd22_M2'), ('Ptprc_M2', 'Mrc1_M1'), ('Ptprc_M2', 'Mrc1_M2')])"
      ]
     },
     "execution_count": 138,
     "metadata": {},
     "output_type": "execute_result"
    }
   ],
   "source": [
    "minigraph.edges()"
   ]
  },
  {
   "cell_type": "code",
   "execution_count": 139,
   "metadata": {},
   "outputs": [],
   "source": [
    "import igraph as ig"
   ]
  },
  {
   "cell_type": "code",
   "execution_count": 140,
   "metadata": {},
   "outputs": [],
   "source": [
    "mini_igr = ig.Graph.from_networkx(minigraph)"
   ]
  },
  {
   "cell_type": "code",
   "execution_count": 141,
   "metadata": {},
   "outputs": [
    {
     "data": {
      "text/plain": [
       "<igraph.Graph at 0x7f917883b6d0>"
      ]
     },
     "execution_count": 141,
     "metadata": {},
     "output_type": "execute_result"
    }
   ],
   "source": [
    "mini_igr"
   ]
  },
  {
   "cell_type": "code",
   "execution_count": 142,
   "metadata": {},
   "outputs": [
    {
     "name": "stdout",
     "output_type": "stream",
     "text": [
      "igraph.Vertex(<igraph.Graph object at 0x7f917883b6d0>, 0, {'_nx_name': 'Cd22_M2', 'nodetype': 'sender', 'celltype': 'M2', 'genesym': 'Cd22', 'color': '#E66101', 'averagexp': 8.91760664792547})\n",
      "igraph.Vertex(<igraph.Graph object at 0x7f917883b6d0>, 1, {'_nx_name': 'Mrc1_M1', 'nodetype': 'sender', 'celltype': 'M1', 'genesym': 'Mrc1', 'color': '#13306db2', 'averagexp': 170.634309362503})\n",
      "igraph.Vertex(<igraph.Graph object at 0x7f917883b6d0>, 2, {'_nx_name': 'Cd69_M2', 'nodetype': 'receiver', 'celltype': 'M2', 'genesym': 'Cd69', 'color': '#E66101', 'averagexp': 18.1581705777213})\n",
      "igraph.Vertex(<igraph.Graph object at 0x7f917883b6d0>, 3, {'_nx_name': 'Ptprc_M1', 'nodetype': 'receiver', 'celltype': 'M1', 'genesym': 'Ptprc', 'color': '#13306db2', 'averagexp': 201.72552438974603})\n",
      "igraph.Vertex(<igraph.Graph object at 0x7f917883b6d0>, 4, {'_nx_name': 'Lgals1_FAPs', 'nodetype': 'sender', 'celltype': 'FAPs', 'genesym': 'Lgals1', 'color': '#5F9EA0', 'averagexp': 240.74738006286302})\n",
      "igraph.Vertex(<igraph.Graph object at 0x7f917883b6d0>, 5, {'_nx_name': 'Myl9_sCs', 'nodetype': 'sender', 'celltype': 'sCs', 'genesym': 'Myl9', 'color': '#DFC27D', 'averagexp': 57.3772571889762})\n",
      "igraph.Vertex(<igraph.Graph object at 0x7f917883b6d0>, 6, {'_nx_name': 'Cd69_M1', 'nodetype': 'receiver', 'celltype': 'M1', 'genesym': 'Cd69', 'color': '#13306db2', 'averagexp': 10.6364862150641})\n",
      "igraph.Vertex(<igraph.Graph object at 0x7f917883b6d0>, 7, {'_nx_name': 'Cd22_M1', 'nodetype': 'sender', 'celltype': 'M1', 'genesym': 'Cd22', 'color': '#13306db2', 'averagexp': 3.8679398405488903})\n",
      "igraph.Vertex(<igraph.Graph object at 0x7f917883b6d0>, 8, {'_nx_name': 'Mrc1_M2', 'nodetype': 'sender', 'celltype': 'M2', 'genesym': 'Mrc1', 'color': '#E66101', 'averagexp': 155.715100751252})\n",
      "igraph.Vertex(<igraph.Graph object at 0x7f917883b6d0>, 9, {'_nx_name': 'Ptprc_M2', 'nodetype': 'receiver', 'celltype': 'M2', 'genesym': 'Ptprc', 'color': '#E66101', 'averagexp': 334.627309836981})\n"
     ]
    }
   ],
   "source": [
    "for ele in mini_igr.vs:\n",
    "    print(ele)\n",
    "# igraph.Vertex(<igraph.Graph object at 0x7f917883b5e0>, 0, \n",
    "# {'_nx_name': 'Cd22_M2', 'nodetype': 'sender', 'celltype': 'M2',\n",
    "#'genesym': 'Cd22', 'color': '#E66101', 'averagexp': 8.91760664792547})"
   ]
  },
  {
   "cell_type": "code",
   "execution_count": 143,
   "metadata": {
    "scrolled": true
   },
   "outputs": [
    {
     "name": "stdout",
     "output_type": "stream",
     "text": [
      "igraph.Edge(<igraph.Graph object at 0x7f917883b6d0>, 0, {'origtype': 'Cd22_M2', 'ecolor': '#E66101', 'weight': 0.2618151785356279})\n",
      "igraph.Edge(<igraph.Graph object at 0x7f917883b6d0>, 1, {'origtype': 'Cd22_M2', 'ecolor': '#E66101', 'weight': 0.4343055204982251})\n",
      "igraph.Edge(<igraph.Graph object at 0x7f917883b6d0>, 2, {'origtype': 'Mrc1_M1', 'ecolor': '#13306db2', 'weight': 0.1958871169088925})\n",
      "igraph.Edge(<igraph.Graph object at 0x7f917883b6d0>, 3, {'origtype': 'Mrc1_M1', 'ecolor': '#13306db2', 'weight': 0.3249424145072483})\n",
      "igraph.Edge(<igraph.Graph object at 0x7f917883b6d0>, 4, {'origtype': 'Ptprc_M1', 'ecolor': '#13306db2', 'weight': 0.11356021855415199})\n",
      "igraph.Edge(<igraph.Graph object at 0x7f917883b6d0>, 5, {'origtype': 'Ptprc_M1', 'ecolor': '#13306db2', 'weight': 0.2618151785356279})\n",
      "igraph.Edge(<igraph.Graph object at 0x7f917883b6d0>, 6, {'origtype': 'Ptprc_M1', 'ecolor': '#13306db2', 'weight': 0.1958871169088925})\n",
      "igraph.Edge(<igraph.Graph object at 0x7f917883b6d0>, 7, {'origtype': 'Ptprc_M1', 'ecolor': '#13306db2', 'weight': 0.1787599589982777})\n",
      "igraph.Edge(<igraph.Graph object at 0x7f917883b6d0>, 8, {'origtype': 'Lgals1_FAPs', 'ecolor': '#5F9EA0', 'weight': 0.1189066282269411})\n",
      "igraph.Edge(<igraph.Graph object at 0x7f917883b6d0>, 9, {'origtype': 'Lgals1_FAPs', 'ecolor': '#5F9EA0', 'weight': 0.1972452680231569})\n",
      "igraph.Edge(<igraph.Graph object at 0x7f917883b6d0>, 10, {'origtype': 'Lgals1_FAPs', 'ecolor': '#5F9EA0', 'weight': 0.1164173141674913})\n",
      "igraph.Edge(<igraph.Graph object at 0x7f917883b6d0>, 11, {'origtype': 'Lgals1_FAPs', 'ecolor': '#5F9EA0', 'weight': 0.1987428372595074})\n",
      "igraph.Edge(<igraph.Graph object at 0x7f917883b6d0>, 12, {'origtype': 'Myl9_sCs', 'ecolor': '#DFC27D', 'weight': 0.2968856675139564})\n",
      "igraph.Edge(<igraph.Graph object at 0x7f917883b6d0>, 13, {'origtype': 'Myl9_sCs', 'ecolor': '#DFC27D', 'weight': 0.5068309668999635})\n",
      "igraph.Edge(<igraph.Graph object at 0x7f917883b6d0>, 14, {'origtype': 'Cd22_M1', 'ecolor': '#13306db2', 'weight': 0.11356021855415199})\n",
      "igraph.Edge(<igraph.Graph object at 0x7f917883b6d0>, 15, {'origtype': 'Cd22_M1', 'ecolor': '#13306db2', 'weight': 0.1883765108765142})\n",
      "igraph.Edge(<igraph.Graph object at 0x7f917883b6d0>, 16, {'origtype': 'Mrc1_M2', 'ecolor': '#E66101', 'weight': 0.1787599589982777})\n",
      "igraph.Edge(<igraph.Graph object at 0x7f917883b6d0>, 17, {'origtype': 'Mrc1_M2', 'ecolor': '#E66101', 'weight': 0.2965314596014669})\n",
      "igraph.Edge(<igraph.Graph object at 0x7f917883b6d0>, 18, {'origtype': 'Ptprc_M2', 'ecolor': '#E66101', 'weight': 0.1883765108765142})\n",
      "igraph.Edge(<igraph.Graph object at 0x7f917883b6d0>, 19, {'origtype': 'Ptprc_M2', 'ecolor': '#E66101', 'weight': 0.4343055204982251})\n",
      "igraph.Edge(<igraph.Graph object at 0x7f917883b6d0>, 20, {'origtype': 'Ptprc_M2', 'ecolor': '#E66101', 'weight': 0.3249424145072483})\n",
      "igraph.Edge(<igraph.Graph object at 0x7f917883b6d0>, 21, {'origtype': 'Ptprc_M2', 'ecolor': '#E66101', 'weight': 0.2965314596014669})\n"
     ]
    }
   ],
   "source": [
    "for edge in mini_igr.es:\n",
    "    print(edge)"
   ]
  },
  {
   "cell_type": "code",
   "execution_count": 149,
   "metadata": {},
   "outputs": [],
   "source": [
    "#layout = mini_igr.layout()\n",
    "#ig.plot(mini_igr, layout=layout)  ## error: plotting not available"
   ]
  },
  {
   "cell_type": "code",
   "execution_count": 150,
   "metadata": {},
   "outputs": [],
   "source": [
    "#save to file\n",
    "mini_igr.write_graphml(\"myminigraph.ml\")"
   ]
  },
  {
   "cell_type": "code",
   "execution_count": null,
   "metadata": {},
   "outputs": [],
   "source": [
    "# now try Shiny R app with that object !!!"
   ]
  }
 ],
 "metadata": {
  "kernelspec": {
   "display_name": ".venv",
   "language": "python",
   "name": ".venv"
  },
  "language_info": {
   "codemirror_mode": {
    "name": "ipython",
    "version": 3
   },
   "file_extension": ".py",
   "mimetype": "text/x-python",
   "name": "python",
   "nbconvert_exporter": "python",
   "pygments_lexer": "ipython3",
   "version": "3.8.6"
  }
 },
 "nbformat": 4,
 "nbformat_minor": 4
}
