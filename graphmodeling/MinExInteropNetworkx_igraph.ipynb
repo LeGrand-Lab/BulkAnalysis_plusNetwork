{
 "cells": [
  {
   "cell_type": "markdown",
   "metadata": {},
   "source": [
    "# This is a minima example to export Networkx object into igraph\n",
    "#### and saves it into .ml file"
   ]
  },
  {
   "cell_type": "code",
   "execution_count": 4,
   "metadata": {},
   "outputs": [],
   "source": [
    "import os\n",
    "import numpy as np\n",
    "import matplotlib as mpl\n",
    "import matplotlib.pyplot as plt\n",
    "import networkx as nx\n",
    "import pandas as pd\n",
    "import matplotlib.patches as mpatches\n",
    "from scipy import stats\n",
    "import pylab as pyl"
   ]
  },
  {
   "cell_type": "code",
   "execution_count": 5,
   "metadata": {},
   "outputs": [
    {
     "name": "stdout",
     "output_type": "stream",
     "text": [
      "/home/johanna/BulkAnalysis_plusNetwork/graphmodeling\n"
     ]
    },
    {
     "data": {
      "text/html": [
       "<div>\n",
       "<style scoped>\n",
       "    .dataframe tbody tr th:only-of-type {\n",
       "        vertical-align: middle;\n",
       "    }\n",
       "\n",
       "    .dataframe tbody tr th {\n",
       "        vertical-align: top;\n",
       "    }\n",
       "\n",
       "    .dataframe thead th {\n",
       "        text-align: right;\n",
       "    }\n",
       "</style>\n",
       "<table border=\"1\" class=\"dataframe\">\n",
       "  <thead>\n",
       "    <tr style=\"text-align: right;\">\n",
       "      <th></th>\n",
       "      <th>Sending cluster</th>\n",
       "      <th>Ligand symbol</th>\n",
       "      <th>Receptor symbol</th>\n",
       "      <th>Target cluster</th>\n",
       "      <th>Ligand detection rate</th>\n",
       "      <th>Ligand average expression value</th>\n",
       "      <th>Ligand derived specificity of average expression value</th>\n",
       "      <th>Receptor detection rate</th>\n",
       "      <th>Receptor average expression value</th>\n",
       "      <th>Receptor derived specificity of average expression value</th>\n",
       "      <th>Edge average expression weight</th>\n",
       "      <th>Edge average expression derived specificity</th>\n",
       "    </tr>\n",
       "  </thead>\n",
       "  <tbody>\n",
       "    <tr>\n",
       "      <th>0</th>\n",
       "      <td>ECs</td>\n",
       "      <td>Agt</td>\n",
       "      <td>Mas1</td>\n",
       "      <td>FAPs</td>\n",
       "      <td>1.0</td>\n",
       "      <td>0.257198</td>\n",
       "      <td>0.196986</td>\n",
       "      <td>1.0</td>\n",
       "      <td>0.441391</td>\n",
       "      <td>0.184090</td>\n",
       "      <td>0.113525</td>\n",
       "      <td>0.036263</td>\n",
       "    </tr>\n",
       "    <tr>\n",
       "      <th>1</th>\n",
       "      <td>ECs</td>\n",
       "      <td>Agt</td>\n",
       "      <td>Mas1</td>\n",
       "      <td>Neutro</td>\n",
       "      <td>1.0</td>\n",
       "      <td>0.257198</td>\n",
       "      <td>0.196986</td>\n",
       "      <td>1.0</td>\n",
       "      <td>0.643158</td>\n",
       "      <td>0.268240</td>\n",
       "      <td>0.165419</td>\n",
       "      <td>0.052840</td>\n",
       "    </tr>\n",
       "    <tr>\n",
       "      <th>2</th>\n",
       "      <td>ECs</td>\n",
       "      <td>Agt</td>\n",
       "      <td>Mas1</td>\n",
       "      <td>sCs</td>\n",
       "      <td>1.0</td>\n",
       "      <td>0.257198</td>\n",
       "      <td>0.196986</td>\n",
       "      <td>1.0</td>\n",
       "      <td>0.778765</td>\n",
       "      <td>0.324798</td>\n",
       "      <td>0.200297</td>\n",
       "      <td>0.063981</td>\n",
       "    </tr>\n",
       "    <tr>\n",
       "      <th>3</th>\n",
       "      <td>FAPs</td>\n",
       "      <td>Agt</td>\n",
       "      <td>Mas1</td>\n",
       "      <td>FAPs</td>\n",
       "      <td>1.0</td>\n",
       "      <td>0.807212</td>\n",
       "      <td>0.618239</td>\n",
       "      <td>1.0</td>\n",
       "      <td>0.441391</td>\n",
       "      <td>0.184090</td>\n",
       "      <td>0.356296</td>\n",
       "      <td>0.113811</td>\n",
       "    </tr>\n",
       "    <tr>\n",
       "      <th>4</th>\n",
       "      <td>FAPs</td>\n",
       "      <td>Agt</td>\n",
       "      <td>Mas1</td>\n",
       "      <td>Neutro</td>\n",
       "      <td>1.0</td>\n",
       "      <td>0.807212</td>\n",
       "      <td>0.618239</td>\n",
       "      <td>1.0</td>\n",
       "      <td>0.643158</td>\n",
       "      <td>0.268240</td>\n",
       "      <td>0.519164</td>\n",
       "      <td>0.165836</td>\n",
       "    </tr>\n",
       "  </tbody>\n",
       "</table>\n",
       "</div>"
      ],
      "text/plain": [
       "  Sending cluster Ligand symbol Receptor symbol Target cluster  \\\n",
       "0             ECs           Agt            Mas1           FAPs   \n",
       "1             ECs           Agt            Mas1         Neutro   \n",
       "2             ECs           Agt            Mas1            sCs   \n",
       "3            FAPs           Agt            Mas1           FAPs   \n",
       "4            FAPs           Agt            Mas1         Neutro   \n",
       "\n",
       "   Ligand detection rate  Ligand average expression value  \\\n",
       "0                    1.0                         0.257198   \n",
       "1                    1.0                         0.257198   \n",
       "2                    1.0                         0.257198   \n",
       "3                    1.0                         0.807212   \n",
       "4                    1.0                         0.807212   \n",
       "\n",
       "   Ligand derived specificity of average expression value  \\\n",
       "0                                           0.196986        \n",
       "1                                           0.196986        \n",
       "2                                           0.196986        \n",
       "3                                           0.618239        \n",
       "4                                           0.618239        \n",
       "\n",
       "   Receptor detection rate  Receptor average expression value  \\\n",
       "0                      1.0                           0.441391   \n",
       "1                      1.0                           0.643158   \n",
       "2                      1.0                           0.778765   \n",
       "3                      1.0                           0.441391   \n",
       "4                      1.0                           0.643158   \n",
       "\n",
       "   Receptor derived specificity of average expression value  \\\n",
       "0                                           0.184090          \n",
       "1                                           0.268240          \n",
       "2                                           0.324798          \n",
       "3                                           0.184090          \n",
       "4                                           0.268240          \n",
       "\n",
       "   Edge average expression weight  Edge average expression derived specificity  \n",
       "0                        0.113525                                     0.036263  \n",
       "1                        0.165419                                     0.052840  \n",
       "2                        0.200297                                     0.063981  \n",
       "3                        0.356296                                     0.113811  \n",
       "4                        0.519164                                     0.165836  "
      ]
     },
     "execution_count": 5,
     "metadata": {},
     "output_type": "execute_result"
    }
   ],
   "source": [
    "myroot = \"~/BulkAnalysis_plusNetwork/natmiOut/\"\n",
    "\n",
    "print(os.getcwd())\n",
    "natmiVizOut = \"OldD2/Network_exp_0_spe_0_det_0.6_top_0_signal_lrc2p_weight_mean/\"\n",
    "tb = pd.read_csv(f'{myroot}{natmiVizOut}Edges.csv',sep=\",\", header=0)\n",
    "tb.head()"
   ]
  },
  {
   "cell_type": "code",
   "execution_count": 40,
   "metadata": {},
   "outputs": [],
   "source": [
    "# target directory, to save files\n",
    "outdir =  \"~/BulkAnalysis_plusNetwork/graphobs/\""
   ]
  },
  {
   "cell_type": "code",
   "execution_count": 6,
   "metadata": {},
   "outputs": [],
   "source": [
    "# make UNIQUE the ligand and receptor names by combining celltype alongside\n",
    "tb['uniq_Ligand_symbol'] = tb['Ligand symbol'] + '_' + tb['Sending cluster']\n",
    "tb['uniq_Receptor_symbol'] = tb['Receptor symbol'] + '_' + tb['Target cluster']"
   ]
  },
  {
   "cell_type": "code",
   "execution_count": 7,
   "metadata": {},
   "outputs": [
    {
     "data": {
      "text/plain": [
       "(4466.833414666667, 2986.508748333333)"
      ]
     },
     "execution_count": 7,
     "metadata": {},
     "output_type": "execute_result"
    }
   ],
   "source": [
    "( max(tb['Ligand average expression value']), max(tb['Receptor average expression value']) )"
   ]
  },
  {
   "cell_type": "code",
   "execution_count": 8,
   "metadata": {},
   "outputs": [
    {
     "data": {
      "text/plain": [
       "-7.615993833841557"
      ]
     },
     "execution_count": 8,
     "metadata": {},
     "output_type": "execute_result"
    }
   ],
   "source": [
    "np.log10(min(tb['Edge average expression derived specificity']))"
   ]
  },
  {
   "cell_type": "code",
   "execution_count": 9,
   "metadata": {
    "scrolled": true
   },
   "outputs": [
    {
     "data": {
      "text/plain": [
       "(array([2.000e+00, 1.000e+00, 5.000e+00, 2.000e+00, 3.000e+00, 1.500e+01,\n",
       "        2.100e+01, 3.600e+01, 7.200e+01, 8.600e+01, 1.310e+02, 1.820e+02,\n",
       "        2.950e+02, 3.870e+02, 5.020e+02, 7.140e+02, 8.650e+02, 1.049e+03,\n",
       "        1.298e+03, 1.564e+03, 1.973e+03, 2.370e+03, 2.730e+03, 2.999e+03,\n",
       "        3.020e+03, 2.682e+03, 2.029e+03, 1.221e+03, 3.750e+02, 9.600e+01]),\n",
       " array([-7.61599383, -7.36212737, -7.10826091, -6.85439445, -6.60052799,\n",
       "        -6.34666153, -6.09279507, -5.83892861, -5.58506214, -5.33119568,\n",
       "        -5.07732922, -4.82346276, -4.5695963 , -4.31572984, -4.06186338,\n",
       "        -3.80799692, -3.55413046, -3.30026399, -3.04639753, -2.79253107,\n",
       "        -2.53866461, -2.28479815, -2.03093169, -1.77706523, -1.52319877,\n",
       "        -1.26933231, -1.01546584, -0.76159938, -0.50773292, -0.25386646,\n",
       "         0.        ]),\n",
       " <BarContainer object of 30 artists>)"
      ]
     },
     "execution_count": 9,
     "metadata": {},
     "output_type": "execute_result"
    },
    {
     "data": {
      "image/png": "[encoded data removed]",
      "text/plain": [
       "<Figure size 432x288 with 1 Axes>"
      ]
     },
     "metadata": {
      "needs_background": "light"
     },
     "output_type": "display_data"
    }
   ],
   "source": [
    "# visualize 'Ligand derived specificity of average expression value'\n",
    "# and set cutoff\n",
    "\n",
    "plt.hist(np.log10(np.array(tb['Edge average expression derived specificity'])), bins= 30, color=\"cadetblue\")"
   ]
  },
  {
   "cell_type": "code",
   "execution_count": null,
   "metadata": {},
   "outputs": [],
   "source": []
  },
  {
   "cell_type": "markdown",
   "metadata": {},
   "source": [
    "### Testing filtering parameters"
   ]
  },
  {
   "cell_type": "code",
   "execution_count": 10,
   "metadata": {},
   "outputs": [
    {
     "data": {
      "text/plain": [
       "(array([5493., 3239., 2367., 2029., 1491., 1798., 1244., 1091., 1005.,\n",
       "         838.,  517.,  665.,  657.,  422.,  715.,  387.,  350.,  376.,\n",
       "         317.,  164.,  105.,  134.,  200.,  135.,  156.,   91.,  157.,\n",
       "          96.,  140.,  346.]),\n",
       " array([1.41035236e-04, 3.34696674e-02, 6.67982996e-02, 1.00126932e-01,\n",
       "        1.33455564e-01, 1.66784196e-01, 2.00112828e-01, 2.33441460e-01,\n",
       "        2.66770093e-01, 3.00098725e-01, 3.33427357e-01, 3.66755989e-01,\n",
       "        4.00084621e-01, 4.33413253e-01, 4.66741885e-01, 5.00070518e-01,\n",
       "        5.33399150e-01, 5.66727782e-01, 6.00056414e-01, 6.33385046e-01,\n",
       "        6.66713678e-01, 7.00042311e-01, 7.33370943e-01, 7.66699575e-01,\n",
       "        8.00028207e-01, 8.33356839e-01, 8.66685471e-01, 9.00014104e-01,\n",
       "        9.33342736e-01, 9.66671368e-01, 1.00000000e+00]),\n",
       " <BarContainer object of 30 artists>)"
      ]
     },
     "execution_count": 10,
     "metadata": {},
     "output_type": "execute_result"
    },
    {
     "data": {
      "image/png": "[encoded data removed]",
      "text/plain": [
       "<Figure size 432x288 with 1 Axes>"
      ]
     },
     "metadata": {
      "needs_background": "light"
     },
     "output_type": "display_data"
    }
   ],
   "source": [
    "plt.hist(tb['Ligand derived specificity of average expression value'], bins=30, color='purple')"
   ]
  },
  {
   "cell_type": "code",
   "execution_count": 11,
   "metadata": {},
   "outputs": [],
   "source": [
    "tb_fi = tb[tb['Ligand derived specificity of average expression value'] >= 0.3] "
   ]
  },
  {
   "cell_type": "code",
   "execution_count": 12,
   "metadata": {},
   "outputs": [
    {
     "data": {
      "text/plain": [
       "(6993, 14)"
      ]
     },
     "execution_count": 12,
     "metadata": {},
     "output_type": "execute_result"
    }
   ],
   "source": [
    "tb_fi.shape"
   ]
  },
  {
   "cell_type": "code",
   "execution_count": 13,
   "metadata": {},
   "outputs": [],
   "source": [
    "tb_fi = tb_fi[tb_fi['Receptor derived specificity of average expression value'] >= 0.3] "
   ]
  },
  {
   "cell_type": "code",
   "execution_count": 14,
   "metadata": {},
   "outputs": [
    {
     "data": {
      "text/plain": [
       "(1800, 14)"
      ]
     },
     "execution_count": 14,
     "metadata": {},
     "output_type": "execute_result"
    }
   ],
   "source": [
    "tb_fi.shape"
   ]
  },
  {
   "cell_type": "code",
   "execution_count": 15,
   "metadata": {},
   "outputs": [],
   "source": [
    "log10cutoff = -1"
   ]
  },
  {
   "cell_type": "code",
   "execution_count": 16,
   "metadata": {},
   "outputs": [],
   "source": [
    "# retain edges only having log10'Edge average expression derived specificity' superior to cutoff"
   ]
  },
  {
   "cell_type": "code",
   "execution_count": 17,
   "metadata": {},
   "outputs": [],
   "source": [
    "tb_fi['log10edge_derived_specif'] = np.log10(tb_fi['Edge average expression derived specificity'])"
   ]
  },
  {
   "cell_type": "code",
   "execution_count": 18,
   "metadata": {},
   "outputs": [],
   "source": [
    "tb_fi = tb_fi[tb_fi[\"log10edge_derived_specif\"] >= log10cutoff ]"
   ]
  },
  {
   "cell_type": "code",
   "execution_count": 19,
   "metadata": {},
   "outputs": [
    {
     "data": {
      "text/plain": [
       "(1786, 15)"
      ]
     },
     "execution_count": 19,
     "metadata": {},
     "output_type": "execute_result"
    }
   ],
   "source": [
    "tb_fi.shape"
   ]
  },
  {
   "cell_type": "markdown",
   "metadata": {},
   "source": [
    "<div class=\"alert alert-block alert-warning\">\n",
    "<b>Note:</b>  cutoff on edges did not filter anything, filter on specificity on nodes was enough\n",
    "</div>"
   ]
  },
  {
   "cell_type": "code",
   "execution_count": 20,
   "metadata": {},
   "outputs": [
    {
     "data": {
      "text/plain": [
       "(array([ 32.,  41.,  63.,  64.,  98.,  90., 102., 109., 123., 109., 107.,\n",
       "        112.,  96., 107.,  94.,  80.,  74.,  46.,  35.,  42.,  36.,  22.,\n",
       "         22.,  18.,  15.,  17.,  17.,   2.,   7.,   6.]),\n",
       " array([-0.99604299, -0.96284156, -0.92964013, -0.89643869, -0.86323726,\n",
       "        -0.83003583, -0.7968344 , -0.76363296, -0.73043153, -0.6972301 ,\n",
       "        -0.66402866, -0.63082723, -0.5976258 , -0.56442436, -0.53122293,\n",
       "        -0.4980215 , -0.46482006, -0.43161863, -0.3984172 , -0.36521576,\n",
       "        -0.33201433, -0.2988129 , -0.26561147, -0.23241003, -0.1992086 ,\n",
       "        -0.16600717, -0.13280573, -0.0996043 , -0.06640287, -0.03320143,\n",
       "         0.        ]),\n",
       " <BarContainer object of 30 artists>)"
      ]
     },
     "execution_count": 20,
     "metadata": {},
     "output_type": "execute_result"
    },
    {
     "data": {
      "image/png": "[encoded data removed]",
      "text/plain": [
       "<Figure size 432x288 with 1 Axes>"
      ]
     },
     "metadata": {
      "needs_background": "light"
     },
     "output_type": "display_data"
    }
   ],
   "source": [
    "plt.hist(np.log10(np.array(tb_fi['Edge average expression derived specificity'])), bins= 30, color=\"orange\")"
   ]
  },
  {
   "cell_type": "code",
   "execution_count": 21,
   "metadata": {},
   "outputs": [],
   "source": [
    "celltycolors = {'FAPs':'#5F9EA0' , 'sCs': '#DFC27D' , 'M1': '#13306db2', \n",
    "                   'M2': '#E66101', 'Neutro': '#73D055FF', 'ECs': '#b8627db2'}"
   ]
  },
  {
   "cell_type": "code",
   "execution_count": 22,
   "metadata": {},
   "outputs": [],
   "source": [
    "# make graph: \n",
    "Go2 = nx.DiGraph()\n",
    "for index,row in tb_fi.iterrows():\n",
    "    nodefrom = row['uniq_Ligand_symbol']\n",
    "    nodeto = row['uniq_Receptor_symbol']\n",
    "    celltypefrom = row['Sending cluster']\n",
    "    celltypeto = row['Target cluster']\n",
    "    Go2.add_node(nodefrom,\n",
    "                nodetype = 'sender',\n",
    "                celltype = celltypefrom,\n",
    "                genesym = row['Ligand symbol'],\n",
    "                color = celltycolors[celltypefrom],\n",
    "                averagexp = row['Ligand average expression value'])\n",
    "    Go2.add_node(nodeto,\n",
    "                nodetype = 'receiver',\n",
    "                celltype = celltypeto, \n",
    "                genesym = row['Receptor symbol'],\n",
    "                color = celltycolors[celltypeto],\n",
    "                averagexp = row['Receptor average expression value'])\n",
    "    Go2.add_edge(nodefrom,nodeto, origtype = nodefrom,\n",
    "                ecolor = celltycolors[celltypefrom],\n",
    "                weight = row['Edge average expression derived specificity'])  ## NEW !!\n",
    "    ### pay attention: weight has been changed to specificity !!!!"
   ]
  },
  {
   "cell_type": "code",
   "execution_count": 23,
   "metadata": {},
   "outputs": [],
   "source": [
    "nodes = Go2.nodes()"
   ]
  },
  {
   "cell_type": "code",
   "execution_count": 24,
   "metadata": {},
   "outputs": [
    {
     "data": {
      "text/plain": [
       "988"
      ]
     },
     "execution_count": 24,
     "metadata": {},
     "output_type": "execute_result"
    }
   ],
   "source": [
    "len(nodes)"
   ]
  },
  {
   "cell_type": "code",
   "execution_count": 25,
   "metadata": {},
   "outputs": [
    {
     "data": {
      "text/plain": [
       "1786"
      ]
     },
     "execution_count": 25,
     "metadata": {},
     "output_type": "execute_result"
    }
   ],
   "source": [
    "edges = Go2.edges()\n",
    "len(edges)"
   ]
  },
  {
   "cell_type": "code",
   "execution_count": 26,
   "metadata": {},
   "outputs": [],
   "source": [
    "# transform into undirected graph to extract connected components \n",
    "uG = nx.Graph(Go2)"
   ]
  },
  {
   "cell_type": "code",
   "execution_count": 27,
   "metadata": {},
   "outputs": [],
   "source": [
    "maxconncomp = sorted(nx.connected_components(uG), key=len, reverse=True)"
   ]
  },
  {
   "cell_type": "code",
   "execution_count": 28,
   "metadata": {},
   "outputs": [
    {
     "name": "stdout",
     "output_type": "stream",
     "text": [
      "710\n",
      "19\n",
      "10\n",
      "9\n",
      "8\n",
      "7\n",
      "6\n",
      "6\n",
      "6\n",
      "6\n"
     ]
    }
   ],
   "source": [
    "for i in range(10):\n",
    "    print(len(maxconncomp[i]))"
   ]
  },
  {
   "cell_type": "code",
   "execution_count": 29,
   "metadata": {},
   "outputs": [
    {
     "name": "stdout",
     "output_type": "stream",
     "text": [
      "<class 'set'>\n"
     ]
    }
   ],
   "source": [
    "print(type(maxconncomp[4]))\n",
    "    \n",
    "    "
   ]
  },
  {
   "cell_type": "markdown",
   "metadata": {},
   "source": [
    "## take minimal graph example to transfer into igraph object"
   ]
  },
  {
   "cell_type": "code",
   "execution_count": 30,
   "metadata": {},
   "outputs": [],
   "source": [
    "minigraph = Go2.subgraph(maxconncomp[2])  # taking the third one, is small only 10 vertices"
   ]
  },
  {
   "cell_type": "code",
   "execution_count": 31,
   "metadata": {},
   "outputs": [
    {
     "data": {
      "text/plain": [
       "OutEdgeView([('Ptprc_M1', 'Cd22_M1'), ('Ptprc_M1', 'Cd22_M2'), ('Ptprc_M1', 'Mrc1_M1'), ('Ptprc_M1', 'Mrc1_M2'), ('Cd22_M1', 'Ptprc_M1'), ('Cd22_M1', 'Ptprc_M2'), ('Cd22_M2', 'Ptprc_M1'), ('Cd22_M2', 'Ptprc_M2'), ('Lgals1_FAPs', 'Ptprc_M1'), ('Lgals1_FAPs', 'Ptprc_M2'), ('Lgals1_FAPs', 'Cd69_M1'), ('Lgals1_FAPs', 'Cd69_M2'), ('Ptprc_M2', 'Cd22_M1'), ('Ptprc_M2', 'Cd22_M2'), ('Ptprc_M2', 'Mrc1_M1'), ('Ptprc_M2', 'Mrc1_M2'), ('Myl9_sCs', 'Cd69_M1'), ('Myl9_sCs', 'Cd69_M2'), ('Mrc1_M2', 'Ptprc_M1'), ('Mrc1_M2', 'Ptprc_M2'), ('Mrc1_M1', 'Ptprc_M1'), ('Mrc1_M1', 'Ptprc_M2')])"
      ]
     },
     "execution_count": 31,
     "metadata": {},
     "output_type": "execute_result"
    }
   ],
   "source": [
    "minigraph.edges()"
   ]
  },
  {
   "cell_type": "code",
   "execution_count": 32,
   "metadata": {},
   "outputs": [],
   "source": [
    "import igraph as ig"
   ]
  },
  {
   "cell_type": "code",
   "execution_count": 33,
   "metadata": {},
   "outputs": [],
   "source": [
    "mini_igr = ig.Graph.from_networkx(minigraph)"
   ]
  },
  {
   "cell_type": "code",
   "execution_count": 34,
   "metadata": {},
   "outputs": [
    {
     "data": {
      "text/plain": [
       "<igraph.Graph at 0x7f16528fa400>"
      ]
     },
     "execution_count": 34,
     "metadata": {},
     "output_type": "execute_result"
    }
   ],
   "source": [
    "mini_igr"
   ]
  },
  {
   "cell_type": "code",
   "execution_count": 35,
   "metadata": {},
   "outputs": [
    {
     "name": "stdout",
     "output_type": "stream",
     "text": [
      "igraph.Vertex(<igraph.Graph object at 0x7f16528fa400>, 0, {'_nx_name': 'Ptprc_M1', 'nodetype': 'receiver', 'celltype': 'M1', 'genesym': 'Ptprc', 'color': '#13306db2', 'averagexp': 236.563113})\n",
      "igraph.Vertex(<igraph.Graph object at 0x7f16528fa400>, 1, {'_nx_name': 'Cd22_M1', 'nodetype': 'sender', 'celltype': 'M1', 'genesym': 'Cd22', 'color': '#13306db2', 'averagexp': 6.090704})\n",
      "igraph.Vertex(<igraph.Graph object at 0x7f16528fa400>, 2, {'_nx_name': 'Cd22_M2', 'nodetype': 'sender', 'celltype': 'M2', 'genesym': 'Cd22', 'color': '#E66101', 'averagexp': 9.579525333333336})\n",
      "igraph.Vertex(<igraph.Graph object at 0x7f16528fa400>, 3, {'_nx_name': 'Cd69_M2', 'nodetype': 'receiver', 'celltype': 'M2', 'genesym': 'Cd69', 'color': '#E66101', 'averagexp': 18.75506266666667})\n",
      "igraph.Vertex(<igraph.Graph object at 0x7f16528fa400>, 4, {'_nx_name': 'Lgals1_FAPs', 'nodetype': 'sender', 'celltype': 'FAPs', 'genesym': 'Lgals1', 'color': '#5F9EA0', 'averagexp': 258.83589166666667})\n",
      "igraph.Vertex(<igraph.Graph object at 0x7f16528fa400>, 5, {'_nx_name': 'Ptprc_M2', 'nodetype': 'receiver', 'celltype': 'M2', 'genesym': 'Ptprc', 'color': '#E66101', 'averagexp': 335.36508166666664})\n",
      "igraph.Vertex(<igraph.Graph object at 0x7f16528fa400>, 6, {'_nx_name': 'Myl9_sCs', 'nodetype': 'sender', 'celltype': 'sCs', 'genesym': 'Myl9', 'color': '#DFC27D', 'averagexp': 58.74972150000001})\n",
      "igraph.Vertex(<igraph.Graph object at 0x7f16528fa400>, 7, {'_nx_name': 'Cd69_M1', 'nodetype': 'receiver', 'celltype': 'M1', 'genesym': 'Cd69', 'color': '#13306db2', 'averagexp': 10.87028266666667})\n",
      "igraph.Vertex(<igraph.Graph object at 0x7f16528fa400>, 8, {'_nx_name': 'Mrc1_M2', 'nodetype': 'sender', 'celltype': 'M2', 'genesym': 'Mrc1', 'color': '#E66101', 'averagexp': 159.48296366666668})\n",
      "igraph.Vertex(<igraph.Graph object at 0x7f16528fa400>, 9, {'_nx_name': 'Mrc1_M1', 'nodetype': 'sender', 'celltype': 'M1', 'genesym': 'Mrc1', 'color': '#13306db2', 'averagexp': 174.56698633333332})\n"
     ]
    }
   ],
   "source": [
    "for ele in mini_igr.vs:\n",
    "    print(ele)\n",
    "# igraph.Vertex(<igraph.Graph object at 0x7f917883b5e0>, 0, \n",
    "# {'_nx_name': 'Cd22_M2', 'nodetype': 'sender', 'celltype': 'M2',\n",
    "#'genesym': 'Cd22', 'color': '#E66101', 'averagexp': 8.91760664792547})"
   ]
  },
  {
   "cell_type": "code",
   "execution_count": 36,
   "metadata": {
    "scrolled": true
   },
   "outputs": [
    {
     "name": "stdout",
     "output_type": "stream",
     "text": [
      "igraph.Edge(<igraph.Graph object at 0x7f16528fa400>, 0, {'origtype': 'Ptprc_M1', 'ecolor': '#13306db2', 'weight': 0.1593938855116515})\n",
      "igraph.Edge(<igraph.Graph object at 0x7f16528fa400>, 1, {'origtype': 'Ptprc_M1', 'ecolor': '#13306db2', 'weight': 0.2506964325039107})\n",
      "igraph.Edge(<igraph.Graph object at 0x7f16528fa400>, 2, {'origtype': 'Ptprc_M1', 'ecolor': '#13306db2', 'weight': 0.2140773959844077})\n",
      "igraph.Edge(<igraph.Graph object at 0x7f16528fa400>, 3, {'origtype': 'Ptprc_M1', 'ecolor': '#13306db2', 'weight': 0.1955793491241396})\n",
      "igraph.Edge(<igraph.Graph object at 0x7f16528fa400>, 4, {'origtype': 'Cd22_M1', 'ecolor': '#13306db2', 'weight': 0.1593938855116515})\n",
      "igraph.Edge(<igraph.Graph object at 0x7f16528fa400>, 5, {'origtype': 'Cd22_M1', 'ecolor': '#13306db2', 'weight': 0.22596567467296697})\n",
      "igraph.Edge(<igraph.Graph object at 0x7f16528fa400>, 6, {'origtype': 'Cd22_M2', 'ecolor': '#E66101', 'weight': 0.2506964325039107})\n",
      "igraph.Edge(<igraph.Graph object at 0x7f16528fa400>, 7, {'origtype': 'Cd22_M2', 'ecolor': '#E66101', 'weight': 0.3554012647788246})\n",
      "igraph.Edge(<igraph.Graph object at 0x7f16528fa400>, 8, {'origtype': 'Lgals1_FAPs', 'ecolor': '#5F9EA0', 'weight': 0.1295447663939726})\n",
      "igraph.Edge(<igraph.Graph object at 0x7f16528fa400>, 9, {'origtype': 'Lgals1_FAPs', 'ecolor': '#5F9EA0', 'weight': 0.1836498962592019})\n",
      "igraph.Edge(<igraph.Graph object at 0x7f16528fa400>, 10, {'origtype': 'Lgals1_FAPs', 'ecolor': '#5F9EA0', 'weight': 0.1143575180621176})\n",
      "igraph.Edge(<igraph.Graph object at 0x7f16528fa400>, 11, {'origtype': 'Lgals1_FAPs', 'ecolor': '#5F9EA0', 'weight': 0.1973069591130669})\n",
      "igraph.Edge(<igraph.Graph object at 0x7f16528fa400>, 12, {'origtype': 'Ptprc_M2', 'ecolor': '#E66101', 'weight': 0.22596567467296697})\n",
      "igraph.Edge(<igraph.Graph object at 0x7f16528fa400>, 13, {'origtype': 'Ptprc_M2', 'ecolor': '#E66101', 'weight': 0.3554012647788246})\n",
      "igraph.Edge(<igraph.Graph object at 0x7f16528fa400>, 14, {'origtype': 'Ptprc_M2', 'ecolor': '#E66101', 'weight': 0.3034880733383747})\n",
      "igraph.Edge(<igraph.Graph object at 0x7f16528fa400>, 15, {'origtype': 'Ptprc_M2', 'ecolor': '#E66101', 'weight': 0.2772642089442346})\n",
      "igraph.Edge(<igraph.Graph object at 0x7f16528fa400>, 16, {'origtype': 'Myl9_sCs', 'ecolor': '#DFC27D', 'weight': 0.2865552879637657})\n",
      "igraph.Edge(<igraph.Graph object at 0x7f16528fa400>, 17, {'origtype': 'Myl9_sCs', 'ecolor': '#DFC27D', 'weight': 0.4944087056452935})\n",
      "igraph.Edge(<igraph.Graph object at 0x7f16528fa400>, 18, {'origtype': 'Mrc1_M2', 'ecolor': '#E66101', 'weight': 0.1955793491241396})\n",
      "igraph.Edge(<igraph.Graph object at 0x7f16528fa400>, 19, {'origtype': 'Mrc1_M2', 'ecolor': '#E66101', 'weight': 0.2772642089442346})\n",
      "igraph.Edge(<igraph.Graph object at 0x7f16528fa400>, 20, {'origtype': 'Mrc1_M1', 'ecolor': '#13306db2', 'weight': 0.2140773959844077})\n",
      "igraph.Edge(<igraph.Graph object at 0x7f16528fa400>, 21, {'origtype': 'Mrc1_M1', 'ecolor': '#13306db2', 'weight': 0.3034880733383747})\n"
     ]
    }
   ],
   "source": [
    "for edge in mini_igr.es:\n",
    "    print(edge)"
   ]
  },
  {
   "cell_type": "code",
   "execution_count": 37,
   "metadata": {},
   "outputs": [],
   "source": [
    "#layout = mini_igr.layout()\n",
    "#ig.plot(mini_igr, layout=layout)  ## error: plotting not available"
   ]
  },
  {
   "cell_type": "code",
   "execution_count": 38,
   "metadata": {},
   "outputs": [],
   "source": [
    "#save to file\n",
    "mini_igr.write_graphml(\"myminigraph.ml\")"
   ]
  },
  {
   "cell_type": "code",
   "execution_count": 39,
   "metadata": {},
   "outputs": [],
   "source": [
    "# now try Shiny R app with that object !!!"
   ]
  }
 ],
 "metadata": {
  "kernelspec": {
   "display_name": ".venv",
   "language": "python",
   "name": ".venv"
  },
  "language_info": {
   "codemirror_mode": {
    "name": "ipython",
    "version": 3
   },
   "file_extension": ".py",
   "mimetype": "text/x-python",
   "name": "python",
   "nbconvert_exporter": "python",
   "pygments_lexer": "ipython3",
   "version": "3.8.6"
  }
 },
 "nbformat": 4,
 "nbformat_minor": 4
}
