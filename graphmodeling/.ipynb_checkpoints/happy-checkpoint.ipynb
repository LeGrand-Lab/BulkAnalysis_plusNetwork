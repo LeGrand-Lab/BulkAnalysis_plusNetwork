{
 "cells": [
  {
   "cell_type": "code",
   "execution_count": 31,
   "metadata": {},
   "outputs": [],
   "source": [
    "import os\n",
    "import numpy as np\n",
    "import matplotlib as mpl\n",
    "import matplotlib.pyplot as plt\n",
    "#import holoviews\n",
    "import pygraphviz\n",
    "import networkx as nx\n",
    "import pandas as pd\n",
    "import matplotlib.patches as mpatches\n",
    "from scipy import stats"
   ]
  },
  {
   "cell_type": "code",
   "execution_count": 32,
   "metadata": {},
   "outputs": [],
   "source": [
    "import pylab as pyl"
   ]
  },
  {
   "cell_type": "code",
   "execution_count": 33,
   "metadata": {},
   "outputs": [],
   "source": [
    "class LRinfos:  \n",
    "    \"\"\"\n",
    "    class to handle  Natmi dataframe results\n",
    "    one object by result ! \n",
    "    to create object, predf is needed (the Edges opened with pandas csv)\n",
    "    use 'frame' attribute to get dataframe suitable for graph conversion\n",
    "    \"\"\"\n",
    "    def __init__(self, age, day, predf):\n",
    "        self.age = age\n",
    "        self.day = day\n",
    "        self.predf  = predf\n",
    "        self.makeunique_symbo_cellty()\n",
    "        self.about = f\"object age {age}, day {day}, use 'frame' attribute for more!\"\n",
    "        \n",
    "    def makeunique_symbo_cellty(self):\n",
    "        otab = self.predf\n",
    "        otab['uniq_Ligand_symbol'] = otab['Ligand symbol'] + '_' + otab['Sending cluster']\n",
    "        otab['uniq_Receptor_symbol'] = otab['Receptor symbol'] + '_' + otab['Target cluster']\n",
    "        self.frame = otab       \n",
    "           "
   ]
  },
  {
   "cell_type": "code",
   "execution_count": 34,
   "metadata": {},
   "outputs": [],
   "source": [
    "ages = [ 'Young', 'Old']\n",
    "days = ['D0', 'D2', 'D4', 'D7']     "
   ]
  },
  {
   "cell_type": "markdown",
   "metadata": {},
   "source": [
    "<div class=\"alert alert-info\">\n",
    "  <strong>Network files : </strong>\n",
    "    <p></p>\n",
    "     These tab delimited dataframe files are named identically, see variable: \n",
    "      <p style=\"font-family:'Lucida Console', monospace\">deffilename</p>\n",
    "        So, what distinguishes Networks is folder location, folder location has age and day !!!\n",
    "</div> "
   ]
  },
  {
   "cell_type": "code",
   "execution_count": 35,
   "metadata": {},
   "outputs": [
    {
     "name": "stdout",
     "output_type": "stream",
     "text": [
      "/home/johanna/BulkAnalysis_plusNetwork/graphmodeling\n"
     ]
    },
    {
     "data": {
      "text/html": [
       "<div>\n",
       "<style scoped>\n",
       "    .dataframe tbody tr th:only-of-type {\n",
       "        vertical-align: middle;\n",
       "    }\n",
       "\n",
       "    .dataframe tbody tr th {\n",
       "        vertical-align: top;\n",
       "    }\n",
       "\n",
       "    .dataframe thead th {\n",
       "        text-align: right;\n",
       "    }\n",
       "</style>\n",
       "<table border=\"1\" class=\"dataframe\">\n",
       "  <thead>\n",
       "    <tr style=\"text-align: right;\">\n",
       "      <th></th>\n",
       "      <th>Sending cluster</th>\n",
       "      <th>Ligand symbol</th>\n",
       "      <th>Receptor symbol</th>\n",
       "      <th>Target cluster</th>\n",
       "      <th>Ligand detection rate</th>\n",
       "      <th>Ligand average expression value</th>\n",
       "      <th>Ligand derived specificity of average expression value</th>\n",
       "      <th>Receptor detection rate</th>\n",
       "      <th>Receptor average expression value</th>\n",
       "      <th>Receptor derived specificity of average expression value</th>\n",
       "      <th>Edge average expression weight</th>\n",
       "      <th>Edge average expression derived specificity</th>\n",
       "    </tr>\n",
       "  </thead>\n",
       "  <tbody>\n",
       "    <tr>\n",
       "      <th>0</th>\n",
       "      <td>FAPs</td>\n",
       "      <td>Agt</td>\n",
       "      <td>Mas1</td>\n",
       "      <td>ECs</td>\n",
       "      <td>1.0</td>\n",
       "      <td>1.761114</td>\n",
       "      <td>0.927754</td>\n",
       "      <td>1.0</td>\n",
       "      <td>0.793632</td>\n",
       "      <td>0.17806</td>\n",
       "      <td>1.397677</td>\n",
       "      <td>0.165196</td>\n",
       "    </tr>\n",
       "  </tbody>\n",
       "</table>\n",
       "</div>"
      ],
      "text/plain": [
       "  Sending cluster Ligand symbol Receptor symbol Target cluster  \\\n",
       "0            FAPs           Agt            Mas1            ECs   \n",
       "\n",
       "   Ligand detection rate  Ligand average expression value  \\\n",
       "0                    1.0                         1.761114   \n",
       "\n",
       "   Ligand derived specificity of average expression value  \\\n",
       "0                                           0.927754        \n",
       "\n",
       "   Receptor detection rate  Receptor average expression value  \\\n",
       "0                      1.0                           0.793632   \n",
       "\n",
       "   Receptor derived specificity of average expression value  \\\n",
       "0                                            0.17806          \n",
       "\n",
       "   Edge average expression weight  Edge average expression derived specificity  \n",
       "0                        1.397677                                     0.165196  "
      ]
     },
     "execution_count": 35,
     "metadata": {},
     "output_type": "execute_result"
    }
   ],
   "source": [
    "\"\"\"\n",
    "Network files are named identically (deffilename) , BUT : \n",
    "what distinguishes Networks is folder location, folder location has age and day !!!\n",
    "\"\"\"\n",
    "indatadir = \"~/BulkAnalysis_plusNetwork/natmiOut/\"\n",
    "outdir =  \"~/BulkAnalysis_plusNetwork/graphobs/\"\n",
    "print(os.getcwd())\n",
    "deffilename = 'Network_exp_0_spe_0_det_0.6_top_0_signal_lrc2p_weight_mean/'\n",
    "\n",
    "# example opening a file: \n",
    "old_D7 = pd.read_csv(f'{indatadir}OldD7/{deffilename}Edges.csv',sep=\",\", header=0) \n",
    "old_D7.head(1)"
   ]
  },
  {
   "cell_type": "code",
   "execution_count": 36,
   "metadata": {},
   "outputs": [],
   "source": [
    "\"\"\"\n",
    "all LRinfos objects are stocked in dictionnary\n",
    "\"\"\"\n",
    "lr = {}      \n",
    "for i in ages:\n",
    "    lr[i] = {}\n",
    "    for j in days:   \n",
    "        predf = pd.read_csv(f'{indatadir}{i}{j}/{deffilename}Edges.csv',sep=\",\", header=0)  \n",
    "        myob = LRinfos(i, j, predf)\n",
    "        lr[i][j] = myob      "
   ]
  },
  {
   "cell_type": "code",
   "execution_count": 37,
   "metadata": {},
   "outputs": [
    {
     "name": "stdout",
     "output_type": "stream",
     "text": [
      "object age Young, day D2, use 'frame' attribute for more!\n"
     ]
    }
   ],
   "source": [
    "print(lr['Young']['D2'].about)"
   ]
  },
  {
   "cell_type": "code",
   "execution_count": 39,
   "metadata": {
    "scrolled": true
   },
   "outputs": [
    {
     "data": {
      "text/html": [
       "<div>\n",
       "<style scoped>\n",
       "    .dataframe tbody tr th:only-of-type {\n",
       "        vertical-align: middle;\n",
       "    }\n",
       "\n",
       "    .dataframe tbody tr th {\n",
       "        vertical-align: top;\n",
       "    }\n",
       "\n",
       "    .dataframe thead th {\n",
       "        text-align: right;\n",
       "    }\n",
       "</style>\n",
       "<table border=\"1\" class=\"dataframe\">\n",
       "  <thead>\n",
       "    <tr style=\"text-align: right;\">\n",
       "      <th></th>\n",
       "      <th>Sending cluster</th>\n",
       "      <th>Ligand symbol</th>\n",
       "      <th>Receptor symbol</th>\n",
       "      <th>Target cluster</th>\n",
       "      <th>Ligand detection rate</th>\n",
       "      <th>Ligand average expression value</th>\n",
       "      <th>Ligand derived specificity of average expression value</th>\n",
       "      <th>Receptor detection rate</th>\n",
       "      <th>Receptor average expression value</th>\n",
       "      <th>Receptor derived specificity of average expression value</th>\n",
       "      <th>Edge average expression weight</th>\n",
       "      <th>Edge average expression derived specificity</th>\n",
       "      <th>uniq_Ligand_symbol</th>\n",
       "      <th>uniq_Receptor_symbol</th>\n",
       "    </tr>\n",
       "  </thead>\n",
       "  <tbody>\n",
       "    <tr>\n",
       "      <th>0</th>\n",
       "      <td>sCs</td>\n",
       "      <td>Agt</td>\n",
       "      <td>Mas1</td>\n",
       "      <td>ECs</td>\n",
       "      <td>1.0</td>\n",
       "      <td>0.544434</td>\n",
       "      <td>0.757238</td>\n",
       "      <td>1.0</td>\n",
       "      <td>0.595223</td>\n",
       "      <td>0.32514</td>\n",
       "      <td>0.32406</td>\n",
       "      <td>0.246209</td>\n",
       "      <td>Agt_sCs</td>\n",
       "      <td>Mas1_ECs</td>\n",
       "    </tr>\n",
       "  </tbody>\n",
       "</table>\n",
       "</div>"
      ],
      "text/plain": [
       "  Sending cluster Ligand symbol Receptor symbol Target cluster  \\\n",
       "0             sCs           Agt            Mas1            ECs   \n",
       "\n",
       "   Ligand detection rate  Ligand average expression value  \\\n",
       "0                    1.0                         0.544434   \n",
       "\n",
       "   Ligand derived specificity of average expression value  \\\n",
       "0                                           0.757238        \n",
       "\n",
       "   Receptor detection rate  Receptor average expression value  \\\n",
       "0                      1.0                           0.595223   \n",
       "\n",
       "   Receptor derived specificity of average expression value  \\\n",
       "0                                            0.32514          \n",
       "\n",
       "   Edge average expression weight  \\\n",
       "0                         0.32406   \n",
       "\n",
       "   Edge average expression derived specificity uniq_Ligand_symbol  \\\n",
       "0                                     0.246209            Agt_sCs   \n",
       "\n",
       "  uniq_Receptor_symbol  \n",
       "0             Mas1_ECs  "
      ]
     },
     "execution_count": 39,
     "metadata": {},
     "output_type": "execute_result"
    }
   ],
   "source": [
    "lr['Young']['D2'].frame.head(1)"
   ]
  },
  {
   "cell_type": "code",
   "execution_count": 97,
   "metadata": {},
   "outputs": [
    {
     "data": {
      "text/plain": [
       "1.0"
      ]
     },
     "execution_count": 97,
     "metadata": {},
     "output_type": "execute_result"
    }
   ],
   "source": [
    "max(lr['Old']['D0'].frame['Edge average expression derived specificity'])"
   ]
  },
  {
   "cell_type": "code",
   "execution_count": 98,
   "metadata": {},
   "outputs": [],
   "source": [
    "ttmp = lr['Old']['D0'].frame\n",
    "filterere = ttmp.loc[ttmp['Ligand average expression value'] > 100]"
   ]
  },
  {
   "cell_type": "code",
   "execution_count": 99,
   "metadata": {},
   "outputs": [
    {
     "name": "stdout",
     "output_type": "stream",
     "text": [
      "((8038, 14), (758, 14))\n"
     ]
    }
   ],
   "source": [
    "def filterOutZeroEdges(mypandasdf):\n",
    "    return"
   ]
  },
  {
   "cell_type": "code",
   "execution_count": null,
   "metadata": {},
   "outputs": [],
   "source": [
    "for age in ages:\n",
    "    for day in days:\n",
    "        tmptofilt = lr[age][day].frame\n",
    "        "
   ]
  },
  {
   "cell_type": "code",
   "execution_count": 82,
   "metadata": {},
   "outputs": [
    {
     "data": {
      "text/plain": [
       "Text(0.5, 0.98, 'Edge specificities, log10 (x +1e-15)')"
      ]
     },
     "execution_count": 82,
     "metadata": {},
     "output_type": "execute_result"
    },
    {
     "data": {
      "image/png": "[encoded data removed]",
      "text/plain": [
       "<Figure size 1080x504 with 8 Axes>"
      ]
     },
     "metadata": {
      "needs_background": "light"
     },
     "output_type": "display_data"
    }
   ],
   "source": [
    "\"\"\" plotting edge specificities \"\"\"\n",
    "num_added = 0.000000000000001\n",
    "x = np.linspace(0, 2 * np.pi, 400)\n",
    "y = np.sin(x ** 2)\n",
    "histocols = ['green','orange']\n",
    "fig, axs = plt.subplots(2, 4, figsize=(15,7))\n",
    "for rawi in range(2):\n",
    "    AGE = ages[rawi]\n",
    "    for coli in range(4):\n",
    "        DAY = days[coli]\n",
    "        tmpvec = lr[AGE][DAY].frame['Edge average expression derived specificity']        \n",
    "        axs[rawi, coli].hist(np.log10(np.array(tmpvec)+num_added),\n",
    "                            color=histocols[rawi], bins=40)\n",
    "        axs[rawi, coli].set_title(f'{ages[rawi]} {days[coli]}')\n",
    "        \n",
    "\n",
    "for ax in axs.flat:\n",
    "    ax.set(xlabel='log10 values', ylabel='n')\n",
    "\n",
    "# Hide x labels and tick labels for top plots and y ticks for right plots.\n",
    "for ax in axs.flat:\n",
    "    ax.label_outer()\n",
    "\n",
    "fig.suptitle(f'Edge specificities, log10 (x +{num_added})', fontsize=16)"
   ]
  },
  {
   "cell_type": "markdown",
   "metadata": {},
   "source": [
    "The closer to 1 (0 in log10 value) the more the edge is predicted to be 'specific'\n",
    "We see that most of edges specificities are concentrated between 0.1 and 0.001 (-1 and -3 in log10 value). \n",
    "These plots allowed us to know about data distribution, but we need\n",
    "to scale them to  values suitable for making graph style visualizations."
   ]
  },
  {
   "cell_type": "code",
   "execution_count": 96,
   "metadata": {},
   "outputs": [
    {
     "data": {
      "text/plain": [
       "Text(0.5, 0.98, 'Edge specificities, XXXX (x etc')"
      ]
     },
     "execution_count": 96,
     "metadata": {},
     "output_type": "execute_result"
    },
    {
     "data": {
      "image/png": "[encoded data removed]",
      "text/plain": [
       "<Figure size 1080x504 with 8 Axes>"
      ]
     },
     "metadata": {
      "needs_background": "light"
     },
     "output_type": "display_data"
    }
   ],
   "source": [
    "\"\"\" plotting scaled edge specificities \"\"\"\n",
    "\n",
    "x = np.linspace(0, 2 * np.pi, 400)\n",
    "y = np.sin(x ** 2)\n",
    "histocols = ['green','orange']\n",
    "fig, axs = plt.subplots(2, 4, figsize=(15,7))\n",
    "for rawi in range(2):\n",
    "    AGE = ages[rawi]\n",
    "    for coli in range(4):\n",
    "        DAY = days[coli]\n",
    "        tmpvec = lr[AGE][DAY].frame['Edge average expression derived specificity']        \n",
    "        axs[rawi, coli].hist(np.log10(np.array(tmpvec)+num_added)*100000,\n",
    "                            color=histocols[rawi], bins=40)\n",
    "        axs[rawi, coli].set_title(f'{ages[rawi]} {days[coli]}')\n",
    "        \n",
    "\n",
    "for ax in axs.flat:\n",
    "    ax.set(xlabel='log10 values', ylabel='n')\n",
    "\n",
    "# Hide x labels and tick labels for top plots and y ticks for right plots.\n",
    "for ax in axs.flat:\n",
    "    ax.label_outer()\n",
    "\n",
    "fig.suptitle(f'Edge specificities, XXXX (x etc', fontsize=16)"
   ]
  },
  {
   "cell_type": "code",
   "execution_count": null,
   "metadata": {},
   "outputs": [],
   "source": []
  }
 ],
 "metadata": {
  "kernelspec": {
   "display_name": ".venv3",
   "language": "python",
   "name": ".venv3"
  },
  "language_info": {
   "codemirror_mode": {
    "name": "ipython",
    "version": 3
   },
   "file_extension": ".py",
   "mimetype": "text/x-python",
   "name": "python",
   "nbconvert_exporter": "python",
   "pygments_lexer": "ipython3",
   "version": "3.8.6"
  }
 },
 "nbformat": 4,
 "nbformat_minor": 4
}
